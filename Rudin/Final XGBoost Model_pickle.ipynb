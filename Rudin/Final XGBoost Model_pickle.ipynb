{
 "cells": [
  {
   "cell_type": "code",
   "execution_count": 15,
   "metadata": {},
   "outputs": [],
   "source": [
    "import pandas as pd\n",
    "import numpy as np\n",
    "import matplotlib.pyplot as plt\n",
    "from sklearn import ensemble\n",
    "from sklearn.model_selection import GridSearchCV, RandomizedSearchCV\n",
    "from sklearn import preprocessing\n",
    "from sklearn.model_selection import train_test_split, StratifiedKFold\n",
    "from xgboost.sklearn import XGBClassifier\n",
    "import xgboost as xgb\n",
    "from sklearn import preprocessing\n",
    "from sklearn.metrics import confusion_matrix"
   ]
  },
  {
   "cell_type": "code",
   "execution_count": 16,
   "metadata": {},
   "outputs": [],
   "source": [
    "diabetic7 = pd.read_csv(\"./dataset_diabetes/diabetic7.csv\")"
   ]
  },
  {
   "cell_type": "code",
   "execution_count": 17,
   "metadata": {},
   "outputs": [
    {
     "data": {
      "text/plain": [
       "(84432, 44)"
      ]
     },
     "execution_count": 17,
     "metadata": {},
     "output_type": "execute_result"
    }
   ],
   "source": [
    "diabetic7.shape"
   ]
  },
  {
   "cell_type": "code",
   "execution_count": 18,
   "metadata": {},
   "outputs": [],
   "source": [
    "diabetic7 = diabetic7.drop(['admission_type_id'], axis=1)"
   ]
  },
  {
   "cell_type": "code",
   "execution_count": 19,
   "metadata": {},
   "outputs": [],
   "source": [
    "le = preprocessing.LabelEncoder()"
   ]
  },
  {
   "cell_type": "code",
   "execution_count": 20,
   "metadata": {},
   "outputs": [
    {
     "name": "stdout",
     "output_type": "stream",
     "text": [
      "Number of Categorical features: 28\n",
      "Number of Numerical features: 15\n"
     ]
    }
   ],
   "source": [
    "categorical = diabetic7.select_dtypes(include = [\"object\"]).columns\n",
    "numerical = diabetic7.select_dtypes(exclude = [\"object\"]).columns\n",
    "print(\"Number of Categorical features: \" + str(len(categorical)))\n",
    "print(\"Number of Numerical features: \" + str(len(numerical)))\n",
    "diabetic7_categorical = diabetic7[categorical]\n",
    "diabetic7_numerical = diabetic7[numerical]"
   ]
  },
  {
   "cell_type": "code",
   "execution_count": 21,
   "metadata": {},
   "outputs": [],
   "source": [
    "categorical= list(categorical)\n",
    "numerical = list(numerical)"
   ]
  },
  {
   "cell_type": "code",
   "execution_count": 22,
   "metadata": {},
   "outputs": [],
   "source": [
    "for i in categorical:\n",
    "    diabetic7[i] = le.fit_transform(diabetic7[i])"
   ]
  },
  {
   "cell_type": "code",
   "execution_count": 23,
   "metadata": {},
   "outputs": [],
   "source": [
    "answer = diabetic7['target']\n",
    "diabetic7 = diabetic7.drop(['target'], axis=1)"
   ]
  },
  {
   "cell_type": "code",
   "execution_count": 24,
   "metadata": {},
   "outputs": [
    {
     "name": "stdout",
     "output_type": "stream",
     "text": [
      "X_train : (59102, 42)\n",
      "X_test : (25330, 42)\n",
      "y_train : (59102,)\n",
      "y_test : (25330,)\n"
     ]
    }
   ],
   "source": [
    "#divide the dataset into train/test 7:3?\n",
    "X_train, X_test, y_train, y_test = train_test_split(diabetic7, answer, test_size = 0.3, random_state = 0, stratify=answer, shuffle=True)\n",
    "print(\"X_train : \" + str(X_train.shape))\n",
    "print(\"X_test : \" + str(X_test.shape))\n",
    "print(\"y_train : \" + str(y_train.shape))\n",
    "print(\"y_test : \" + str(y_test.shape))"
   ]
  },
  {
   "cell_type": "code",
   "execution_count": 83,
   "metadata": {},
   "outputs": [],
   "source": [
    "bestparam = {'colsample_bytree': 0.6,\n",
    " 'gamma': 0.8,\n",
    " 'max_depth': 5,\n",
    " 'min_child_weight': 7,\n",
    " 'min_samples_leaf': 1,\n",
    " 'min_samples_split': 4,\n",
    " 'n_estimators': 280,\n",
    " 'njobs': -1,\n",
    " 'reg_alpha': 0.4,\n",
    " 'scale_pos_weight': 9,\n",
    " 'subsample': 0.9}"
   ]
  },
  {
   "cell_type": "code",
   "execution_count": 84,
   "metadata": {},
   "outputs": [
    {
     "name": "stdout",
     "output_type": "stream",
     "text": [
      "[0]\tvalidation_0-auc:0.56602\n",
      "Will train until validation_0-auc hasn't improved in 20 rounds.\n",
      "[1]\tvalidation_0-auc:0.619601\n",
      "[2]\tvalidation_0-auc:0.630656\n",
      "[3]\tvalidation_0-auc:0.64927\n",
      "[4]\tvalidation_0-auc:0.655194\n",
      "[5]\tvalidation_0-auc:0.65673\n",
      "[6]\tvalidation_0-auc:0.656228\n",
      "[7]\tvalidation_0-auc:0.659212\n",
      "[8]\tvalidation_0-auc:0.659519\n",
      "[9]\tvalidation_0-auc:0.660935\n",
      "[10]\tvalidation_0-auc:0.66166\n",
      "[11]\tvalidation_0-auc:0.662206\n",
      "[12]\tvalidation_0-auc:0.661561\n",
      "[13]\tvalidation_0-auc:0.662569\n",
      "[14]\tvalidation_0-auc:0.663019\n",
      "[15]\tvalidation_0-auc:0.663129\n",
      "[16]\tvalidation_0-auc:0.663218\n",
      "[17]\tvalidation_0-auc:0.66317\n",
      "[18]\tvalidation_0-auc:0.664339\n",
      "[19]\tvalidation_0-auc:0.664751\n",
      "[20]\tvalidation_0-auc:0.665161\n",
      "[21]\tvalidation_0-auc:0.66517\n",
      "[22]\tvalidation_0-auc:0.665649\n",
      "[23]\tvalidation_0-auc:0.666129\n",
      "[24]\tvalidation_0-auc:0.665878\n",
      "[25]\tvalidation_0-auc:0.666159\n",
      "[26]\tvalidation_0-auc:0.66663\n",
      "[27]\tvalidation_0-auc:0.666185\n",
      "[28]\tvalidation_0-auc:0.666649\n",
      "[29]\tvalidation_0-auc:0.666271\n",
      "[30]\tvalidation_0-auc:0.665955\n",
      "[31]\tvalidation_0-auc:0.665704\n",
      "[32]\tvalidation_0-auc:0.665666\n",
      "[33]\tvalidation_0-auc:0.665425\n",
      "[34]\tvalidation_0-auc:0.66553\n",
      "[35]\tvalidation_0-auc:0.665928\n",
      "[36]\tvalidation_0-auc:0.66573\n",
      "[37]\tvalidation_0-auc:0.66581\n",
      "[38]\tvalidation_0-auc:0.666245\n",
      "[39]\tvalidation_0-auc:0.666132\n",
      "[40]\tvalidation_0-auc:0.666212\n",
      "[41]\tvalidation_0-auc:0.666102\n",
      "[42]\tvalidation_0-auc:0.666038\n",
      "[43]\tvalidation_0-auc:0.665971\n",
      "[44]\tvalidation_0-auc:0.665703\n",
      "[45]\tvalidation_0-auc:0.665822\n",
      "[46]\tvalidation_0-auc:0.666084\n",
      "[47]\tvalidation_0-auc:0.666282\n",
      "[48]\tvalidation_0-auc:0.666132\n",
      "Stopping. Best iteration:\n",
      "[28]\tvalidation_0-auc:0.666649\n",
      "\n"
     ]
    },
    {
     "data": {
      "text/plain": [
       "0.5532175286221871"
      ]
     },
     "execution_count": 84,
     "metadata": {},
     "output_type": "execute_result"
    }
   ],
   "source": [
    "# Fit the model\n",
    "model=XGBClassifier(random_state = 0,**bestparam, class_weight = {0:1, 1:8})\n",
    "#model.set_params(bestparam)\n",
    "eval_set = [(X_test, y_test)]\n",
    "model.fit(X_train, y_train, early_stopping_rounds=20, eval_metric=\"auc\", eval_set=eval_set, verbose=True)\n",
    "model.score(X_test, y_test)"
   ]
  },
  {
   "cell_type": "code",
   "execution_count": 33,
   "metadata": {},
   "outputs": [],
   "source": [
    "from sklearn.metrics import roc_auc_score, recall_score, precision_score, accuracy_score"
   ]
  },
  {
   "cell_type": "code",
   "execution_count": 85,
   "metadata": {},
   "outputs": [],
   "source": [
    "AUC = roc_auc_score(y_test, model.predict_proba(X_test)[:,1])"
   ]
  },
  {
   "cell_type": "code",
   "execution_count": 86,
   "metadata": {},
   "outputs": [
    {
     "data": {
      "text/plain": [
       "0.6666484952819389"
      ]
     },
     "execution_count": 86,
     "metadata": {},
     "output_type": "execute_result"
    }
   ],
   "source": [
    "AUC"
   ]
  },
  {
   "cell_type": "code",
   "execution_count": 38,
   "metadata": {},
   "outputs": [
    {
     "data": {
      "text/plain": [
       "array([[False, False],\n",
       "       [False, False],\n",
       "       [False, False],\n",
       "       ...,\n",
       "       [False, False],\n",
       "       [ True, False],\n",
       "       [ True, False]])"
      ]
     },
     "execution_count": 38,
     "metadata": {},
     "output_type": "execute_result"
    }
   ],
   "source": [
    "model.predict_proba(X_test) > 0.55"
   ]
  },
  {
   "cell_type": "code",
   "execution_count": 63,
   "metadata": {},
   "outputs": [
    {
     "data": {
      "text/plain": [
       "array([[<matplotlib.axes._subplots.AxesSubplot object at 0x1a16cde780>]],\n",
       "      dtype=object)"
      ]
     },
     "execution_count": 63,
     "metadata": {},
     "output_type": "execute_result"
    },
    {
     "data": {
      "image/png": "[encoded data removed]",
      "text/plain": [
       "<Figure size 432x288 with 1 Axes>"
      ]
     },
     "metadata": {
      "needs_background": "light"
     },
     "output_type": "display_data"
    }
   ],
   "source": [
    "from collections import Counter\n",
    "\n",
    "pd.DataFrame({\"probab\":model.predict_proba(X_train)[:,1]}).hist()"
   ]
  },
  {
   "cell_type": "code",
   "execution_count": 87,
   "metadata": {},
   "outputs": [
    {
     "name": "stdout",
     "output_type": "stream",
     "text": [
      "auc train score:  0.6958911951068076\n",
      "auc test score:  0.6666484952819389\n",
      "recall train score:  0.7285289747399702\n",
      "recall test score:  0.7039861351819757\n",
      "precision train score:  0.16911561810154527\n",
      "precision test score:  0.16255802785336962\n",
      "accuracy train score:  0.5615038408175697\n",
      "accuracy test score:  0.5532175286221871\n",
      "[[11982 10463]\n",
      " [  854  2031]]\n"
     ]
    }
   ],
   "source": [
    "print(\"auc train score: \", roc_auc_score(y_train, model.predict_proba(X_train)[:,1]))\n",
    "print(\"auc test score: \",roc_auc_score(y_test, model.predict_proba(X_test)[:,1]))\n",
    "print(\"recall train score: \",recall_score(y_train, model.predict(X_train)))\n",
    "print(\"recall test score: \",recall_score(y_test, model.predict(X_test)))\n",
    "print(\"precision train score: \", precision_score(y_train, model.predict(X_train)))\n",
    "print(\"precision test score: \",precision_score(y_test, model.predict(X_test)))\n",
    "print(\"accuracy train score: \",accuracy_score(y_train, model.predict(X_train)))\n",
    "print(\"accuracy test score: \",accuracy_score(y_test, model.predict(X_test)))\n",
    "print(confusion_matrix(y_test, model.predict(X_test)))"
   ]
  },
  {
   "cell_type": "markdown",
   "metadata": {},
   "source": [
    "__review pickled file & original__"
   ]
  },
  {
   "cell_type": "code",
   "execution_count": 70,
   "metadata": {},
   "outputs": [],
   "source": [
    "import pickle\n",
    "\n",
    "pickle_path = \"./xgboost_bestauc_pickle\"\n",
    "\n",
    "with open(pickle_path, 'rb') as handle:\n",
    "    mod = pickle.load(handle)"
   ]
  },
  {
   "cell_type": "code",
   "execution_count": 82,
   "metadata": {},
   "outputs": [
    {
     "name": "stdout",
     "output_type": "stream",
     "text": [
      "1\n"
     ]
    }
   ],
   "source": [
    "print(model.get_params()[\"scale_pos_weight\"])"
   ]
  },
  {
   "cell_type": "code",
   "execution_count": 81,
   "metadata": {},
   "outputs": [
    {
     "data": {
      "text/plain": [
       "9"
      ]
     },
     "execution_count": 81,
     "metadata": {},
     "output_type": "execute_result"
    }
   ],
   "source": [
    "mod.get_params()[\"scale_pos_weight\"]"
   ]
  },
  {
   "cell_type": "code",
   "execution_count": 72,
   "metadata": {},
   "outputs": [
    {
     "name": "stdout",
     "output_type": "stream",
     "text": [
      "auc train score:  0.6958911951068076\n",
      "auc test score:  0.6666484952819389\n",
      "recall train score:  0.7285289747399702\n",
      "recall test score:  0.7039861351819757\n",
      "precision train score:  0.16911561810154527\n",
      "precision test score:  0.16255802785336962\n",
      "accuracy train score:  0.5615038408175697\n",
      "accuracy test score:  0.5532175286221871\n",
      "[[11982 10463]\n",
      " [  854  2031]]\n"
     ]
    }
   ],
   "source": [
    "print(\"auc train score: \", roc_auc_score(y_train, mod.predict_proba(X_train)[:,1]))\n",
    "print(\"auc test score: \",roc_auc_score(y_test, mod.predict_proba(X_test)[:,1]))\n",
    "print(\"recall train score: \",recall_score(y_train, mod.predict(X_train)))\n",
    "print(\"recall test score: \",recall_score(y_test, mod.predict(X_test)))\n",
    "print(\"precision train score: \", precision_score(y_train, mod.predict(X_train)))\n",
    "print(\"precision test score: \",precision_score(y_test, mod.predict(X_test)))\n",
    "print(\"accuracy train score: \",accuracy_score(y_train, mod.predict(X_train)))\n",
    "print(\"accuracy test score: \",accuracy_score(y_test, mod.predict(X_test)))\n",
    "print(confusion_matrix(y_test, mod.predict(X_test)))"
   ]
  },
  {
   "cell_type": "code",
   "execution_count": 76,
   "metadata": {},
   "outputs": [
    {
     "name": "stdout",
     "output_type": "stream",
     "text": [
      "missing\n",
      "scale_pos_weight\n"
     ]
    }
   ],
   "source": [
    "for key in mod.get_params():\n",
    "    if mod.get_params()[key] != model.get_params()[key]:\n",
    "        print(key)"
   ]
  },
  {
   "cell_type": "code",
   "execution_count": 68,
   "metadata": {},
   "outputs": [
    {
     "name": "stdout",
     "output_type": "stream",
     "text": [
      "[[20788  1657]\n",
      " [ 2274   611]]\n"
     ]
    }
   ],
   "source": [
    "print(confusion_matrix(y_test, model.predict_proba(X_test)[:,1]>0.2 ))"
   ]
  },
  {
   "cell_type": "code",
   "execution_count": 37,
   "metadata": {},
   "outputs": [],
   "source": [
    "import pickle\n",
    "with open('xgboost_bestauc_pickle', 'wb') as picklefile:\n",
    "    pickle.dump(model, picklefile)\n",
    "loadedmodel = pickle.load(open('xgboost_bestauc_pickle', 'rb'))"
   ]
  }
 ],
 "metadata": {
  "kernelspec": {
   "display_name": "Python 3",
   "language": "python",
   "name": "python3"
  },
  "language_info": {
   "codemirror_mode": {
    "name": "ipython",
    "version": 3
   },
   "file_extension": ".py",
   "mimetype": "text/x-python",
   "name": "python",
   "nbconvert_exporter": "python",
   "pygments_lexer": "ipython3",
   "version": "3.7.1"
  }
 },
 "nbformat": 4,
 "nbformat_minor": 2
}
