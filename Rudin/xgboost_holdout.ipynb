{
 "cells": [
  {
   "cell_type": "code",
   "execution_count": 1,
   "metadata": {},
   "outputs": [],
   "source": [
    "import pandas as pd\n",
    "import numpy as np\n",
    "import matplotlib.pyplot as plt\n",
    "from sklearn import ensemble\n",
    "from sklearn.model_selection import GridSearchCV, RandomizedSearchCV\n",
    "from sklearn import preprocessing\n",
    "from sklearn.model_selection import train_test_split, StratifiedKFold\n",
    "from xgboost.sklearn import XGBClassifier\n",
    "import xgboost as xgb\n",
    "from sklearn import preprocessing\n",
    "from sklearn.metrics import confusion_matrix"
   ]
  },
  {
   "cell_type": "code",
   "execution_count": 52,
   "metadata": {},
   "outputs": [],
   "source": [
    "diabetic7 = pd.read_csv(\"./dataset_diabetes/diabetic7.csv\")"
   ]
  },
  {
   "cell_type": "code",
   "execution_count": 60,
   "metadata": {},
   "outputs": [],
   "source": [
    "diabetic7 = diabetic7.drop(['admission_type_id'], axis=1)"
   ]
  },
  {
   "cell_type": "code",
   "execution_count": 61,
   "metadata": {},
   "outputs": [],
   "source": [
    "le = preprocessing.LabelEncoder()"
   ]
  },
  {
   "cell_type": "code",
   "execution_count": 62,
   "metadata": {},
   "outputs": [
    {
     "name": "stdout",
     "output_type": "stream",
     "text": [
      "Number of Categorical features: 28\n",
      "Number of Numerical features: 15\n"
     ]
    }
   ],
   "source": [
    "categorical = diabetic7.select_dtypes(include = [\"object\"]).columns\n",
    "numerical = diabetic7.select_dtypes(exclude = [\"object\"]).columns\n",
    "print(\"Number of Categorical features: \" + str(len(categorical)))\n",
    "print(\"Number of Numerical features: \" + str(len(numerical)))\n",
    "diabetic7_categorical = diabetic7[categorical]\n",
    "diabetic7_numerical = diabetic7[numerical]"
   ]
  },
  {
   "cell_type": "code",
   "execution_count": 63,
   "metadata": {},
   "outputs": [],
   "source": [
    "categorical= list(categorical)\n",
    "numerical = list(numerical)"
   ]
  },
  {
   "cell_type": "code",
   "execution_count": 64,
   "metadata": {},
   "outputs": [],
   "source": [
    "for i in categorical:\n",
    "    diabetic7[i] = le.fit_transform(diabetic7[i])"
   ]
  },
  {
   "cell_type": "code",
   "execution_count": 65,
   "metadata": {},
   "outputs": [],
   "source": [
    "answer = diabetic7['target']\n",
    "diabetic7 = diabetic7.drop(['target'], axis=1)"
   ]
  },
  {
   "cell_type": "code",
   "execution_count": 23,
   "metadata": {},
   "outputs": [],
   "source": [
    "import pickle\n",
    "\n",
    "pickle_path = \"./xgboost_bestauc_pickle\"\n",
    "\n",
    "with open(pickle_path, 'rb') as handle:\n",
    "    mod = pickle.load(handle)"
   ]
  },
  {
   "cell_type": "code",
   "execution_count": 24,
   "metadata": {},
   "outputs": [
    {
     "data": {
      "text/plain": [
       "XGBClassifier(base_score=0.5, booster='gbtree', class_weight={0: 1, 1: 8},\n",
       "       colsample_bylevel=1, colsample_bytree=0.6, gamma=0.8,\n",
       "       learning_rate=0.1, max_delta_step=0, max_depth=5,\n",
       "       min_child_weight=7, min_samples_leaf=1, min_samples_split=4,\n",
       "       missing=nan, n_estimators=280, n_jobs=1, njobs=-1, nthread=None,\n",
       "       objective='binary:logistic', random_state=0, reg_alpha=0.4,\n",
       "       reg_lambda=1, scale_pos_weight=9, seed=None, silent=True,\n",
       "       subsample=0.9)"
      ]
     },
     "execution_count": 24,
     "metadata": {},
     "output_type": "execute_result"
    }
   ],
   "source": [
    "mod"
   ]
  },
  {
   "cell_type": "code",
   "execution_count": 81,
   "metadata": {},
   "outputs": [],
   "source": [
    "holdout = pd.read_csv(\"./dataset_diabetes/end_holdout.csv\")"
   ]
  },
  {
   "cell_type": "code",
   "execution_count": 73,
   "metadata": {},
   "outputs": [
    {
     "data": {
      "text/plain": [
       "(14910, 42)"
      ]
     },
     "execution_count": 73,
     "metadata": {},
     "output_type": "execute_result"
    }
   ],
   "source": [
    "holdout.shape"
   ]
  },
  {
   "cell_type": "code",
   "execution_count": 74,
   "metadata": {},
   "outputs": [
    {
     "data": {
      "text/plain": [
       "(84432, 42)"
      ]
     },
     "execution_count": 74,
     "metadata": {},
     "output_type": "execute_result"
    }
   ],
   "source": [
    "diabetic7.shape"
   ]
  },
  {
   "cell_type": "code",
   "execution_count": 59,
   "metadata": {},
   "outputs": [
    {
     "data": {
      "text/plain": [
       "set()"
      ]
     },
     "execution_count": 59,
     "metadata": {},
     "output_type": "execute_result"
    }
   ],
   "source": [
    "ho = holdout.columns\n",
    "di = diabetic7.columns\n",
    "set(di) - set(ho)"
   ]
  },
  {
   "cell_type": "code",
   "execution_count": 82,
   "metadata": {},
   "outputs": [],
   "source": [
    "holdout = holdout.drop(['admission_type_id'], axis=1)"
   ]
  },
  {
   "cell_type": "code",
   "execution_count": 83,
   "metadata": {},
   "outputs": [
    {
     "name": "stdout",
     "output_type": "stream",
     "text": [
      "Number of Categorical features: 28\n",
      "Number of Numerical features: 15\n"
     ]
    }
   ],
   "source": [
    "categorical = holdout.select_dtypes(include = [\"object\"]).columns\n",
    "numerical = holdout.select_dtypes(exclude = [\"object\"]).columns\n",
    "print(\"Number of Categorical features: \" + str(len(categorical)))\n",
    "print(\"Number of Numerical features: \" + str(len(numerical)))\n",
    "holdout_categorical = holdout[categorical]\n",
    "holdout_numerical = holdout[numerical]"
   ]
  },
  {
   "cell_type": "code",
   "execution_count": 84,
   "metadata": {},
   "outputs": [],
   "source": [
    "categorical= list(categorical)\n",
    "numerical = list(numerical)"
   ]
  },
  {
   "cell_type": "code",
   "execution_count": 85,
   "metadata": {},
   "outputs": [],
   "source": [
    "for i in categorical:\n",
    "    holdout[i] = le.fit_transform(holdout[i])"
   ]
  },
  {
   "cell_type": "code",
   "execution_count": 86,
   "metadata": {},
   "outputs": [],
   "source": [
    "answer = holdout['target']\n",
    "holdout = holdout.drop(['target'], axis=1)"
   ]
  },
  {
   "cell_type": "code",
   "execution_count": 76,
   "metadata": {},
   "outputs": [],
   "source": [
    "from sklearn.metrics import roc_auc_score, recall_score, precision_score, accuracy_score"
   ]
  },
  {
   "cell_type": "code",
   "execution_count": 88,
   "metadata": {},
   "outputs": [
    {
     "name": "stdout",
     "output_type": "stream",
     "text": [
      "auc holdout score:  0.6794116626285129\n",
      "recall holdout score:  0.7157151265450264\n",
      "precision holdout score:  0.1649037157580689\n",
      "accuracy holdout score:  0.5545942320590208\n",
      "[[7053 6158]\n",
      " [ 483 1216]]\n"
     ]
    }
   ],
   "source": [
    "print(\"auc holdout score: \", roc_auc_score(answer, mod.predict_proba(holdout)[:,1]))\n",
    "print(\"recall holdout score: \",recall_score(answer, mod.predict(holdout)))\n",
    "print(\"precision holdout score: \", precision_score(answer, mod.predict(holdout)))\n",
    "print(\"accuracy holdout score: \",accuracy_score(answer, mod.predict(holdout)))\n",
    "print(confusion_matrix(answer, mod.predict(holdout)))"
   ]
  },
  {
   "cell_type": "code",
   "execution_count": null,
   "metadata": {},
   "outputs": [],
   "source": []
  }
 ],
 "metadata": {
  "kernelspec": {
   "display_name": "Python 3",
   "language": "python",
   "name": "python3"
  },
  "language_info": {
   "codemirror_mode": {
    "name": "ipython",
    "version": 3
   },
   "file_extension": ".py",
   "mimetype": "text/x-python",
   "name": "python",
   "nbconvert_exporter": "python",
   "pygments_lexer": "ipython3",
   "version": "3.7.1"
  }
 },
 "nbformat": 4,
 "nbformat_minor": 2
}
