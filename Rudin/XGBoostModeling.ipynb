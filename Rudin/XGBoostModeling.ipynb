{
 "cells": [
  {
   "cell_type": "code",
   "execution_count": 7,
   "metadata": {},
   "outputs": [],
   "source": [
    "import pandas as pd\n",
    "import numpy as np\n",
    "import matplotlib.pyplot as plt\n",
    "from sklearn import ensemble\n",
    "from sklearn.model_selection import GridSearchCV, RandomizedSearchCV\n",
    "from sklearn import preprocessing\n",
    "from sklearn.model_selection import train_test_split, StratifiedKFold\n",
    "from xgboost.sklearn import XGBClassifier\n",
    "import xgboost as xgb\n",
    "from sklearn import preprocessing\n",
    "from sklearn.metrics import confusion_matrix"
   ]
  },
  {
   "cell_type": "code",
   "execution_count": 8,
   "metadata": {},
   "outputs": [],
   "source": [
    "diabetic7 = pd.read_csv(\"./dataset_diabetes/diabetic7.csv\")"
   ]
  },
  {
   "cell_type": "code",
   "execution_count": 9,
   "metadata": {},
   "outputs": [
    {
     "data": {
      "text/plain": [
       "(84432, 44)"
      ]
     },
     "execution_count": 9,
     "metadata": {},
     "output_type": "execute_result"
    }
   ],
   "source": [
    "diabetic7.shape"
   ]
  },
  {
   "cell_type": "code",
   "execution_count": 10,
   "metadata": {},
   "outputs": [
    {
     "data": {
      "text/plain": [
       "Index(['race', 'gender', 'age', 'admission_type_id', 'time_in_hospital',\n",
       "       'num_lab_procedures', 'num_procedures', 'num_medications',\n",
       "       'number_outpatient', 'number_emergency', 'number_inpatient',\n",
       "       'number_diagnoses', 'max_glu_serum', 'A1Cresult', 'metformin',\n",
       "       'repaglinide', 'nateglinide', 'chlorpropamide', 'acetohexamide',\n",
       "       'glipizide', 'glyburide', 'tolbutamide', 'pioglitazone',\n",
       "       'rosiglitazone', 'acarbose', 'miglitol', 'citoglipton', 'insulin',\n",
       "       'metformin-pioglitazone', 'change', 'diabetesMed', 'target', 'self_pay',\n",
       "       'medicaid/medicare', 'coverByInsurance', 'f_diag', 's_diag', 't_diag',\n",
       "       'clustering3', 'clustering4', 'clustering2', 'medical_specialty_new',\n",
       "       'discharge_id', 'admission_id'],\n",
       "      dtype='object')"
      ]
     },
     "execution_count": 10,
     "metadata": {},
     "output_type": "execute_result"
    }
   ],
   "source": [
    "diabetic7.columns"
   ]
  },
  {
   "cell_type": "code",
   "execution_count": 11,
   "metadata": {},
   "outputs": [],
   "source": [
    "diabetic7 = diabetic7.drop(['admission_type_id'], axis=1)"
   ]
  },
  {
   "cell_type": "code",
   "execution_count": 12,
   "metadata": {},
   "outputs": [
    {
     "data": {
      "text/plain": [
       "race                      object\n",
       "gender                    object\n",
       "age                       object\n",
       "time_in_hospital           int64\n",
       "num_lab_procedures         int64\n",
       "num_procedures             int64\n",
       "num_medications            int64\n",
       "number_outpatient          int64\n",
       "number_emergency           int64\n",
       "number_inpatient           int64\n",
       "number_diagnoses           int64\n",
       "max_glu_serum             object\n",
       "A1Cresult                 object\n",
       "metformin                 object\n",
       "repaglinide               object\n",
       "nateglinide               object\n",
       "chlorpropamide            object\n",
       "acetohexamide             object\n",
       "glipizide                 object\n",
       "glyburide                 object\n",
       "tolbutamide               object\n",
       "pioglitazone              object\n",
       "rosiglitazone             object\n",
       "acarbose                  object\n",
       "miglitol                  object\n",
       "citoglipton               object\n",
       "insulin                   object\n",
       "metformin-pioglitazone    object\n",
       "change                    object\n",
       "diabetesMed               object\n",
       "target                     int64\n",
       "self_pay                   int64\n",
       "medicaid/medicare          int64\n",
       "coverByInsurance           int64\n",
       "f_diag                    object\n",
       "s_diag                    object\n",
       "t_diag                    object\n",
       "clustering3                int64\n",
       "clustering4                int64\n",
       "clustering2                int64\n",
       "medical_specialty_new     object\n",
       "discharge_id              object\n",
       "admission_id              object\n",
       "dtype: object"
      ]
     },
     "execution_count": 12,
     "metadata": {},
     "output_type": "execute_result"
    }
   ],
   "source": [
    "diabetic7.dtypes"
   ]
  },
  {
   "cell_type": "code",
   "execution_count": 13,
   "metadata": {},
   "outputs": [],
   "source": [
    "le = preprocessing.LabelEncoder()"
   ]
  },
  {
   "cell_type": "code",
   "execution_count": 14,
   "metadata": {},
   "outputs": [
    {
     "name": "stdout",
     "output_type": "stream",
     "text": [
      "Number of Categorical features: 28\n",
      "Number of Numerical features: 15\n"
     ]
    }
   ],
   "source": [
    "categorical = diabetic7.select_dtypes(include = [\"object\"]).columns\n",
    "numerical = diabetic7.select_dtypes(exclude = [\"object\"]).columns\n",
    "print(\"Number of Categorical features: \" + str(len(categorical)))\n",
    "print(\"Number of Numerical features: \" + str(len(numerical)))\n",
    "diabetic7_categorical = diabetic7[categorical]\n",
    "diabetic7_numerical = diabetic7[numerical]"
   ]
  },
  {
   "cell_type": "code",
   "execution_count": 15,
   "metadata": {},
   "outputs": [],
   "source": [
    "categorical= list(categorical)\n",
    "numerical = list(numerical)"
   ]
  },
  {
   "cell_type": "code",
   "execution_count": 16,
   "metadata": {},
   "outputs": [],
   "source": [
    "for i in categorical:\n",
    "    diabetic7[i] = le.fit_transform(diabetic7[i])"
   ]
  },
  {
   "cell_type": "code",
   "execution_count": 17,
   "metadata": {},
   "outputs": [
    {
     "data": {
      "text/plain": [
       "race                      int64\n",
       "gender                    int64\n",
       "age                       int64\n",
       "time_in_hospital          int64\n",
       "num_lab_procedures        int64\n",
       "num_procedures            int64\n",
       "num_medications           int64\n",
       "number_outpatient         int64\n",
       "number_emergency          int64\n",
       "number_inpatient          int64\n",
       "number_diagnoses          int64\n",
       "max_glu_serum             int64\n",
       "A1Cresult                 int64\n",
       "metformin                 int64\n",
       "repaglinide               int64\n",
       "nateglinide               int64\n",
       "chlorpropamide            int64\n",
       "acetohexamide             int64\n",
       "glipizide                 int64\n",
       "glyburide                 int64\n",
       "tolbutamide               int64\n",
       "pioglitazone              int64\n",
       "rosiglitazone             int64\n",
       "acarbose                  int64\n",
       "miglitol                  int64\n",
       "citoglipton               int64\n",
       "insulin                   int64\n",
       "metformin-pioglitazone    int64\n",
       "change                    int64\n",
       "diabetesMed               int64\n",
       "target                    int64\n",
       "self_pay                  int64\n",
       "medicaid/medicare         int64\n",
       "coverByInsurance          int64\n",
       "f_diag                    int64\n",
       "s_diag                    int64\n",
       "t_diag                    int64\n",
       "clustering3               int64\n",
       "clustering4               int64\n",
       "clustering2               int64\n",
       "medical_specialty_new     int64\n",
       "discharge_id              int64\n",
       "admission_id              int64\n",
       "dtype: object"
      ]
     },
     "execution_count": 17,
     "metadata": {},
     "output_type": "execute_result"
    }
   ],
   "source": [
    "diabetic7.dtypes"
   ]
  },
  {
   "cell_type": "code",
   "execution_count": 213,
   "metadata": {},
   "outputs": [
    {
     "data": {
      "text/plain": [
       "Index(['race', 'gender', 'age', 'time_in_hospital', 'num_lab_procedures',\n",
       "       'num_procedures', 'num_medications', 'number_outpatient',\n",
       "       'number_emergency', 'number_inpatient', 'number_diagnoses',\n",
       "       'max_glu_serum', 'A1Cresult', 'metformin', 'repaglinide', 'nateglinide',\n",
       "       'chlorpropamide', 'acetohexamide', 'glipizide', 'glyburide',\n",
       "       'tolbutamide', 'pioglitazone', 'rosiglitazone', 'acarbose', 'miglitol',\n",
       "       'citoglipton', 'insulin', 'metformin-pioglitazone', 'change',\n",
       "       'diabetesMed', 'target', 'self_pay', 'medicaid/medicare',\n",
       "       'coverByInsurance', 'f_diag', 's_diag', 't_diag', 'clustering3',\n",
       "       'clustering4', 'clustering2', 'medical_specialty_new', 'discharge_id',\n",
       "       'admission_id'],\n",
       "      dtype='object')"
      ]
     },
     "execution_count": 213,
     "metadata": {},
     "output_type": "execute_result"
    }
   ],
   "source": [
    "diabetic7.columns"
   ]
  },
  {
   "cell_type": "code",
   "execution_count": 18,
   "metadata": {},
   "outputs": [],
   "source": [
    "answer = diabetic7['target']\n",
    "diabetic7 = diabetic7.drop(['target'], axis=1)"
   ]
  },
  {
   "cell_type": "code",
   "execution_count": 19,
   "metadata": {},
   "outputs": [
    {
     "name": "stdout",
     "output_type": "stream",
     "text": [
      "X_train : (59102, 42)\n",
      "X_test : (25330, 42)\n",
      "y_train : (59102,)\n",
      "y_test : (25330,)\n"
     ]
    }
   ],
   "source": [
    "#divide the dataset into train/test 7:3?\n",
    "X_train, X_test, y_train, y_test = train_test_split(diabetic7, answer, test_size = 0.3, random_state = 0, stratify=answer, shuffle=True)\n",
    "print(\"X_train : \" + str(X_train.shape))\n",
    "print(\"X_test : \" + str(X_test.shape))\n",
    "print(\"y_train : \" + str(y_train.shape))\n",
    "print(\"y_test : \" + str(y_test.shape))"
   ]
  },
  {
   "cell_type": "code",
   "execution_count": 20,
   "metadata": {},
   "outputs": [],
   "source": [
    "model=XGBClassifier(random_state=0, class_weight = {0:1, 1:8})"
   ]
  },
  {
   "cell_type": "code",
   "execution_count": 24,
   "metadata": {},
   "outputs": [],
   "source": [
    "n_trees_range = range(10,300, 4)  # OOB score will warning if too few trees\n",
    "train_error2 = []\n",
    "test_error2 = []\n",
    "oob_error = []\n",
    "\n",
    "for n_trees in n_trees_range:\n",
    "    model.set_params(n_estimators=n_trees, random_state=42, scale_pos_weight = 8, max_depth=6, n_jobs = -1)\n",
    "    model.fit(X_train, y_train)\n",
    "    train_error2.append(1 - model.score(X_train, y_train))\n",
    "    test_error2.append(1 - model.score(X_test, y_test))"
   ]
  },
  {
   "cell_type": "code",
   "execution_count": 17,
   "metadata": {},
   "outputs": [
    {
     "data": {
      "text/plain": [
       "<bound method XGBModel.get_params of XGBClassifier(base_score=0.5, booster='gbtree', class_weight={0: 1, 1: 8},\n",
       "       colsample_bylevel=1, colsample_bytree=1, gamma=0, learning_rate=0.1,\n",
       "       max_delta_step=0, max_depth=6, min_child_weight=1, missing=None,\n",
       "       n_estimators=66, n_jobs=-1, nthread=None,\n",
       "       objective='binary:logistic', random_state=42, reg_alpha=0,\n",
       "       reg_lambda=1, scale_pos_weight=8, seed=None, silent=True,\n",
       "       subsample=1)>"
      ]
     },
     "execution_count": 17,
     "metadata": {},
     "output_type": "execute_result"
    }
   ],
   "source": [
    "model.get_params"
   ]
  },
  {
   "cell_type": "code",
   "execution_count": 25,
   "metadata": {
    "scrolled": true
   },
   "outputs": [
    {
     "data": {
      "image/png": "[encoded data removed]",
      "text/plain": [
       "<Figure size 432x288 with 1 Axes>"
      ]
     },
     "metadata": {
      "needs_background": "light"
     },
     "output_type": "display_data"
    }
   ],
   "source": [
    "import matplotlib.pyplot as plt\n",
    "plt.plot(n_trees_range, train_error2, c='red', label='training error')\n",
    "plt.plot(n_trees_range, test_error2, c='blue', label='test error')\n",
    "plt.ylabel('Error')\n",
    "plt.xlabel('Number of trees')\n",
    "plt.legend()\n",
    "plt.show()"
   ]
  },
  {
   "cell_type": "code",
   "execution_count": 253,
   "metadata": {},
   "outputs": [
    {
     "data": {
      "text/plain": [
       "array([[33269, 19103],\n",
       "       [ 2283,  4447]])"
      ]
     },
     "execution_count": 253,
     "metadata": {},
     "output_type": "execute_result"
    }
   ],
   "source": [
    "confusion_matrix(y_train, model.predict(X_train))"
   ]
  },
  {
   "cell_type": "code",
   "execution_count": null,
   "metadata": {},
   "outputs": [],
   "source": [
    "{'reg_alpha': 0.2,\n",
    " 'min_samples_split': 10,\n",
    " 'min_samples_leaf': 4,\n",
    " 'max_depth': 110,\n",
    " 'learning_rate': 0.1,\n",
    "\n",
    " 'subsample': 0.5,\n",
    " 'n_estimators': 400,\n",
    " 'min_child_weight': 6,\n",
    " 'gamma': 0.2,\n",
    " 'colsample_bytree': 0.5}"
   ]
  },
  {
   "cell_type": "code",
   "execution_count": 259,
   "metadata": {},
   "outputs": [
    {
     "data": {
      "text/plain": [
       "RandomizedSearchCV(cv=StratifiedKFold(n_splits=4, random_state=None, shuffle=True),\n",
       "          error_score='raise-deprecating',\n",
       "          estimator=XGBClassifier(base_score=0.5, booster='gbtree', class_weight={0: 1, 1: 8},\n",
       "       colsample_bylevel=1, colsample_bytree=1, gamma=0, learning_rate=0.1,\n",
       "       max_delta_step=0, max_depth=3, min_child_weight=1, missing=None,\n",
       "       n_estimators=100, n_jobs=1, nthread=None,\n",
       "       objective='binary:logistic', random_state=0, reg_alpha=0,\n",
       "       reg_lambda=1, scale_pos_weight=1, seed=None, silent=True,\n",
       "       subsample=1),\n",
       "          fit_params=None, iid='warn', n_iter=10, n_jobs=None,\n",
       "          param_distributions={'n_estimators': [12, 14, 16], 'max_depth': [10, 20, 30, 40, 50, 60, 70, 80, 90, 100, 110], 'gamma': [0, 0.2, 0.5, 0.8], 'min_child_weight': [1, 6, 12], 'min_samples_split': [2, 5, 10], 'min_samples_leaf': [1, 2, 4], 'learning_rate': [0.02, 0.06, 0.1], 'subsample': [0.2, 0.5, 0.9], 'colsample_bytree': [0.1, 0.5, 0.9], 'reg_alpha': [0.2, 0.4, 0.7, 0.9], 'njobs': [-1]},\n",
       "          pre_dispatch='2*n_jobs', random_state=None, refit=True,\n",
       "          return_train_score='warn', scoring=None, verbose=0)"
      ]
     },
     "execution_count": 259,
     "metadata": {},
     "output_type": "execute_result"
    }
   ],
   "source": [
    "#randomized searchcv to find the range of the hyperparameters of the XGboost\n",
    "\n",
    "\n",
    "cv = StratifiedKFold(shuffle  = True, n_splits = 4)\n",
    "n_estimators = [12, 14, 16]\n",
    "min_samples_split = [2, 5, 10]\n",
    "min_samples_leaf = min_samples_leaf = [1, 2, 4]\n",
    "min_child_weight = [1,6,12]\n",
    "colsample_bytree = [0.1, 0.5, 0.9]\n",
    "gamma = [0, 0.2, 0.5, 0.8]\n",
    "learning_rate =  [0.02, 0.06, 0.1] # default 0.1 \n",
    "max_depth =  [int(x) for x in np.linspace(10, 110, num = 11)]# default 3\n",
    "subsample =  [0.2, 0.5, 0.9]\n",
    "reg_alpha=[0.2, 0.4, 0.7, 0.9] \n",
    "\n",
    "random_para = {'n_estimators': n_estimators,\n",
    "               'max_depth': max_depth,\n",
    "               'gamma':gamma,\n",
    "               'min_child_weight': min_child_weight,\n",
    "               'min_samples_split': min_samples_split,\n",
    "               'min_samples_leaf': min_samples_leaf,\n",
    "               'learning_rate': learning_rate,\n",
    "               'subsample': subsample,\n",
    "               'colsample_bytree': colsample_bytree,\n",
    "               'reg_alpha': reg_alpha,\n",
    "               'njobs': [-1]}\n",
    "\n",
    "rand_search_rf = RandomizedSearchCV(model, random_para, cv=cv)\n",
    "rand_search_rf.fit(X_train, y_train)\n"
   ]
  },
  {
   "cell_type": "code",
   "execution_count": null,
   "metadata": {},
   "outputs": [],
   "source": [
    "#taking risks scores for variables/groups\n",
    "#take out a hold-out sample of observations\n",
    "#risk-table - for categories \n",
    "#risk features"
   ]
  },
  {
   "cell_type": "code",
   "execution_count": null,
   "metadata": {},
   "outputs": [],
   "source": [
    "#auc - validation easily feasible\n",
    "#true positive/false positive rates \n",
    "#classify a group as risk group -> average of highest and lowest risk groups"
   ]
  },
  {
   "cell_type": "code",
   "execution_count": 260,
   "metadata": {},
   "outputs": [
    {
     "data": {
      "text/plain": [
       "{'subsample': 0.9,\n",
       " 'reg_alpha': 0.4,\n",
       " 'njobs': -1,\n",
       " 'n_estimators': 16,\n",
       " 'min_samples_split': 5,\n",
       " 'min_samples_leaf': 2,\n",
       " 'min_child_weight': 6,\n",
       " 'max_depth': 10,\n",
       " 'learning_rate': 0.06,\n",
       " 'gamma': 0.8,\n",
       " 'colsample_bytree': 0.9}"
      ]
     },
     "execution_count": 260,
     "metadata": {},
     "output_type": "execute_result"
    }
   ],
   "source": [
    "rand_search_rf.best_params_"
   ]
  },
  {
   "cell_type": "code",
   "execution_count": 8,
   "metadata": {},
   "outputs": [],
   "source": [
    "#fit the model and get auc score"
   ]
  },
  {
   "cell_type": "code",
   "execution_count": 261,
   "metadata": {},
   "outputs": [
    {
     "data": {
      "text/plain": [
       "{'subsample': 0.9,\n",
       " 'reg_alpha': 0.4,\n",
       " 'njobs': -1,\n",
       " 'n_estimators': 16,\n",
       " 'min_samples_split': 5,\n",
       " 'min_samples_leaf': 2,\n",
       " 'min_child_weight': 6,\n",
       " 'max_depth': 17,\n",
       " 'learning_rate': 0.06,\n",
       " 'gamma': 0.8,\n",
       " 'colsample_bytree': 0.9}"
      ]
     },
     "execution_count": 261,
     "metadata": {},
     "output_type": "execute_result"
    }
   ],
   "source": [
    "#randomized searchcv to find the range of the hyperparameters of the XGboost\n",
    "\n",
    "cv = StratifiedKFold(shuffle  = True, n_splits = 4)\n",
    "n_estimators = []\n",
    "min_child_weight = [1,6,12]\n",
    "colsample_bytree = [0.9, 0.95,0.99]\n",
    "gamma = [0.8, 0.9]\n",
    "learning_rate =  [0.05, 0.06, 0.07] # default 0.1 \n",
    "max_depth =  range(10,20)# default 3\n",
    "subsample =  [0.9, 0.99]\n",
    "reg_alpha=[0.2, 0.4, 0.7, 0.9] \n",
    "\n",
    "random_para = {'n_estimators': n_estimators,\n",
    "               'max_depth': max_depth,\n",
    "               'gamma':gamma,\n",
    "               'min_child_weight': min_child_weight,\n",
    "               'min_samples_split': [5],\n",
    "               'min_samples_leaf': [2],\n",
    "               'learning_rate': learning_rate,\n",
    "               'subsample': subsample,\n",
    "               'colsample_bytree': colsample_bytree,\n",
    "               'reg_alpha': [0.4],\n",
    "               'njobs': [-1]}\n",
    "\n",
    "rand_search_rf = RandomizedSearchCV(model, random_para, cv=cv)\n",
    "rand_search_rf.fit(X_train, y_train)\n",
    "rand_search_rf.best_params_"
   ]
  },
  {
   "cell_type": "code",
   "execution_count": 347,
   "metadata": {},
   "outputs": [
    {
     "data": {
      "text/plain": [
       "[7, 8, 9]"
      ]
     },
     "execution_count": 347,
     "metadata": {},
     "output_type": "execute_result"
    }
   ],
   "source": [
    "list(range(7,10))"
   ]
  },
  {
   "cell_type": "code",
   "execution_count": 23,
   "metadata": {},
   "outputs": [],
   "source": [
    "###Grid Search\n",
    "#better practice would be to run randomized searchcv first to narrow down the range\n",
    "#then run gridsearchcv\n",
    "\n",
    "#import stratified K fold \n",
    "cv = StratifiedKFold(shuffle  = True, n_splits = 4)\n",
    "scale_pos_weight = [9]\n",
    "min_samples_split = [4]\n",
    "min_samples_leaf = [1]\n",
    "min_child_weight = [7]\n",
    "colsample_bytree = [0.6]\n",
    "gamma = [0.8]\n",
    "learning_rate =  [0.06] # default 0.1 \n",
    "max_depth =  [5,10,15,20] # default 3\n",
    "n_estimators = [280,300,320] # default 100\n",
    "subsample =  [0.9]\n",
    "reg_alpha=[0.4] \n",
    "\n",
    "grid_para = {'n_estimators': n_estimators,\n",
    "               'max_depth': max_depth,\n",
    "               'gamma':gamma,\n",
    "               'min_child_weight': min_child_weight,\n",
    "               'min_samples_split': min_samples_split,\n",
    "               'min_samples_leaf': min_samples_leaf,\n",
    "               'subsample': subsample,\n",
    "               'colsample_bytree': colsample_bytree,\n",
    "               'reg_alpha': reg_alpha,\n",
    "               'njobs': [-1],\n",
    "               'scale_pos_weight': scale_pos_weight}\n",
    "#import stratified K fold \n",
    "grid_search_forest = GridSearchCV(model, grid_para, cv=cv , scoring = 'roc_auc') #or roc_auc for scoring\n",
    "grid_search_forest.fit(X_train, y_train)\n",
    "\n",
    "bestparam= grid_search_forest.best_params_\n",
    "bestscore= grid_search_forest.best_score_"
   ]
  },
  {
   "cell_type": "code",
   "execution_count": 24,
   "metadata": {},
   "outputs": [
    {
     "data": {
      "text/plain": [
       "{'colsample_bytree': 0.6,\n",
       " 'gamma': 0.8,\n",
       " 'max_depth': 5,\n",
       " 'min_child_weight': 7,\n",
       " 'min_samples_leaf': 1,\n",
       " 'min_samples_split': 4,\n",
       " 'n_estimators': 280,\n",
       " 'njobs': -1,\n",
       " 'reg_alpha': 0.4,\n",
       " 'scale_pos_weight': 9,\n",
       " 'subsample': 0.9}"
      ]
     },
     "execution_count": 24,
     "metadata": {},
     "output_type": "execute_result"
    }
   ],
   "source": [
    "bestparam"
   ]
  },
  {
   "cell_type": "code",
   "execution_count": 296,
   "metadata": {},
   "outputs": [],
   "source": [
    "bestparam1 = bestparam"
   ]
  },
  {
   "cell_type": "code",
   "execution_count": 25,
   "metadata": {},
   "outputs": [
    {
     "name": "stdout",
     "output_type": "stream",
     "text": [
      "[0]\tvalidation_0-auc:0.56602\n",
      "Will train until validation_0-auc hasn't improved in 1 rounds.\n",
      "[1]\tvalidation_0-auc:0.619601\n",
      "[2]\tvalidation_0-auc:0.630656\n",
      "[3]\tvalidation_0-auc:0.64927\n",
      "[4]\tvalidation_0-auc:0.655194\n",
      "[5]\tvalidation_0-auc:0.65673\n",
      "[6]\tvalidation_0-auc:0.656228\n",
      "Stopping. Best iteration:\n",
      "[5]\tvalidation_0-auc:0.65673\n",
      "\n"
     ]
    },
    {
     "data": {
      "text/plain": [
       "0.5256217923410975"
      ]
     },
     "execution_count": 25,
     "metadata": {},
     "output_type": "execute_result"
    }
   ],
   "source": [
    "# Fit the model\n",
    "model=XGBClassifier(random_state = 0,**bestparam, class_weight = {0:1, 1:8})\n",
    "#model.set_params(bestparam)\n",
    "eval_set = [(X_test, y_test)]\n",
    "model.fit(X_train, y_train, early_stopping_rounds=1, eval_metric=\"auc\", eval_set=eval_set, verbose=True)\n",
    "model.score(X_test, y_test)"
   ]
  },
  {
   "cell_type": "code",
   "execution_count": 362,
   "metadata": {},
   "outputs": [
    {
     "name": "stdout",
     "output_type": "stream",
     "text": [
      "[0]\tvalidation_0-auc:0.762621\tvalidation_0-logloss:0.675108\tvalidation_1-auc:0.554067\tvalidation_1-logloss:0.682131\n",
      "[1]\tvalidation_0-auc:0.854266\tvalidation_0-logloss:0.653428\tvalidation_1-auc:0.584229\tvalidation_1-logloss:0.668373\n",
      "[2]\tvalidation_0-auc:0.889859\tvalidation_0-logloss:0.636254\tvalidation_1-auc:0.594783\tvalidation_1-logloss:0.657673\n",
      "[3]\tvalidation_0-auc:0.921375\tvalidation_0-logloss:0.616901\tvalidation_1-auc:0.605771\tvalidation_1-logloss:0.645289\n",
      "[4]\tvalidation_0-auc:0.940905\tvalidation_0-logloss:0.595127\tvalidation_1-auc:0.619673\tvalidation_1-logloss:0.63077\n",
      "[5]\tvalidation_0-auc:0.949564\tvalidation_0-logloss:0.578229\tvalidation_1-auc:0.625426\tvalidation_1-logloss:0.620183\n",
      "[6]\tvalidation_0-auc:0.959275\tvalidation_0-logloss:0.560882\tvalidation_1-auc:0.62678\tvalidation_1-logloss:0.609981\n",
      "[7]\tvalidation_0-auc:0.968017\tvalidation_0-logloss:0.544768\tvalidation_1-auc:0.628872\tvalidation_1-logloss:0.600621\n",
      "[8]\tvalidation_0-auc:0.974612\tvalidation_0-logloss:0.530887\tvalidation_1-auc:0.627717\tvalidation_1-logloss:0.592888\n",
      "[9]\tvalidation_0-auc:0.979111\tvalidation_0-logloss:0.517286\tvalidation_1-auc:0.630953\tvalidation_1-logloss:0.584616\n",
      "[10]\tvalidation_0-auc:0.981031\tvalidation_0-logloss:0.507079\tvalidation_1-auc:0.633002\tvalidation_1-logloss:0.57853\n",
      "[11]\tvalidation_0-auc:0.983525\tvalidation_0-logloss:0.492326\tvalidation_1-auc:0.635747\tvalidation_1-logloss:0.569526\n",
      "[12]\tvalidation_0-auc:0.985317\tvalidation_0-logloss:0.484239\tvalidation_1-auc:0.635088\tvalidation_1-logloss:0.565312\n",
      "[13]\tvalidation_0-auc:0.987402\tvalidation_0-logloss:0.469803\tvalidation_1-auc:0.637371\tvalidation_1-logloss:0.556197\n",
      "[14]\tvalidation_0-auc:0.988812\tvalidation_0-logloss:0.459631\tvalidation_1-auc:0.637226\tvalidation_1-logloss:0.550178\n",
      "[15]\tvalidation_0-auc:0.990894\tvalidation_0-logloss:0.449782\tvalidation_1-auc:0.636575\tvalidation_1-logloss:0.544581\n"
     ]
    },
    {
     "data": {
      "text/plain": [
       "0.7709040663245164"
      ]
     },
     "execution_count": 362,
     "metadata": {},
     "output_type": "execute_result"
    }
   ],
   "source": [
    "# Fit the model\n",
    "model=XGBClassifier(random_state = 0,**bestparam, class_weight = {0:1, 1:8})\n",
    "#model.set_params(bestparam)\n",
    "eval_set = [(X_train, y_train), (X_test, y_test)]\n",
    "model.fit(X_train, y_train, eval_metric=[\"auc\", \"logloss\"], eval_set=eval_set, verbose=True)\n",
    "model.score(X_test, y_test)"
   ]
  },
  {
   "cell_type": "code",
   "execution_count": 359,
   "metadata": {},
   "outputs": [
    {
     "name": "stdout",
     "output_type": "stream",
     "text": [
      "{'validation_0': {'auc': [0.762621, 0.854266, 0.889859, 0.921375, 0.940905, 0.949564, 0.959275, 0.968017, 0.974612, 0.979111, 0.981031, 0.983525, 0.985317, 0.987402, 0.988812, 0.990894]}, 'validation_1': {'auc': [0.554067, 0.584229, 0.594783, 0.605771, 0.619673, 0.625426, 0.62678, 0.628872, 0.627717, 0.630953, 0.633002, 0.635747, 0.635088, 0.637371, 0.637226, 0.636575]}}\n"
     ]
    }
   ],
   "source": [
    "results = model.evals_result()\n",
    "print(results)"
   ]
  },
  {
   "cell_type": "code",
   "execution_count": 363,
   "metadata": {},
   "outputs": [
    {
     "data": {
      "image/png": "[encoded data removed]",
      "text/plain": [
       "<Figure size 432x288 with 1 Axes>"
      ]
     },
     "metadata": {
      "needs_background": "light"
     },
     "output_type": "display_data"
    },
    {
     "data": {
      "image/png": "[encoded data removed]",
      "text/plain": [
       "<Figure size 432x288 with 1 Axes>"
      ]
     },
     "metadata": {
      "needs_background": "light"
     },
     "output_type": "display_data"
    }
   ],
   "source": [
    "# make predictions for test data\n",
    "y_pred = model.predict(X_test)\n",
    "predictions = [round(value) for value in y_pred]\n",
    "# retrieve performance metrics\n",
    "results = model.evals_result()\n",
    "epochs = len(results['validation_0']['auc'])\n",
    "x_axis = range(0, epochs)\n",
    "# plot AUC\n",
    "fig, ax = plt.subplots()\n",
    "ax.plot(x_axis, results['validation_0']['auc'], label='Train')\n",
    "ax.plot(x_axis, results['validation_1']['auc'], label='Test')\n",
    "ax.legend()\n",
    "plt.ylabel('AUC')\n",
    "plt.title('XGBoost AUC')\n",
    "plt.show()\n",
    "# plot log loss\n",
    "fig, ax = plt.subplots()\n",
    "ax.plot(x_axis, results['validation_0']['logloss'], label='Train')\n",
    "ax.plot(x_axis, results['validation_1']['logloss'], label='Test')\n",
    "ax.legend()\n",
    "plt.ylabel('Log Loss')\n",
    "plt.title('XGBoost Log Loss')\n",
    "plt.show()"
   ]
  },
  {
   "cell_type": "code",
   "execution_count": 26,
   "metadata": {},
   "outputs": [],
   "source": [
    "from sklearn.metrics import roc_auc_score\n",
    "AUC = roc_auc_score(y_test, model.predict(X_test))"
   ]
  },
  {
   "cell_type": "code",
   "execution_count": 27,
   "metadata": {},
   "outputs": [
    {
     "data": {
      "text/plain": [
       "0.6520722967434944"
      ]
     },
     "execution_count": 27,
     "metadata": {},
     "output_type": "execute_result"
    }
   ],
   "source": [
    "bestscore"
   ]
  },
  {
   "cell_type": "code",
   "execution_count": 28,
   "metadata": {},
   "outputs": [
    {
     "data": {
      "text/plain": [
       "0.6063614774880094"
      ]
     },
     "execution_count": 28,
     "metadata": {},
     "output_type": "execute_result"
    }
   ],
   "source": [
    "AUC"
   ]
  },
  {
   "cell_type": "code",
   "execution_count": 368,
   "metadata": {},
   "outputs": [
    {
     "data": {
      "text/plain": [
       "array([[17468,  4977],\n",
       "       [ 1786,  1099]])"
      ]
     },
     "execution_count": 368,
     "metadata": {},
     "output_type": "execute_result"
    }
   ],
   "source": [
    "confusion_matrix(y_test, model.predict(X_test))"
   ]
  },
  {
   "cell_type": "code",
   "execution_count": null,
   "metadata": {},
   "outputs": [],
   "source": []
  }
 ],
 "metadata": {
  "kernelspec": {
   "display_name": "Python 3",
   "language": "python",
   "name": "python3"
  },
  "language_info": {
   "codemirror_mode": {
    "name": "ipython",
    "version": 3
   },
   "file_extension": ".py",
   "mimetype": "text/x-python",
   "name": "python",
   "nbconvert_exporter": "python",
   "pygments_lexer": "ipython3",
   "version": "3.7.1"
  }
 },
 "nbformat": 4,
 "nbformat_minor": 2
}
