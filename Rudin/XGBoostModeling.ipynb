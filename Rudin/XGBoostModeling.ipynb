{
 "cells": [
  {
   "cell_type": "code",
   "execution_count": 255,
   "metadata": {},
   "outputs": [],
   "source": [
    "import pandas as pd\n",
    "import numpy as np\n",
    "import matplotlib.pyplot as plt\n",
    "from sklearn import ensemble\n",
    "from sklearn.model_selection import GridSearchCV, RandomizedSearchCV\n",
    "from sklearn import preprocessing\n",
    "from sklearn.model_selection import train_test_split, StratifiedKFold\n",
    "from xgboost.sklearn import XGBClassifier\n",
    "import xgboost as xgb\n",
    "from sklearn import preprocessing\n",
    "from sklearn.metrics import confusion_matrix"
   ]
  },
  {
   "cell_type": "code",
   "execution_count": 203,
   "metadata": {},
   "outputs": [],
   "source": [
    "diabetic7 = pd.read_csv(\"./dataset_diabetes/diabetic7.csv\")"
   ]
  },
  {
   "cell_type": "code",
   "execution_count": 204,
   "metadata": {},
   "outputs": [
    {
     "data": {
      "text/plain": [
       "(84432, 44)"
      ]
     },
     "execution_count": 204,
     "metadata": {},
     "output_type": "execute_result"
    }
   ],
   "source": [
    "diabetic7.shape"
   ]
  },
  {
   "cell_type": "code",
   "execution_count": 205,
   "metadata": {},
   "outputs": [
    {
     "data": {
      "text/plain": [
       "Index(['race', 'gender', 'age', 'admission_type_id', 'time_in_hospital',\n",
       "       'num_lab_procedures', 'num_procedures', 'num_medications',\n",
       "       'number_outpatient', 'number_emergency', 'number_inpatient',\n",
       "       'number_diagnoses', 'max_glu_serum', 'A1Cresult', 'metformin',\n",
       "       'repaglinide', 'nateglinide', 'chlorpropamide', 'acetohexamide',\n",
       "       'glipizide', 'glyburide', 'tolbutamide', 'pioglitazone',\n",
       "       'rosiglitazone', 'acarbose', 'miglitol', 'citoglipton', 'insulin',\n",
       "       'metformin-pioglitazone', 'change', 'diabetesMed', 'target', 'self_pay',\n",
       "       'medicaid/medicare', 'coverByInsurance', 'f_diag', 's_diag', 't_diag',\n",
       "       'clustering3', 'clustering4', 'clustering2', 'medical_specialty_new',\n",
       "       'discharge_id', 'admission_id'],\n",
       "      dtype='object')"
      ]
     },
     "execution_count": 205,
     "metadata": {},
     "output_type": "execute_result"
    }
   ],
   "source": [
    "diabetic7.columns"
   ]
  },
  {
   "cell_type": "code",
   "execution_count": 206,
   "metadata": {},
   "outputs": [],
   "source": [
    "diabetic7 = diabetic7.drop(['admission_type_id'], axis=1)"
   ]
  },
  {
   "cell_type": "code",
   "execution_count": 207,
   "metadata": {},
   "outputs": [
    {
     "data": {
      "text/plain": [
       "race                      object\n",
       "gender                    object\n",
       "age                       object\n",
       "time_in_hospital           int64\n",
       "num_lab_procedures         int64\n",
       "num_procedures             int64\n",
       "num_medications            int64\n",
       "number_outpatient          int64\n",
       "number_emergency           int64\n",
       "number_inpatient           int64\n",
       "number_diagnoses           int64\n",
       "max_glu_serum             object\n",
       "A1Cresult                 object\n",
       "metformin                 object\n",
       "repaglinide               object\n",
       "nateglinide               object\n",
       "chlorpropamide            object\n",
       "acetohexamide             object\n",
       "glipizide                 object\n",
       "glyburide                 object\n",
       "tolbutamide               object\n",
       "pioglitazone              object\n",
       "rosiglitazone             object\n",
       "acarbose                  object\n",
       "miglitol                  object\n",
       "citoglipton               object\n",
       "insulin                   object\n",
       "metformin-pioglitazone    object\n",
       "change                    object\n",
       "diabetesMed               object\n",
       "target                     int64\n",
       "self_pay                   int64\n",
       "medicaid/medicare          int64\n",
       "coverByInsurance           int64\n",
       "f_diag                    object\n",
       "s_diag                    object\n",
       "t_diag                    object\n",
       "clustering3                int64\n",
       "clustering4                int64\n",
       "clustering2                int64\n",
       "medical_specialty_new     object\n",
       "discharge_id              object\n",
       "admission_id              object\n",
       "dtype: object"
      ]
     },
     "execution_count": 207,
     "metadata": {},
     "output_type": "execute_result"
    }
   ],
   "source": [
    "diabetic7.dtypes"
   ]
  },
  {
   "cell_type": "code",
   "execution_count": 208,
   "metadata": {},
   "outputs": [],
   "source": [
    "le = preprocessing.LabelEncoder()"
   ]
  },
  {
   "cell_type": "code",
   "execution_count": 209,
   "metadata": {},
   "outputs": [
    {
     "name": "stdout",
     "output_type": "stream",
     "text": [
      "Number of Categorical features: 28\n",
      "Number of Numerical features: 15\n"
     ]
    }
   ],
   "source": [
    "categorical = diabetic7.select_dtypes(include = [\"object\"]).columns\n",
    "numerical = diabetic7.select_dtypes(exclude = [\"object\"]).columns\n",
    "print(\"Number of Categorical features: \" + str(len(categorical)))\n",
    "print(\"Number of Numerical features: \" + str(len(numerical)))\n",
    "diabetic7_categorical = diabetic7[categorical]\n",
    "diabetic7_numerical = diabetic7[numerical]"
   ]
  },
  {
   "cell_type": "code",
   "execution_count": 210,
   "metadata": {},
   "outputs": [],
   "source": [
    "categorical= list(categorical)\n",
    "numerical = list(numerical)"
   ]
  },
  {
   "cell_type": "code",
   "execution_count": 211,
   "metadata": {},
   "outputs": [],
   "source": [
    "for i in categorical:\n",
    "    diabetic7[i] = le.fit_transform(diabetic7[i])"
   ]
  },
  {
   "cell_type": "code",
   "execution_count": 212,
   "metadata": {},
   "outputs": [
    {
     "data": {
      "text/plain": [
       "race                      int64\n",
       "gender                    int64\n",
       "age                       int64\n",
       "time_in_hospital          int64\n",
       "num_lab_procedures        int64\n",
       "num_procedures            int64\n",
       "num_medications           int64\n",
       "number_outpatient         int64\n",
       "number_emergency          int64\n",
       "number_inpatient          int64\n",
       "number_diagnoses          int64\n",
       "max_glu_serum             int64\n",
       "A1Cresult                 int64\n",
       "metformin                 int64\n",
       "repaglinide               int64\n",
       "nateglinide               int64\n",
       "chlorpropamide            int64\n",
       "acetohexamide             int64\n",
       "glipizide                 int64\n",
       "glyburide                 int64\n",
       "tolbutamide               int64\n",
       "pioglitazone              int64\n",
       "rosiglitazone             int64\n",
       "acarbose                  int64\n",
       "miglitol                  int64\n",
       "citoglipton               int64\n",
       "insulin                   int64\n",
       "metformin-pioglitazone    int64\n",
       "change                    int64\n",
       "diabetesMed               int64\n",
       "target                    int64\n",
       "self_pay                  int64\n",
       "medicaid/medicare         int64\n",
       "coverByInsurance          int64\n",
       "f_diag                    int64\n",
       "s_diag                    int64\n",
       "t_diag                    int64\n",
       "clustering3               int64\n",
       "clustering4               int64\n",
       "clustering2               int64\n",
       "medical_specialty_new     int64\n",
       "discharge_id              int64\n",
       "admission_id              int64\n",
       "dtype: object"
      ]
     },
     "execution_count": 212,
     "metadata": {},
     "output_type": "execute_result"
    }
   ],
   "source": [
    "diabetic7.dtypes"
   ]
  },
  {
   "cell_type": "code",
   "execution_count": 213,
   "metadata": {},
   "outputs": [
    {
     "data": {
      "text/plain": [
       "Index(['race', 'gender', 'age', 'time_in_hospital', 'num_lab_procedures',\n",
       "       'num_procedures', 'num_medications', 'number_outpatient',\n",
       "       'number_emergency', 'number_inpatient', 'number_diagnoses',\n",
       "       'max_glu_serum', 'A1Cresult', 'metformin', 'repaglinide', 'nateglinide',\n",
       "       'chlorpropamide', 'acetohexamide', 'glipizide', 'glyburide',\n",
       "       'tolbutamide', 'pioglitazone', 'rosiglitazone', 'acarbose', 'miglitol',\n",
       "       'citoglipton', 'insulin', 'metformin-pioglitazone', 'change',\n",
       "       'diabetesMed', 'target', 'self_pay', 'medicaid/medicare',\n",
       "       'coverByInsurance', 'f_diag', 's_diag', 't_diag', 'clustering3',\n",
       "       'clustering4', 'clustering2', 'medical_specialty_new', 'discharge_id',\n",
       "       'admission_id'],\n",
       "      dtype='object')"
      ]
     },
     "execution_count": 213,
     "metadata": {},
     "output_type": "execute_result"
    }
   ],
   "source": [
    "diabetic7.columns"
   ]
  },
  {
   "cell_type": "code",
   "execution_count": 214,
   "metadata": {},
   "outputs": [],
   "source": [
    "answer = diabetic7['target']\n",
    "diabetic7 = diabetic7.drop(['target'], axis=1)"
   ]
  },
  {
   "cell_type": "code",
   "execution_count": 215,
   "metadata": {},
   "outputs": [
    {
     "name": "stdout",
     "output_type": "stream",
     "text": [
      "X_train : (59102, 42)\n",
      "X_test : (25330, 42)\n",
      "y_train : (59102,)\n",
      "y_test : (25330,)\n"
     ]
    }
   ],
   "source": [
    "#divide the dataset into train/test 7:3?\n",
    "X_train, X_test, y_train, y_test = train_test_split(diabetic7, answer, test_size = 0.3, random_state = 0, stratify=answer, shuffle=True)\n",
    "print(\"X_train : \" + str(X_train.shape))\n",
    "print(\"X_test : \" + str(X_test.shape))\n",
    "print(\"y_train : \" + str(y_train.shape))\n",
    "print(\"y_test : \" + str(y_test.shape))"
   ]
  },
  {
   "cell_type": "code",
   "execution_count": 216,
   "metadata": {},
   "outputs": [],
   "source": [
    "model=XGBClassifier(random_state=0, class_weight = {0:1, 1:8})"
   ]
  },
  {
   "cell_type": "code",
   "execution_count": 250,
   "metadata": {},
   "outputs": [],
   "source": [
    "n_trees_range = range(10,20, 4)  # OOB score will warning if too few trees\n",
    "train_error2 = []\n",
    "test_error2 = []\n",
    "oob_error = []\n",
    "\n",
    "for n_trees in n_trees_range:\n",
    "    model.set_params(n_estimators=n_trees, random_state=42, scale_pos_weight = 8, max_depth=6, n_jobs = -1)\n",
    "    model.fit(X_train, y_train)\n",
    "    train_error2.append(1 - model.score(X_train, y_train))\n",
    "    test_error2.append(1 - model.score(X_test, y_test))"
   ]
  },
  {
   "cell_type": "code",
   "execution_count": 251,
   "metadata": {},
   "outputs": [
    {
     "data": {
      "text/plain": [
       "<bound method XGBModel.get_params of XGBClassifier(base_score=0.5, booster='gbtree', class_weight={0: 1, 1: 8},\n",
       "       colsample_bylevel=1, colsample_bytree=1, gamma=0, learning_rate=0.1,\n",
       "       max_delta_step=0, max_depth=6, min_child_weight=1, missing=None,\n",
       "       n_estimators=18, n_jobs=-1, nthread=None,\n",
       "       objective='binary:logistic', random_state=42, reg_alpha=0,\n",
       "       reg_lambda=1, scale_pos_weight=8, seed=None, silent=True,\n",
       "       subsample=1)>"
      ]
     },
     "execution_count": 251,
     "metadata": {},
     "output_type": "execute_result"
    }
   ],
   "source": [
    "model.get_params"
   ]
  },
  {
   "cell_type": "code",
   "execution_count": 252,
   "metadata": {
    "scrolled": true
   },
   "outputs": [
    {
     "data": {
      "image/png": "[encoded data removed]",
      "text/plain": [
       "<Figure size 432x288 with 1 Axes>"
      ]
     },
     "metadata": {
      "needs_background": "light"
     },
     "output_type": "display_data"
    }
   ],
   "source": [
    "import matplotlib.pyplot as plt\n",
    "plt.plot(n_trees_range, train_error2, c='red', label='training error')\n",
    "plt.plot(n_trees_range, test_error2, c='blue', label='test error')\n",
    "plt.ylabel('Error')\n",
    "plt.xlabel('Number of trees')\n",
    "plt.legend()\n",
    "plt.show()"
   ]
  },
  {
   "cell_type": "code",
   "execution_count": 253,
   "metadata": {},
   "outputs": [
    {
     "data": {
      "text/plain": [
       "array([[33269, 19103],\n",
       "       [ 2283,  4447]])"
      ]
     },
     "execution_count": 253,
     "metadata": {},
     "output_type": "execute_result"
    }
   ],
   "source": [
    "confusion_matrix(y_train, model.predict(X_train))"
   ]
  },
  {
   "cell_type": "code",
   "execution_count": null,
   "metadata": {},
   "outputs": [],
   "source": [
    "{'reg_alpha': 0.2,\n",
    " 'min_samples_split': 10,\n",
    " 'min_samples_leaf': 4,\n",
    " 'max_depth': 110,\n",
    " 'learning_rate': 0.1,\n",
    "\n",
    " 'subsample': 0.5,\n",
    " 'n_estimators': 400,\n",
    " 'min_child_weight': 6,\n",
    " 'gamma': 0.2,\n",
    " 'colsample_bytree': 0.5}"
   ]
  },
  {
   "cell_type": "code",
   "execution_count": 259,
   "metadata": {},
   "outputs": [
    {
     "data": {
      "text/plain": [
       "RandomizedSearchCV(cv=StratifiedKFold(n_splits=4, random_state=None, shuffle=True),\n",
       "          error_score='raise-deprecating',\n",
       "          estimator=XGBClassifier(base_score=0.5, booster='gbtree', class_weight={0: 1, 1: 8},\n",
       "       colsample_bylevel=1, colsample_bytree=1, gamma=0, learning_rate=0.1,\n",
       "       max_delta_step=0, max_depth=3, min_child_weight=1, missing=None,\n",
       "       n_estimators=100, n_jobs=1, nthread=None,\n",
       "       objective='binary:logistic', random_state=0, reg_alpha=0,\n",
       "       reg_lambda=1, scale_pos_weight=1, seed=None, silent=True,\n",
       "       subsample=1),\n",
       "          fit_params=None, iid='warn', n_iter=10, n_jobs=None,\n",
       "          param_distributions={'n_estimators': [12, 14, 16], 'max_depth': [10, 20, 30, 40, 50, 60, 70, 80, 90, 100, 110], 'gamma': [0, 0.2, 0.5, 0.8], 'min_child_weight': [1, 6, 12], 'min_samples_split': [2, 5, 10], 'min_samples_leaf': [1, 2, 4], 'learning_rate': [0.02, 0.06, 0.1], 'subsample': [0.2, 0.5, 0.9], 'colsample_bytree': [0.1, 0.5, 0.9], 'reg_alpha': [0.2, 0.4, 0.7, 0.9], 'njobs': [-1]},\n",
       "          pre_dispatch='2*n_jobs', random_state=None, refit=True,\n",
       "          return_train_score='warn', scoring=None, verbose=0)"
      ]
     },
     "execution_count": 259,
     "metadata": {},
     "output_type": "execute_result"
    }
   ],
   "source": [
    "#randomized searchcv to find the range of the hyperparameters of the XGboost\n",
    "\n",
    "\n",
    "cv = StratifiedKFold(shuffle  = True, n_splits = 4)\n",
    "n_estimators = [12, 14, 16]\n",
    "min_samples_split = [2, 5, 10]\n",
    "min_samples_leaf = min_samples_leaf = [1, 2, 4]\n",
    "min_child_weight = [1,6,12]\n",
    "colsample_bytree = [0.1, 0.5, 0.9]\n",
    "gamma = [0, 0.2, 0.5, 0.8]\n",
    "learning_rate =  [0.02, 0.06, 0.1] # default 0.1 \n",
    "max_depth =  [int(x) for x in np.linspace(10, 110, num = 11)]# default 3\n",
    "subsample =  [0.2, 0.5, 0.9]\n",
    "reg_alpha=[0.2, 0.4, 0.7, 0.9] \n",
    "\n",
    "random_para = {'n_estimators': n_estimators,\n",
    "               'max_depth': max_depth,\n",
    "               'gamma':gamma,\n",
    "               'min_child_weight': min_child_weight,\n",
    "               'min_samples_split': min_samples_split,\n",
    "               'min_samples_leaf': min_samples_leaf,\n",
    "               'learning_rate': learning_rate,\n",
    "               'subsample': subsample,\n",
    "               'colsample_bytree': colsample_bytree,\n",
    "               'reg_alpha': reg_alpha,\n",
    "               'njobs': [-1]}\n",
    "\n",
    "rand_search_rf = RandomizedSearchCV(model, random_para, cv=cv)\n",
    "rand_search_rf.fit(X_train, y_train)\n"
   ]
  },
  {
   "cell_type": "code",
   "execution_count": null,
   "metadata": {},
   "outputs": [],
   "source": [
    "#taking risks scores for variables/groups\n",
    "#take out a hold-out sample of observations\n",
    "#risk-table - for categories \n",
    "#risk features"
   ]
  },
  {
   "cell_type": "code",
   "execution_count": null,
   "metadata": {},
   "outputs": [],
   "source": [
    "#auc - validation easily feasible\n",
    "#true positive/false positive rates \n",
    "#classify a group as risk group -> average of highest and lowest risk groups"
   ]
  },
  {
   "cell_type": "code",
   "execution_count": 260,
   "metadata": {},
   "outputs": [
    {
     "data": {
      "text/plain": [
       "{'subsample': 0.9,\n",
       " 'reg_alpha': 0.4,\n",
       " 'njobs': -1,\n",
       " 'n_estimators': 16,\n",
       " 'min_samples_split': 5,\n",
       " 'min_samples_leaf': 2,\n",
       " 'min_child_weight': 6,\n",
       " 'max_depth': 10,\n",
       " 'learning_rate': 0.06,\n",
       " 'gamma': 0.8,\n",
       " 'colsample_bytree': 0.9}"
      ]
     },
     "execution_count": 260,
     "metadata": {},
     "output_type": "execute_result"
    }
   ],
   "source": [
    "rand_search_rf.best_params_"
   ]
  },
  {
   "cell_type": "code",
   "execution_count": 8,
   "metadata": {},
   "outputs": [],
   "source": [
    "#fit the model and get auc score"
   ]
  },
  {
   "cell_type": "code",
   "execution_count": 261,
   "metadata": {},
   "outputs": [
    {
     "data": {
      "text/plain": [
       "{'subsample': 0.9,\n",
       " 'reg_alpha': 0.4,\n",
       " 'njobs': -1,\n",
       " 'n_estimators': 16,\n",
       " 'min_samples_split': 5,\n",
       " 'min_samples_leaf': 2,\n",
       " 'min_child_weight': 6,\n",
       " 'max_depth': 17,\n",
       " 'learning_rate': 0.06,\n",
       " 'gamma': 0.8,\n",
       " 'colsample_bytree': 0.9}"
      ]
     },
     "execution_count": 261,
     "metadata": {},
     "output_type": "execute_result"
    }
   ],
   "source": [
    "#randomized searchcv to find the range of the hyperparameters of the XGboost\n",
    "\n",
    "cv = StratifiedKFold(shuffle  = True, n_splits = 4)\n",
    "n_estimators = [14,16,18]\n",
    "min_child_weight = [1,6,12]\n",
    "colsample_bytree = [0.9, 0.95,0.99]\n",
    "gamma = [0.8, 0.9]\n",
    "learning_rate =  [0.05, 0.06, 0.07] # default 0.1 \n",
    "max_depth =  range(10,20)# default 3\n",
    "subsample =  [0.9, 0.99]\n",
    "reg_alpha=[0.2, 0.4, 0.7, 0.9] \n",
    "\n",
    "random_para = {'n_estimators': n_estimators,\n",
    "               'max_depth': max_depth,\n",
    "               'gamma':gamma,\n",
    "               'min_child_weight': min_child_weight,\n",
    "               'min_samples_split': [5],\n",
    "               'min_samples_leaf': [2],\n",
    "               'learning_rate': learning_rate,\n",
    "               'subsample': subsample,\n",
    "               'colsample_bytree': colsample_bytree,\n",
    "               'reg_alpha': [0.4],\n",
    "               'njobs': [-1]}\n",
    "\n",
    "rand_search_rf = RandomizedSearchCV(model, random_para, cv=cv)\n",
    "rand_search_rf.fit(X_train, y_train)\n",
    "rand_search_rf.best_params_"
   ]
  },
  {
   "cell_type": "code",
   "execution_count": 265,
   "metadata": {},
   "outputs": [],
   "source": [
    "###Grid Search\n",
    "#better practice would be to run randomized searchcv first to narrow down the range\n",
    "#then run gridsearchcv\n",
    "\n",
    "#import stratified K fold \n",
    "cv = StratifiedKFold(shuffle  = True, n_splits = 4)\n",
    "min_samples_split = [4,5,6]\n",
    "min_samples_leaf = [1,2]\n",
    "min_child_weight = [5,6,7]\n",
    "colsample_bytree = [0.4,0.5,0.6]\n",
    "gamma = [0.8]\n",
    "learning_rate =  [0.06] # default 0.1 \n",
    "max_depth =  [17] # default 3\n",
    "n_estimators = [16] # default 100\n",
    "subsample =  [0.9]\n",
    "reg_alpha=[0.4] \n",
    "grid_para = {'n_estimators': n_estimators,\n",
    "               'max_depth': max_depth,\n",
    "               'gamma':gamma,\n",
    "               'min_child_weight': min_child_weight,\n",
    "               'min_samples_split': min_samples_split,\n",
    "               'min_samples_leaf': min_samples_leaf,\n",
    "               'subsample': subsample,\n",
    "               'colsample_bytree': colsample_bytree,\n",
    "               'reg_alpha': reg_alpha,\n",
    "               'njobs': [-1]}\n",
    "#import stratified K fold \n",
    "grid_search_forest = GridSearchCV(model, grid_para, cv=cv , scoring = 'roc_auc') #or roc_auc for scoring\n",
    "grid_search_forest.fit(X_train, y_train)\n",
    "\n",
    "bestparam= grid_search_forest.best_params_\n",
    "bestscore= grid_search_forest.best_score_"
   ]
  },
  {
   "cell_type": "code",
   "execution_count": 266,
   "metadata": {},
   "outputs": [
    {
     "data": {
      "text/plain": [
       "{'colsample_bytree': 0.6,\n",
       " 'gamma': 0.8,\n",
       " 'max_depth': 17,\n",
       " 'min_child_weight': 7,\n",
       " 'min_samples_leaf': 1,\n",
       " 'min_samples_split': 4,\n",
       " 'n_estimators': 16,\n",
       " 'njobs': -1,\n",
       " 'reg_alpha': 0.4,\n",
       " 'subsample': 0.9}"
      ]
     },
     "execution_count": 266,
     "metadata": {},
     "output_type": "execute_result"
    }
   ],
   "source": [
    "bestparam"
   ]
  },
  {
   "cell_type": "code",
   "execution_count": 278,
   "metadata": {},
   "outputs": [
    {
     "data": {
      "text/plain": [
       "0.8861034346624556"
      ]
     },
     "execution_count": 278,
     "metadata": {},
     "output_type": "execute_result"
    }
   ],
   "source": [
    "# Fit the model\n",
    "model=XGBClassifier(random_state = 0,**bestparam)\n",
    "#model.set_params(bestparam)\n",
    "model.fit(X_train, y_train)\n",
    "model.score(X_test, y_test)"
   ]
  },
  {
   "cell_type": "code",
   "execution_count": 279,
   "metadata": {},
   "outputs": [],
   "source": [
    "from sklearn.metrics import roc_auc_score\n",
    "AUC = roc_auc_score(y_test, model.predict(X_test))"
   ]
  },
  {
   "cell_type": "code",
   "execution_count": 268,
   "metadata": {},
   "outputs": [
    {
     "data": {
      "text/plain": [
       "0.6565283678146493"
      ]
     },
     "execution_count": 268,
     "metadata": {},
     "output_type": "execute_result"
    }
   ],
   "source": [
    "bestscore"
   ]
  },
  {
   "cell_type": "code",
   "execution_count": 270,
   "metadata": {},
   "outputs": [
    {
     "data": {
      "text/plain": [
       "0.5024165367837343"
      ]
     },
     "execution_count": 270,
     "metadata": {},
     "output_type": "execute_result"
    }
   ],
   "source": [
    "AUC"
   ]
  },
  {
   "cell_type": "code",
   "execution_count": 276,
   "metadata": {},
   "outputs": [
    {
     "data": {
      "text/plain": [
       "array([[22429,    16],\n",
       "       [ 2869,    16]])"
      ]
     },
     "execution_count": 276,
     "metadata": {},
     "output_type": "execute_result"
    }
   ],
   "source": [
    "confusion_matrix(y_test, model.predict(X_test))"
   ]
  },
  {
   "cell_type": "code",
   "execution_count": null,
   "metadata": {},
   "outputs": [],
   "source": []
  }
 ],
 "metadata": {
  "kernelspec": {
   "display_name": "Python 3",
   "language": "python",
   "name": "python3"
  },
  "language_info": {
   "codemirror_mode": {
    "name": "ipython",
    "version": 3
   },
   "file_extension": ".py",
   "mimetype": "text/x-python",
   "name": "python",
   "nbconvert_exporter": "python",
   "pygments_lexer": "ipython3",
   "version": "3.7.1"
  }
 },
 "nbformat": 4,
 "nbformat_minor": 2
}
