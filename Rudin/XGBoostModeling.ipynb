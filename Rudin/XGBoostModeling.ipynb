{
 "cells": [
  {
   "cell_type": "code",
   "execution_count": 36,
   "metadata": {},
   "outputs": [],
   "source": [
    "import pandas as pd\n",
    "import numpy as np\n",
    "import matplotlib.pyplot as plt\n",
    "from sklearn import ensemble\n",
    "from sklearn.model_selection import GridSearchCV, RandomizedSearchCV\n",
    "from sklearn import preprocessing\n",
    "from sklearn.model_selection import train_test_split, StratifiedKFold\n",
    "from xgboost.sklearn import XGBClassifier\n",
    "import xgboost as xgb\n",
    "from sklearn import preprocessing\n",
    "from sklearn.metrics import confusion_matrix\n",
    "from sklearn.preprocessing import StandardScaler"
   ]
  },
  {
   "cell_type": "code",
   "execution_count": 81,
   "metadata": {},
   "outputs": [],
   "source": [
    "diabetic7 = pd.read_csv(\"./dataset_diabetes/diabetic7.csv\")"
   ]
  },
  {
   "cell_type": "code",
   "execution_count": 56,
   "metadata": {},
   "outputs": [
    {
     "data": {
      "text/plain": [
       "(84432, 44)"
      ]
     },
     "execution_count": 56,
     "metadata": {},
     "output_type": "execute_result"
    }
   ],
   "source": [
    "diabetic7.shape"
   ]
  },
  {
   "cell_type": "code",
   "execution_count": 57,
   "metadata": {},
   "outputs": [
    {
     "data": {
      "text/plain": [
       "Index(['race', 'gender', 'age', 'admission_type_id', 'time_in_hospital',\n",
       "       'num_lab_procedures', 'num_procedures', 'num_medications',\n",
       "       'number_outpatient', 'number_emergency', 'number_inpatient',\n",
       "       'number_diagnoses', 'max_glu_serum', 'A1Cresult', 'metformin',\n",
       "       'repaglinide', 'nateglinide', 'chlorpropamide', 'acetohexamide',\n",
       "       'glipizide', 'glyburide', 'tolbutamide', 'pioglitazone',\n",
       "       'rosiglitazone', 'acarbose', 'miglitol', 'citoglipton', 'insulin',\n",
       "       'metformin-pioglitazone', 'change', 'diabetesMed', 'target', 'self_pay',\n",
       "       'medicaid/medicare', 'coverByInsurance', 'f_diag', 's_diag', 't_diag',\n",
       "       'clustering3', 'clustering4', 'clustering2', 'medical_specialty_new',\n",
       "       'discharge_id', 'admission_id'],\n",
       "      dtype='object')"
      ]
     },
     "execution_count": 57,
     "metadata": {},
     "output_type": "execute_result"
    }
   ],
   "source": [
    "diabetic7.columns"
   ]
  },
  {
   "cell_type": "code",
   "execution_count": 82,
   "metadata": {},
   "outputs": [],
   "source": [
    "diabetic7 = diabetic7.drop(['admission_type_id'], axis=1)"
   ]
  },
  {
   "cell_type": "code",
   "execution_count": 83,
   "metadata": {},
   "outputs": [
    {
     "data": {
      "text/plain": [
       "race                      object\n",
       "gender                    object\n",
       "age                       object\n",
       "time_in_hospital           int64\n",
       "num_lab_procedures         int64\n",
       "num_procedures             int64\n",
       "num_medications            int64\n",
       "number_outpatient          int64\n",
       "number_emergency           int64\n",
       "number_inpatient           int64\n",
       "number_diagnoses           int64\n",
       "max_glu_serum             object\n",
       "A1Cresult                 object\n",
       "metformin                 object\n",
       "repaglinide               object\n",
       "nateglinide               object\n",
       "chlorpropamide            object\n",
       "acetohexamide             object\n",
       "glipizide                 object\n",
       "glyburide                 object\n",
       "tolbutamide               object\n",
       "pioglitazone              object\n",
       "rosiglitazone             object\n",
       "acarbose                  object\n",
       "miglitol                  object\n",
       "citoglipton               object\n",
       "insulin                   object\n",
       "metformin-pioglitazone    object\n",
       "change                    object\n",
       "diabetesMed               object\n",
       "target                     int64\n",
       "self_pay                   int64\n",
       "medicaid/medicare          int64\n",
       "coverByInsurance           int64\n",
       "f_diag                    object\n",
       "s_diag                    object\n",
       "t_diag                    object\n",
       "clustering3                int64\n",
       "clustering4                int64\n",
       "clustering2                int64\n",
       "medical_specialty_new     object\n",
       "discharge_id              object\n",
       "admission_id              object\n",
       "dtype: object"
      ]
     },
     "execution_count": 83,
     "metadata": {},
     "output_type": "execute_result"
    }
   ],
   "source": [
    "diabetic7.dtypes"
   ]
  },
  {
   "cell_type": "code",
   "execution_count": 85,
   "metadata": {},
   "outputs": [],
   "source": [
    "numlist = list(diabetic7.select_dtypes(\"int64\").columns)\n",
    "numlist.remove('self_pay')\n",
    "numlist.remove('medicaid/medicare')\n",
    "numlist.remove('coverByInsurance')\n",
    "numlist.remove('clustering3')\n",
    "numlist.remove('clustering4')\n",
    "numlist.remove('clustering2')\n",
    "numlist.remove('target')"
   ]
  },
  {
   "cell_type": "code",
   "execution_count": 108,
   "metadata": {},
   "outputs": [],
   "source": [
    "numerical = list(numlist)\n",
    "scale = StandardScaler()"
   ]
  },
  {
   "cell_type": "code",
   "execution_count": 87,
   "metadata": {},
   "outputs": [],
   "source": [
    "for i in numerical:\n",
    "    diabetic7[numerical] = scale.fit_transform(diabetic_std[numerical])"
   ]
  },
  {
   "cell_type": "code",
   "execution_count": 89,
   "metadata": {},
   "outputs": [
    {
     "data": {
      "text/plain": [
       "race                       object\n",
       "gender                     object\n",
       "age                        object\n",
       "time_in_hospital          float64\n",
       "num_lab_procedures        float64\n",
       "num_procedures            float64\n",
       "num_medications           float64\n",
       "number_outpatient         float64\n",
       "number_emergency          float64\n",
       "number_inpatient          float64\n",
       "number_diagnoses          float64\n",
       "max_glu_serum              object\n",
       "A1Cresult                  object\n",
       "metformin                  object\n",
       "repaglinide                object\n",
       "nateglinide                object\n",
       "chlorpropamide             object\n",
       "acetohexamide              object\n",
       "glipizide                  object\n",
       "glyburide                  object\n",
       "tolbutamide                object\n",
       "pioglitazone               object\n",
       "rosiglitazone              object\n",
       "acarbose                   object\n",
       "miglitol                   object\n",
       "citoglipton                object\n",
       "insulin                    object\n",
       "metformin-pioglitazone     object\n",
       "change                     object\n",
       "diabetesMed                object\n",
       "target                      int64\n",
       "self_pay                    int64\n",
       "medicaid/medicare           int64\n",
       "coverByInsurance            int64\n",
       "f_diag                     object\n",
       "s_diag                     object\n",
       "t_diag                     object\n",
       "clustering3                 int64\n",
       "clustering4                 int64\n",
       "clustering2                 int64\n",
       "medical_specialty_new      object\n",
       "discharge_id               object\n",
       "admission_id               object\n",
       "dtype: object"
      ]
     },
     "execution_count": 89,
     "metadata": {},
     "output_type": "execute_result"
    }
   ],
   "source": [
    "diabetic7.dtypes"
   ]
  },
  {
   "cell_type": "code",
   "execution_count": 90,
   "metadata": {},
   "outputs": [
    {
     "name": "stdout",
     "output_type": "stream",
     "text": [
      "Number of Categorical features: 28\n",
      "Number of Numerical features: 15\n"
     ]
    }
   ],
   "source": [
    "categorical = diabetic7.select_dtypes(include = [\"object\"]).columns\n",
    "numerical = diabetic7.select_dtypes(exclude = [\"object\"]).columns\n",
    "print(\"Number of Categorical features: \" + str(len(categorical)))\n",
    "print(\"Number of Numerical features: \" + str(len(numerical)))\n",
    "diabetic7_categorical = diabetic7[categorical]\n",
    "diabetic7_numerical = diabetic7[numerical]"
   ]
  },
  {
   "cell_type": "code",
   "execution_count": 91,
   "metadata": {},
   "outputs": [],
   "source": [
    "le = preprocessing.LabelEncoder()"
   ]
  },
  {
   "cell_type": "code",
   "execution_count": 92,
   "metadata": {},
   "outputs": [],
   "source": [
    "categorical= list(categorical)"
   ]
  },
  {
   "cell_type": "code",
   "execution_count": 93,
   "metadata": {},
   "outputs": [],
   "source": [
    "for i in categorical:\n",
    "    diabetic7[i] = le.fit_transform(diabetic7[i])"
   ]
  },
  {
   "cell_type": "code",
   "execution_count": 94,
   "metadata": {},
   "outputs": [
    {
     "data": {
      "text/plain": [
       "race                        int64\n",
       "gender                      int64\n",
       "age                         int64\n",
       "time_in_hospital          float64\n",
       "num_lab_procedures        float64\n",
       "num_procedures            float64\n",
       "num_medications           float64\n",
       "number_outpatient         float64\n",
       "number_emergency          float64\n",
       "number_inpatient          float64\n",
       "number_diagnoses          float64\n",
       "max_glu_serum               int64\n",
       "A1Cresult                   int64\n",
       "metformin                   int64\n",
       "repaglinide                 int64\n",
       "nateglinide                 int64\n",
       "chlorpropamide              int64\n",
       "acetohexamide               int64\n",
       "glipizide                   int64\n",
       "glyburide                   int64\n",
       "tolbutamide                 int64\n",
       "pioglitazone                int64\n",
       "rosiglitazone               int64\n",
       "acarbose                    int64\n",
       "miglitol                    int64\n",
       "citoglipton                 int64\n",
       "insulin                     int64\n",
       "metformin-pioglitazone      int64\n",
       "change                      int64\n",
       "diabetesMed                 int64\n",
       "target                      int64\n",
       "self_pay                    int64\n",
       "medicaid/medicare           int64\n",
       "coverByInsurance            int64\n",
       "f_diag                      int64\n",
       "s_diag                      int64\n",
       "t_diag                      int64\n",
       "clustering3                 int64\n",
       "clustering4                 int64\n",
       "clustering2                 int64\n",
       "medical_specialty_new       int64\n",
       "discharge_id                int64\n",
       "admission_id                int64\n",
       "dtype: object"
      ]
     },
     "execution_count": 94,
     "metadata": {},
     "output_type": "execute_result"
    }
   ],
   "source": [
    "diabetic7.dtypes"
   ]
  },
  {
   "cell_type": "code",
   "execution_count": 74,
   "metadata": {},
   "outputs": [
    {
     "data": {
      "text/plain": [
       "Index(['race', 'gender', 'age', 'time_in_hospital', 'num_lab_procedures',\n",
       "       'num_procedures', 'num_medications', 'number_outpatient',\n",
       "       'number_emergency', 'number_inpatient', 'number_diagnoses',\n",
       "       'max_glu_serum', 'A1Cresult', 'metformin', 'repaglinide', 'nateglinide',\n",
       "       'chlorpropamide', 'acetohexamide', 'glipizide', 'glyburide',\n",
       "       'tolbutamide', 'pioglitazone', 'rosiglitazone', 'acarbose', 'miglitol',\n",
       "       'citoglipton', 'insulin', 'metformin-pioglitazone', 'change',\n",
       "       'diabetesMed', 'target', 'self_pay', 'medicaid/medicare',\n",
       "       'coverByInsurance', 'f_diag', 's_diag', 't_diag', 'clustering3',\n",
       "       'clustering4', 'clustering2', 'medical_specialty_new', 'discharge_id',\n",
       "       'admission_id'],\n",
       "      dtype='object')"
      ]
     },
     "execution_count": 74,
     "metadata": {},
     "output_type": "execute_result"
    }
   ],
   "source": [
    "diabetic7.columns"
   ]
  },
  {
   "cell_type": "code",
   "execution_count": 95,
   "metadata": {},
   "outputs": [],
   "source": [
    "answer = diabetic7['target']\n",
    "diabetic7 = diabetic7.drop(['target'], axis=1)"
   ]
  },
  {
   "cell_type": "code",
   "execution_count": 96,
   "metadata": {},
   "outputs": [
    {
     "name": "stdout",
     "output_type": "stream",
     "text": [
      "X_train : (59102, 42)\n",
      "X_test : (25330, 42)\n",
      "y_train : (59102,)\n",
      "y_test : (25330,)\n"
     ]
    }
   ],
   "source": [
    "#divide the dataset into train/test 7:3?\n",
    "X_train, X_test, y_train, y_test = train_test_split(diabetic7, answer, test_size = 0.3, random_state = 0, stratify=answer, shuffle=True)\n",
    "print(\"X_train : \" + str(X_train.shape))\n",
    "print(\"X_test : \" + str(X_test.shape))\n",
    "print(\"y_train : \" + str(y_train.shape))\n",
    "print(\"y_test : \" + str(y_test.shape))"
   ]
  },
  {
   "cell_type": "code",
   "execution_count": 97,
   "metadata": {},
   "outputs": [],
   "source": [
    "model=XGBClassifier(random_state=0, class_weight = {0:1, 1:8})"
   ]
  },
  {
   "cell_type": "code",
   "execution_count": 24,
   "metadata": {},
   "outputs": [],
   "source": [
    "n_trees_range = range(10,300, 4)  # OOB score will warning if too few trees\n",
    "train_error2 = []\n",
    "test_error2 = []\n",
    "oob_error = []\n",
    "\n",
    "for n_trees in n_trees_range:\n",
    "    model.set_params(n_estimators=n_trees, random_state=42, scale_pos_weight = 8, max_depth=6, n_jobs = -1)\n",
    "    model.fit(X_train, y_train)\n",
    "    train_error2.append(1 - model.score(X_train, y_train))\n",
    "    test_error2.append(1 - model.score(X_test, y_test))"
   ]
  },
  {
   "cell_type": "code",
   "execution_count": 17,
   "metadata": {},
   "outputs": [
    {
     "data": {
      "text/plain": [
       "<bound method XGBModel.get_params of XGBClassifier(base_score=0.5, booster='gbtree', class_weight={0: 1, 1: 8},\n",
       "       colsample_bylevel=1, colsample_bytree=1, gamma=0, learning_rate=0.1,\n",
       "       max_delta_step=0, max_depth=6, min_child_weight=1, missing=None,\n",
       "       n_estimators=66, n_jobs=-1, nthread=None,\n",
       "       objective='binary:logistic', random_state=42, reg_alpha=0,\n",
       "       reg_lambda=1, scale_pos_weight=8, seed=None, silent=True,\n",
       "       subsample=1)>"
      ]
     },
     "execution_count": 17,
     "metadata": {},
     "output_type": "execute_result"
    }
   ],
   "source": [
    "model.get_params"
   ]
  },
  {
   "cell_type": "code",
   "execution_count": 25,
   "metadata": {
    "scrolled": true
   },
   "outputs": [
    {
     "data": {
      "image/png": "[encoded data removed]",
      "text/plain": [
       "<Figure size 432x288 with 1 Axes>"
      ]
     },
     "metadata": {
      "needs_background": "light"
     },
     "output_type": "display_data"
    }
   ],
   "source": [
    "import matplotlib.pyplot as plt\n",
    "plt.plot(n_trees_range, train_error2, c='red', label='training error')\n",
    "plt.plot(n_trees_range, test_error2, c='blue', label='test error')\n",
    "plt.ylabel('Error')\n",
    "plt.xlabel('Number of trees')\n",
    "plt.legend()\n",
    "plt.show()"
   ]
  },
  {
   "cell_type": "code",
   "execution_count": 253,
   "metadata": {},
   "outputs": [
    {
     "data": {
      "text/plain": [
       "array([[33269, 19103],\n",
       "       [ 2283,  4447]])"
      ]
     },
     "execution_count": 253,
     "metadata": {},
     "output_type": "execute_result"
    }
   ],
   "source": [
    "confusion_matrix(y_train, model.predict(X_train))"
   ]
  },
  {
   "cell_type": "code",
   "execution_count": 147,
   "metadata": {},
   "outputs": [
    {
     "data": {
      "text/plain": [
       "RandomizedSearchCV(cv=StratifiedKFold(n_splits=4, random_state=None, shuffle=True),\n",
       "          error_score='raise-deprecating',\n",
       "          estimator=XGBClassifier(base_score=0.5, booster='gbtree', class_weight={0: 1, 1: 8},\n",
       "       colsample_bylevel=1, colsample_bytree=0.6, gamma=0.8,\n",
       "       learning_rate=0.1, max_delta_step=0, max_depth=5,\n",
       "       min_child_weight=7, min_samples_leaf=1, min_samples_split=4,\n",
       "       missing=None, n_estimators=280, n_jobs=1, njobs=-1, nthread=None,\n",
       "       objective='binary:logistic', random_state=0, reg_alpha=0.4,\n",
       "       reg_lambda=1, scale_pos_weight=9, seed=None, silent=True,\n",
       "       subsample=0.9),\n",
       "          fit_params=None, iid='warn', n_iter=10, n_jobs=None,\n",
       "          param_distributions={'n_estimators': [260, 280, 300], 'max_depth': [10, 20, 30, 40, 50, 60, 70, 80, 90, 100, 110], 'gamma': [0.2, 0.5, 0.8], 'min_child_weight': [1, 6, 12], 'min_samples_split': [2, 4, 6, 8, 10], 'min_samples_leaf': [1, 2, 4], 'learning_rate': [0.02, 0.06, 0.1], 'subsample': [0.2, 0.5, 0.9], 'colsample_bytree': [0.1, 0.5, 0.9], 'reg_alpha': [0.2, 0.4, 0.7, 0.9], 'njobs': [-1], 'scale_pos_weight': [8, 9]},\n",
       "          pre_dispatch='2*n_jobs', random_state=None, refit=True,\n",
       "          return_train_score='warn', scoring=None, verbose=0)"
      ]
     },
     "execution_count": 147,
     "metadata": {},
     "output_type": "execute_result"
    }
   ],
   "source": [
    "#randomized searchcv to find the range of the hyperparameters of the XGboost\n",
    "\n",
    "\n",
    "cv = StratifiedKFold(shuffle  = True, n_splits = 4)\n",
    "n_estimators = [260, 280,300]\n",
    "scale_pos_weight = [8,9]\n",
    "min_samples_split = [2, 4, 6,8,10]\n",
    "min_samples_leaf = min_samples_leaf = [1, 2, 4]\n",
    "min_child_weight = [1,6,12]\n",
    "colsample_bytree = [0.1, 0.5, 0.9]\n",
    "gamma = [0.2, 0.5, 0.8]\n",
    "learning_rate =  [0.02, 0.06, 0.1] # default 0.1 \n",
    "max_depth =  [int(x) for x in np.linspace(10, 110, num = 11)]# default 3\n",
    "subsample =  [0.2, 0.5, 0.9]\n",
    "reg_alpha=[0.2, 0.4, 0.7, 0.9] \n",
    "\n",
    "random_para = {'n_estimators': n_estimators,\n",
    "               'max_depth': max_depth,\n",
    "               'gamma':gamma,\n",
    "               'min_child_weight': min_child_weight,\n",
    "               'min_samples_split': min_samples_split,\n",
    "               'min_samples_leaf': min_samples_leaf,\n",
    "               'learning_rate': learning_rate,\n",
    "               'subsample': subsample,\n",
    "               'colsample_bytree': colsample_bytree,\n",
    "               'reg_alpha': reg_alpha,\n",
    "               'njobs': [-1],\n",
    "               'scale_pos_weight': scale_pos_weight}\n",
    "\n",
    "rand_search_rf = RandomizedSearchCV(model, random_para, cv=cv)\n",
    "rand_search_rf.fit(X_train, y_train)"
   ]
  },
  {
   "cell_type": "code",
   "execution_count": null,
   "metadata": {},
   "outputs": [],
   "source": [
    "#taking risks scores for variables/groups\n",
    "#take out a hold-out sample of observations\n",
    "#risk-table - for categories \n",
    "#risk features"
   ]
  },
  {
   "cell_type": "code",
   "execution_count": null,
   "metadata": {},
   "outputs": [],
   "source": [
    "#auc - validation easily feasible\n",
    "#true positive/false positive rates \n",
    "#classify a group as risk group -> average of highest and lowest risk groups"
   ]
  },
  {
   "cell_type": "code",
   "execution_count": 148,
   "metadata": {},
   "outputs": [
    {
     "data": {
      "text/plain": [
       "{'subsample': 0.9,\n",
       " 'scale_pos_weight': 9,\n",
       " 'reg_alpha': 0.2,\n",
       " 'njobs': -1,\n",
       " 'n_estimators': 300,\n",
       " 'min_samples_split': 8,\n",
       " 'min_samples_leaf': 2,\n",
       " 'min_child_weight': 1,\n",
       " 'max_depth': 70,\n",
       " 'learning_rate': 0.06,\n",
       " 'gamma': 0.8,\n",
       " 'colsample_bytree': 0.5}"
      ]
     },
     "execution_count": 148,
     "metadata": {},
     "output_type": "execute_result"
    }
   ],
   "source": [
    "rand_search_rf.best_params_"
   ]
  },
  {
   "cell_type": "code",
   "execution_count": 171,
   "metadata": {},
   "outputs": [],
   "source": [
    "#fit the model and get auc score"
   ]
  },
  {
   "cell_type": "code",
   "execution_count": null,
   "metadata": {},
   "outputs": [],
   "source": [
    "#randomized searchcv to find the range of the hyperparameters of the XGboost\n",
    "\n",
    "cv = StratifiedKFold(shuffle  = True, n_splits = 4)\n",
    "n_estimators = [300]\n",
    "scale_pos_weight = [9]\n",
    "min_child_weight = [1,6,12]\n",
    "colsample_bytree = [0.9]\n",
    "gamma = [0.8, 0.9]\n",
    "learning_rate =  [0.05, 0.06, 0.07] # default 0.1 \n",
    "max_depth =  [60, 70, 80]\n",
    "subsample =  [0.9]\n",
    "reg_alpha=[0.1, 0.2] \n",
    "\n",
    "random_para = {'n_estimators': n_estimators,\n",
    "               'max_depth': max_depth,\n",
    "               'gamma':gamma,\n",
    "               'min_child_weight': min_child_weight,\n",
    "               'min_samples_split': [5],\n",
    "               'min_samples_leaf': [2],\n",
    "               'learning_rate': learning_rate,\n",
    "               'subsample': subsample,\n",
    "               'colsample_bytree': colsample_bytree,\n",
    "               'reg_alpha': [0.4],\n",
    "               'njobs': [-1],\n",
    "               'scale_pos_weight': scale_pos_weight}\n",
    "\n",
    "rand_search_rf = RandomizedSearchCV(model, random_para, cv=cv)\n",
    "rand_search_rf.fit(X_train, y_train)\n",
    "rand_search_rf.best_params_"
   ]
  },
  {
   "cell_type": "code",
   "execution_count": null,
   "metadata": {},
   "outputs": [],
   "source": [
    "###Grid Search\n",
    "#better practice would be to run randomized searchcv first to narrow down the range\n",
    "#then run gridsearchcv\n",
    "\n",
    "cv = StratifiedKFold(shuffle  = True, n_splits = 4)\n",
    "n_estimators = [300,320,340]\n",
    "scale_pos_weight = [9]\n",
    "min_child_weight = [1]\n",
    "colsample_bytree = [0.9]\n",
    "gamma = [0.9]\n",
    "learning_rate =  [0.045,0.05, 0.055] # default 0.1 \n",
    "max_depth =  [55,60,65]\n",
    "subsample =  [0.9]\n",
    "reg_alpha=[0.3,0.4,0.5] \n",
    "\n",
    "grid_para = {'n_estimators': n_estimators,\n",
    "               'max_depth': max_depth,\n",
    "               'gamma':gamma,\n",
    "               'mian_child_weight': min_child_weight,\n",
    "               'min_samples_split': [5],\n",
    "               'min_samples_leaf': [2],\n",
    "               'learning_rate': learning_rate,\n",
    "               'subsample': subsample,\n",
    "               'colsample_bytree': colsample_bytree,\n",
    "               'reg_alpha': [0.4],\n",
    "               'njobs': [-1],\n",
    "               'scale_pos_weight': scale_pos_weight}\n",
    "#import stratified K fold \n",
    "\n",
    "grid_search_forest = GridSearchCV(model, grid_para, cv=cv , scoring = 'roc_auc') #or roc_auc for scoring\n",
    "grid_search_forest.fit(X_train, y_train)\n",
    "\n",
    "bestparam= grid_search_forest.best_params_\n",
    "bestscore= grid_search_forest.best_score_"
   ]
  },
  {
   "cell_type": "code",
   "execution_count": 24,
   "metadata": {},
   "outputs": [
    {
     "data": {
      "text/plain": [
       "{'colsample_bytree': 0.6,\n",
       " 'gamma': 0.8,\n",
       " 'max_depth': 5,\n",
       " 'min_child_weight': 7,\n",
       " 'min_samples_leaf': 1,\n",
       " 'min_samples_split': 4,\n",
       " 'n_estimators': 280,\n",
       " 'njobs': -1,\n",
       " 'reg_alpha': 0.4,\n",
       " 'scale_pos_weight': 9,\n",
       " 'subsample': 0.9}"
      ]
     },
     "execution_count": 24,
     "metadata": {},
     "output_type": "execute_result"
    }
   ],
   "source": [
    "bestparam"
   ]
  },
  {
   "cell_type": "code",
   "execution_count": 296,
   "metadata": {},
   "outputs": [],
   "source": [
    "bestparam1 = bestparam"
   ]
  },
  {
   "cell_type": "code",
   "execution_count": 132,
   "metadata": {},
   "outputs": [
    {
     "name": "stdout",
     "output_type": "stream",
     "text": [
      "[0]\tvalidation_0-auc:0.56602\n",
      "Will train until validation_0-auc hasn't improved in 20 rounds.\n",
      "[1]\tvalidation_0-auc:0.619601\n",
      "[2]\tvalidation_0-auc:0.630656\n",
      "[3]\tvalidation_0-auc:0.64927\n",
      "[4]\tvalidation_0-auc:0.655194\n",
      "[5]\tvalidation_0-auc:0.65673\n",
      "[6]\tvalidation_0-auc:0.656228\n",
      "[7]\tvalidation_0-auc:0.659212\n",
      "[8]\tvalidation_0-auc:0.659519\n",
      "[9]\tvalidation_0-auc:0.660935\n",
      "[10]\tvalidation_0-auc:0.66166\n",
      "[11]\tvalidation_0-auc:0.662206\n",
      "[12]\tvalidation_0-auc:0.661561\n",
      "[13]\tvalidation_0-auc:0.662569\n",
      "[14]\tvalidation_0-auc:0.663019\n",
      "[15]\tvalidation_0-auc:0.663129\n",
      "[16]\tvalidation_0-auc:0.663218\n",
      "[17]\tvalidation_0-auc:0.66317\n",
      "[18]\tvalidation_0-auc:0.664339\n",
      "[19]\tvalidation_0-auc:0.664751\n",
      "[20]\tvalidation_0-auc:0.665161\n",
      "[21]\tvalidation_0-auc:0.66517\n",
      "[22]\tvalidation_0-auc:0.665649\n",
      "[23]\tvalidation_0-auc:0.666129\n",
      "[24]\tvalidation_0-auc:0.665878\n",
      "[25]\tvalidation_0-auc:0.666159\n",
      "[26]\tvalidation_0-auc:0.66663\n",
      "[27]\tvalidation_0-auc:0.666185\n",
      "[28]\tvalidation_0-auc:0.666649\n",
      "[29]\tvalidation_0-auc:0.666271\n",
      "[30]\tvalidation_0-auc:0.665955\n",
      "[31]\tvalidation_0-auc:0.665704\n",
      "[32]\tvalidation_0-auc:0.665666\n",
      "[33]\tvalidation_0-auc:0.665425\n",
      "[34]\tvalidation_0-auc:0.66553\n",
      "[35]\tvalidation_0-auc:0.665928\n",
      "[36]\tvalidation_0-auc:0.66573\n",
      "[37]\tvalidation_0-auc:0.66581\n",
      "[38]\tvalidation_0-auc:0.666245\n",
      "[39]\tvalidation_0-auc:0.666132\n",
      "[40]\tvalidation_0-auc:0.666212\n",
      "[41]\tvalidation_0-auc:0.666101\n",
      "[42]\tvalidation_0-auc:0.666037\n",
      "[43]\tvalidation_0-auc:0.66597\n",
      "[44]\tvalidation_0-auc:0.665703\n",
      "[45]\tvalidation_0-auc:0.665821\n",
      "[46]\tvalidation_0-auc:0.666084\n",
      "[47]\tvalidation_0-auc:0.666281\n",
      "[48]\tvalidation_0-auc:0.666131\n",
      "Stopping. Best iteration:\n",
      "[28]\tvalidation_0-auc:0.666649\n",
      "\n"
     ]
    },
    {
     "data": {
      "text/plain": [
       "0.5532175286221871"
      ]
     },
     "execution_count": 132,
     "metadata": {},
     "output_type": "execute_result"
    }
   ],
   "source": [
    "# Fit the model\n",
    "model=XGBClassifier(random_state = 0,**bestparam, class_weight = {0:1, 1:8})\n",
    "#model.set_params(bestparam)\n",
    "eval_set = [(X_test, y_test)]\n",
    "model.fit(X_train, y_train, early_stopping_rounds=20, eval_metric=\"auc\", eval_set=eval_set, verbose=True)\n",
    "model.score(X_test, y_test)"
   ]
  },
  {
   "cell_type": "code",
   "execution_count": 112,
   "metadata": {},
   "outputs": [
    {
     "name": "stdout",
     "output_type": "stream",
     "text": [
      "[0]\tvalidation_0-auc:0.586443\tvalidation_0-logloss:0.695571\tvalidation_1-auc:0.56602\tvalidation_1-logloss:0.695831\n",
      "[1]\tvalidation_0-auc:0.639799\tvalidation_0-logloss:0.694971\tvalidation_1-auc:0.619601\tvalidation_1-logloss:0.695586\n",
      "[2]\tvalidation_0-auc:0.649549\tvalidation_0-logloss:0.694381\tvalidation_1-auc:0.630656\tvalidation_1-logloss:0.695229\n",
      "[3]\tvalidation_0-auc:0.667972\tvalidation_0-logloss:0.694267\tvalidation_1-auc:0.64927\tvalidation_1-logloss:0.695193\n",
      "[4]\tvalidation_0-auc:0.673335\tvalidation_0-logloss:0.692455\tvalidation_1-auc:0.655194\tvalidation_1-logloss:0.693641\n",
      "[5]\tvalidation_0-auc:0.674859\tvalidation_0-logloss:0.691158\tvalidation_1-auc:0.65673\tvalidation_1-logloss:0.692619\n",
      "[6]\tvalidation_0-auc:0.675107\tvalidation_0-logloss:0.691149\tvalidation_1-auc:0.656228\tvalidation_1-logloss:0.692833\n",
      "[7]\tvalidation_0-auc:0.677662\tvalidation_0-logloss:0.691454\tvalidation_1-auc:0.659212\tvalidation_1-logloss:0.693243\n",
      "[8]\tvalidation_0-auc:0.679051\tvalidation_0-logloss:0.69264\tvalidation_1-auc:0.659519\tvalidation_1-logloss:0.694583\n",
      "[9]\tvalidation_0-auc:0.680868\tvalidation_0-logloss:0.692822\tvalidation_1-auc:0.660935\tvalidation_1-logloss:0.69495\n",
      "[10]\tvalidation_0-auc:0.681617\tvalidation_0-logloss:0.692579\tvalidation_1-auc:0.66166\tvalidation_1-logloss:0.694986\n",
      "[11]\tvalidation_0-auc:0.681894\tvalidation_0-logloss:0.691754\tvalidation_1-auc:0.662206\tvalidation_1-logloss:0.694419\n",
      "[12]\tvalidation_0-auc:0.683508\tvalidation_0-logloss:0.692585\tvalidation_1-auc:0.661561\tvalidation_1-logloss:0.695582\n",
      "[13]\tvalidation_0-auc:0.684693\tvalidation_0-logloss:0.691299\tvalidation_1-auc:0.662569\tvalidation_1-logloss:0.694665\n",
      "[14]\tvalidation_0-auc:0.684926\tvalidation_0-logloss:0.690754\tvalidation_1-auc:0.663019\tvalidation_1-logloss:0.694245\n",
      "[15]\tvalidation_0-auc:0.686157\tvalidation_0-logloss:0.69111\tvalidation_1-auc:0.663129\tvalidation_1-logloss:0.694937\n",
      "[16]\tvalidation_0-auc:0.686358\tvalidation_0-logloss:0.690849\tvalidation_1-auc:0.663218\tvalidation_1-logloss:0.694944\n",
      "[17]\tvalidation_0-auc:0.686588\tvalidation_0-logloss:0.690694\tvalidation_1-auc:0.66317\tvalidation_1-logloss:0.695029\n",
      "[18]\tvalidation_0-auc:0.688914\tvalidation_0-logloss:0.68981\tvalidation_1-auc:0.664339\tvalidation_1-logloss:0.694283\n",
      "[19]\tvalidation_0-auc:0.6897\tvalidation_0-logloss:0.689085\tvalidation_1-auc:0.664751\tvalidation_1-logloss:0.693795\n",
      "[20]\tvalidation_0-auc:0.689834\tvalidation_0-logloss:0.688456\tvalidation_1-auc:0.665161\tvalidation_1-logloss:0.693369\n",
      "[21]\tvalidation_0-auc:0.690837\tvalidation_0-logloss:0.688155\tvalidation_1-auc:0.66517\tvalidation_1-logloss:0.693345\n",
      "[22]\tvalidation_0-auc:0.691202\tvalidation_0-logloss:0.687161\tvalidation_1-auc:0.665649\tvalidation_1-logloss:0.69246\n",
      "[23]\tvalidation_0-auc:0.692445\tvalidation_0-logloss:0.68663\tvalidation_1-auc:0.666129\tvalidation_1-logloss:0.692174\n",
      "[24]\tvalidation_0-auc:0.692824\tvalidation_0-logloss:0.686173\tvalidation_1-auc:0.665878\tvalidation_1-logloss:0.692004\n",
      "[25]\tvalidation_0-auc:0.694149\tvalidation_0-logloss:0.685775\tvalidation_1-auc:0.666159\tvalidation_1-logloss:0.691721\n",
      "[26]\tvalidation_0-auc:0.694522\tvalidation_0-logloss:0.684972\tvalidation_1-auc:0.66663\tvalidation_1-logloss:0.69115\n",
      "[27]\tvalidation_0-auc:0.695136\tvalidation_0-logloss:0.684543\tvalidation_1-auc:0.666185\tvalidation_1-logloss:0.691122\n",
      "[28]\tvalidation_0-auc:0.695891\tvalidation_0-logloss:0.68425\tvalidation_1-auc:0.666649\tvalidation_1-logloss:0.690986\n",
      "[29]\tvalidation_0-auc:0.696484\tvalidation_0-logloss:0.683966\tvalidation_1-auc:0.666271\tvalidation_1-logloss:0.690994\n",
      "[30]\tvalidation_0-auc:0.696991\tvalidation_0-logloss:0.683441\tvalidation_1-auc:0.665955\tvalidation_1-logloss:0.690786\n",
      "[31]\tvalidation_0-auc:0.697298\tvalidation_0-logloss:0.683123\tvalidation_1-auc:0.665704\tvalidation_1-logloss:0.69071\n",
      "[32]\tvalidation_0-auc:0.697751\tvalidation_0-logloss:0.682661\tvalidation_1-auc:0.665666\tvalidation_1-logloss:0.690412\n",
      "[33]\tvalidation_0-auc:0.69904\tvalidation_0-logloss:0.682177\tvalidation_1-auc:0.665425\tvalidation_1-logloss:0.690347\n",
      "[34]\tvalidation_0-auc:0.699487\tvalidation_0-logloss:0.681766\tvalidation_1-auc:0.66553\tvalidation_1-logloss:0.690089\n",
      "[35]\tvalidation_0-auc:0.700024\tvalidation_0-logloss:0.681128\tvalidation_1-auc:0.665928\tvalidation_1-logloss:0.689665\n",
      "[36]\tvalidation_0-auc:0.700685\tvalidation_0-logloss:0.680692\tvalidation_1-auc:0.66573\tvalidation_1-logloss:0.689541\n",
      "[37]\tvalidation_0-auc:0.701143\tvalidation_0-logloss:0.68038\tvalidation_1-auc:0.66581\tvalidation_1-logloss:0.689329\n",
      "[38]\tvalidation_0-auc:0.702209\tvalidation_0-logloss:0.680059\tvalidation_1-auc:0.666245\tvalidation_1-logloss:0.689193\n",
      "[39]\tvalidation_0-auc:0.703097\tvalidation_0-logloss:0.679451\tvalidation_1-auc:0.666132\tvalidation_1-logloss:0.688795\n",
      "[40]\tvalidation_0-auc:0.704326\tvalidation_0-logloss:0.678646\tvalidation_1-auc:0.666212\tvalidation_1-logloss:0.688228\n",
      "[41]\tvalidation_0-auc:0.705042\tvalidation_0-logloss:0.678523\tvalidation_1-auc:0.666101\tvalidation_1-logloss:0.688196\n",
      "[42]\tvalidation_0-auc:0.706203\tvalidation_0-logloss:0.677671\tvalidation_1-auc:0.666037\tvalidation_1-logloss:0.687668\n",
      "[43]\tvalidation_0-auc:0.707295\tvalidation_0-logloss:0.677234\tvalidation_1-auc:0.66597\tvalidation_1-logloss:0.687494\n",
      "[44]\tvalidation_0-auc:0.708109\tvalidation_0-logloss:0.676508\tvalidation_1-auc:0.665703\tvalidation_1-logloss:0.686926\n",
      "[45]\tvalidation_0-auc:0.709405\tvalidation_0-logloss:0.676092\tvalidation_1-auc:0.665821\tvalidation_1-logloss:0.686772\n",
      "[46]\tvalidation_0-auc:0.710189\tvalidation_0-logloss:0.6755\tvalidation_1-auc:0.666084\tvalidation_1-logloss:0.68626\n",
      "[47]\tvalidation_0-auc:0.710817\tvalidation_0-logloss:0.675197\tvalidation_1-auc:0.666281\tvalidation_1-logloss:0.686033\n",
      "[48]\tvalidation_0-auc:0.711454\tvalidation_0-logloss:0.675168\tvalidation_1-auc:0.666131\tvalidation_1-logloss:0.686224\n",
      "[49]\tvalidation_0-auc:0.71175\tvalidation_0-logloss:0.675005\tvalidation_1-auc:0.665918\tvalidation_1-logloss:0.686233\n",
      "[50]\tvalidation_0-auc:0.712385\tvalidation_0-logloss:0.674535\tvalidation_1-auc:0.665738\tvalidation_1-logloss:0.685892\n",
      "[51]\tvalidation_0-auc:0.712782\tvalidation_0-logloss:0.674246\tvalidation_1-auc:0.66598\tvalidation_1-logloss:0.685648\n",
      "[52]\tvalidation_0-auc:0.713511\tvalidation_0-logloss:0.67412\tvalidation_1-auc:0.666074\tvalidation_1-logloss:0.685642\n",
      "[53]\tvalidation_0-auc:0.713877\tvalidation_0-logloss:0.673553\tvalidation_1-auc:0.665646\tvalidation_1-logloss:0.685279\n",
      "[54]\tvalidation_0-auc:0.714112\tvalidation_0-logloss:0.673072\tvalidation_1-auc:0.665386\tvalidation_1-logloss:0.685072\n",
      "[55]\tvalidation_0-auc:0.714525\tvalidation_0-logloss:0.672849\tvalidation_1-auc:0.665313\tvalidation_1-logloss:0.685019\n",
      "[56]\tvalidation_0-auc:0.715091\tvalidation_0-logloss:0.672371\tvalidation_1-auc:0.665393\tvalidation_1-logloss:0.684672\n",
      "[57]\tvalidation_0-auc:0.715582\tvalidation_0-logloss:0.67188\tvalidation_1-auc:0.665709\tvalidation_1-logloss:0.684245\n",
      "[58]\tvalidation_0-auc:0.716412\tvalidation_0-logloss:0.671066\tvalidation_1-auc:0.666258\tvalidation_1-logloss:0.68355\n",
      "[59]\tvalidation_0-auc:0.716913\tvalidation_0-logloss:0.671055\tvalidation_1-auc:0.666208\tvalidation_1-logloss:0.683679\n",
      "[60]\tvalidation_0-auc:0.717195\tvalidation_0-logloss:0.67034\tvalidation_1-auc:0.666264\tvalidation_1-logloss:0.683117\n",
      "[61]\tvalidation_0-auc:0.717755\tvalidation_0-logloss:0.669938\tvalidation_1-auc:0.6657\tvalidation_1-logloss:0.682958\n",
      "[62]\tvalidation_0-auc:0.718797\tvalidation_0-logloss:0.669165\tvalidation_1-auc:0.666148\tvalidation_1-logloss:0.68233\n",
      "[63]\tvalidation_0-auc:0.719852\tvalidation_0-logloss:0.66867\tvalidation_1-auc:0.666296\tvalidation_1-logloss:0.682138\n",
      "[64]\tvalidation_0-auc:0.720925\tvalidation_0-logloss:0.667933\tvalidation_1-auc:0.666534\tvalidation_1-logloss:0.68163\n",
      "[65]\tvalidation_0-auc:0.72113\tvalidation_0-logloss:0.66786\tvalidation_1-auc:0.666675\tvalidation_1-logloss:0.68167\n",
      "[66]\tvalidation_0-auc:0.721907\tvalidation_0-logloss:0.66757\tvalidation_1-auc:0.666672\tvalidation_1-logloss:0.681625\n",
      "[67]\tvalidation_0-auc:0.722471\tvalidation_0-logloss:0.66711\tvalidation_1-auc:0.66696\tvalidation_1-logloss:0.681279\n",
      "[68]\tvalidation_0-auc:0.723248\tvalidation_0-logloss:0.666714\tvalidation_1-auc:0.666905\tvalidation_1-logloss:0.681077\n",
      "[69]\tvalidation_0-auc:0.72386\tvalidation_0-logloss:0.666096\tvalidation_1-auc:0.667153\tvalidation_1-logloss:0.680709\n",
      "[70]\tvalidation_0-auc:0.724684\tvalidation_0-logloss:0.665564\tvalidation_1-auc:0.666967\tvalidation_1-logloss:0.680522\n"
     ]
    },
    {
     "name": "stdout",
     "output_type": "stream",
     "text": [
      "[71]\tvalidation_0-auc:0.725037\tvalidation_0-logloss:0.664993\tvalidation_1-auc:0.667194\tvalidation_1-logloss:0.679971\n",
      "[72]\tvalidation_0-auc:0.725394\tvalidation_0-logloss:0.664758\tvalidation_1-auc:0.667123\tvalidation_1-logloss:0.679839\n",
      "[73]\tvalidation_0-auc:0.726197\tvalidation_0-logloss:0.664433\tvalidation_1-auc:0.667593\tvalidation_1-logloss:0.679596\n",
      "[74]\tvalidation_0-auc:0.726653\tvalidation_0-logloss:0.66435\tvalidation_1-auc:0.667555\tvalidation_1-logloss:0.679664\n",
      "[75]\tvalidation_0-auc:0.727262\tvalidation_0-logloss:0.663876\tvalidation_1-auc:0.667564\tvalidation_1-logloss:0.67933\n",
      "[76]\tvalidation_0-auc:0.727897\tvalidation_0-logloss:0.663455\tvalidation_1-auc:0.667659\tvalidation_1-logloss:0.679063\n",
      "[77]\tvalidation_0-auc:0.728706\tvalidation_0-logloss:0.66283\tvalidation_1-auc:0.667736\tvalidation_1-logloss:0.678697\n",
      "[78]\tvalidation_0-auc:0.729083\tvalidation_0-logloss:0.662636\tvalidation_1-auc:0.667644\tvalidation_1-logloss:0.678632\n",
      "[79]\tvalidation_0-auc:0.729789\tvalidation_0-logloss:0.662175\tvalidation_1-auc:0.667791\tvalidation_1-logloss:0.678304\n",
      "[80]\tvalidation_0-auc:0.730422\tvalidation_0-logloss:0.661714\tvalidation_1-auc:0.667643\tvalidation_1-logloss:0.678103\n",
      "[81]\tvalidation_0-auc:0.731037\tvalidation_0-logloss:0.661496\tvalidation_1-auc:0.667593\tvalidation_1-logloss:0.67805\n",
      "[82]\tvalidation_0-auc:0.731708\tvalidation_0-logloss:0.661335\tvalidation_1-auc:0.667668\tvalidation_1-logloss:0.678079\n",
      "[83]\tvalidation_0-auc:0.732064\tvalidation_0-logloss:0.661096\tvalidation_1-auc:0.667463\tvalidation_1-logloss:0.678011\n",
      "[84]\tvalidation_0-auc:0.732539\tvalidation_0-logloss:0.661053\tvalidation_1-auc:0.667551\tvalidation_1-logloss:0.677996\n",
      "[85]\tvalidation_0-auc:0.732712\tvalidation_0-logloss:0.66066\tvalidation_1-auc:0.667457\tvalidation_1-logloss:0.677692\n",
      "[86]\tvalidation_0-auc:0.733292\tvalidation_0-logloss:0.660123\tvalidation_1-auc:0.667796\tvalidation_1-logloss:0.677293\n",
      "[87]\tvalidation_0-auc:0.73386\tvalidation_0-logloss:0.659621\tvalidation_1-auc:0.667854\tvalidation_1-logloss:0.676899\n",
      "[88]\tvalidation_0-auc:0.734993\tvalidation_0-logloss:0.658973\tvalidation_1-auc:0.667787\tvalidation_1-logloss:0.676451\n",
      "[89]\tvalidation_0-auc:0.735349\tvalidation_0-logloss:0.65863\tvalidation_1-auc:0.667728\tvalidation_1-logloss:0.676316\n",
      "[90]\tvalidation_0-auc:0.736147\tvalidation_0-logloss:0.657858\tvalidation_1-auc:0.667896\tvalidation_1-logloss:0.675677\n",
      "[91]\tvalidation_0-auc:0.736501\tvalidation_0-logloss:0.657841\tvalidation_1-auc:0.667757\tvalidation_1-logloss:0.675805\n",
      "[92]\tvalidation_0-auc:0.737092\tvalidation_0-logloss:0.657492\tvalidation_1-auc:0.667917\tvalidation_1-logloss:0.67554\n",
      "[93]\tvalidation_0-auc:0.737336\tvalidation_0-logloss:0.65734\tvalidation_1-auc:0.668024\tvalidation_1-logloss:0.675455\n",
      "[94]\tvalidation_0-auc:0.737869\tvalidation_0-logloss:0.656705\tvalidation_1-auc:0.667824\tvalidation_1-logloss:0.674958\n",
      "[95]\tvalidation_0-auc:0.738383\tvalidation_0-logloss:0.656431\tvalidation_1-auc:0.667934\tvalidation_1-logloss:0.67474\n",
      "[96]\tvalidation_0-auc:0.738991\tvalidation_0-logloss:0.656173\tvalidation_1-auc:0.66791\tvalidation_1-logloss:0.674739\n",
      "[97]\tvalidation_0-auc:0.739725\tvalidation_0-logloss:0.655864\tvalidation_1-auc:0.667892\tvalidation_1-logloss:0.674513\n",
      "[98]\tvalidation_0-auc:0.740975\tvalidation_0-logloss:0.655439\tvalidation_1-auc:0.668135\tvalidation_1-logloss:0.67434\n",
      "[99]\tvalidation_0-auc:0.741851\tvalidation_0-logloss:0.654547\tvalidation_1-auc:0.66804\tvalidation_1-logloss:0.673678\n",
      "[100]\tvalidation_0-auc:0.742147\tvalidation_0-logloss:0.654347\tvalidation_1-auc:0.668143\tvalidation_1-logloss:0.673568\n",
      "[101]\tvalidation_0-auc:0.742885\tvalidation_0-logloss:0.653737\tvalidation_1-auc:0.668268\tvalidation_1-logloss:0.673083\n",
      "[102]\tvalidation_0-auc:0.743361\tvalidation_0-logloss:0.653447\tvalidation_1-auc:0.668343\tvalidation_1-logloss:0.672927\n",
      "[103]\tvalidation_0-auc:0.743848\tvalidation_0-logloss:0.653433\tvalidation_1-auc:0.668374\tvalidation_1-logloss:0.673038\n",
      "[104]\tvalidation_0-auc:0.743948\tvalidation_0-logloss:0.652932\tvalidation_1-auc:0.668378\tvalidation_1-logloss:0.672563\n",
      "[105]\tvalidation_0-auc:0.744746\tvalidation_0-logloss:0.65244\tvalidation_1-auc:0.668175\tvalidation_1-logloss:0.672261\n",
      "[106]\tvalidation_0-auc:0.745563\tvalidation_0-logloss:0.651804\tvalidation_1-auc:0.668094\tvalidation_1-logloss:0.671951\n",
      "[107]\tvalidation_0-auc:0.745997\tvalidation_0-logloss:0.651439\tvalidation_1-auc:0.668105\tvalidation_1-logloss:0.671607\n",
      "[108]\tvalidation_0-auc:0.74657\tvalidation_0-logloss:0.651046\tvalidation_1-auc:0.667845\tvalidation_1-logloss:0.671418\n",
      "[109]\tvalidation_0-auc:0.747217\tvalidation_0-logloss:0.65045\tvalidation_1-auc:0.668069\tvalidation_1-logloss:0.670985\n",
      "[110]\tvalidation_0-auc:0.747749\tvalidation_0-logloss:0.650225\tvalidation_1-auc:0.66821\tvalidation_1-logloss:0.670865\n",
      "[111]\tvalidation_0-auc:0.748654\tvalidation_0-logloss:0.649746\tvalidation_1-auc:0.667765\tvalidation_1-logloss:0.67078\n",
      "[112]\tvalidation_0-auc:0.749519\tvalidation_0-logloss:0.649088\tvalidation_1-auc:0.667558\tvalidation_1-logloss:0.670383\n",
      "[113]\tvalidation_0-auc:0.749821\tvalidation_0-logloss:0.648818\tvalidation_1-auc:0.667434\tvalidation_1-logloss:0.670229\n",
      "[114]\tvalidation_0-auc:0.749889\tvalidation_0-logloss:0.648681\tvalidation_1-auc:0.667562\tvalidation_1-logloss:0.670112\n",
      "[115]\tvalidation_0-auc:0.750573\tvalidation_0-logloss:0.648432\tvalidation_1-auc:0.667568\tvalidation_1-logloss:0.670062\n",
      "[116]\tvalidation_0-auc:0.750826\tvalidation_0-logloss:0.648244\tvalidation_1-auc:0.667527\tvalidation_1-logloss:0.669972\n",
      "[117]\tvalidation_0-auc:0.75127\tvalidation_0-logloss:0.648038\tvalidation_1-auc:0.667535\tvalidation_1-logloss:0.669887\n",
      "[118]\tvalidation_0-auc:0.751773\tvalidation_0-logloss:0.647792\tvalidation_1-auc:0.667543\tvalidation_1-logloss:0.669767\n",
      "[119]\tvalidation_0-auc:0.752267\tvalidation_0-logloss:0.647144\tvalidation_1-auc:0.667871\tvalidation_1-logloss:0.66917\n",
      "[120]\tvalidation_0-auc:0.752888\tvalidation_0-logloss:0.646535\tvalidation_1-auc:0.667784\tvalidation_1-logloss:0.668733\n",
      "[121]\tvalidation_0-auc:0.753425\tvalidation_0-logloss:0.646175\tvalidation_1-auc:0.667795\tvalidation_1-logloss:0.668466\n",
      "[122]\tvalidation_0-auc:0.753855\tvalidation_0-logloss:0.646164\tvalidation_1-auc:0.667544\tvalidation_1-logloss:0.668608\n",
      "[123]\tvalidation_0-auc:0.754525\tvalidation_0-logloss:0.645586\tvalidation_1-auc:0.667526\tvalidation_1-logloss:0.668119\n",
      "[124]\tvalidation_0-auc:0.7548\tvalidation_0-logloss:0.64561\tvalidation_1-auc:0.66745\tvalidation_1-logloss:0.668239\n",
      "[125]\tvalidation_0-auc:0.75507\tvalidation_0-logloss:0.645266\tvalidation_1-auc:0.667416\tvalidation_1-logloss:0.667949\n",
      "[126]\tvalidation_0-auc:0.755562\tvalidation_0-logloss:0.645058\tvalidation_1-auc:0.667237\tvalidation_1-logloss:0.667875\n",
      "[127]\tvalidation_0-auc:0.756363\tvalidation_0-logloss:0.64448\tvalidation_1-auc:0.667316\tvalidation_1-logloss:0.667559\n",
      "[128]\tvalidation_0-auc:0.756865\tvalidation_0-logloss:0.64402\tvalidation_1-auc:0.667215\tvalidation_1-logloss:0.667381\n",
      "[129]\tvalidation_0-auc:0.757418\tvalidation_0-logloss:0.643645\tvalidation_1-auc:0.66728\tvalidation_1-logloss:0.66718\n",
      "[130]\tvalidation_0-auc:0.757836\tvalidation_0-logloss:0.643485\tvalidation_1-auc:0.667285\tvalidation_1-logloss:0.667142\n",
      "[131]\tvalidation_0-auc:0.758419\tvalidation_0-logloss:0.642968\tvalidation_1-auc:0.667183\tvalidation_1-logloss:0.666832\n",
      "[132]\tvalidation_0-auc:0.759356\tvalidation_0-logloss:0.642347\tvalidation_1-auc:0.66731\tvalidation_1-logloss:0.666404\n",
      "[133]\tvalidation_0-auc:0.759686\tvalidation_0-logloss:0.642132\tvalidation_1-auc:0.667273\tvalidation_1-logloss:0.66631\n",
      "[134]\tvalidation_0-auc:0.760533\tvalidation_0-logloss:0.641617\tvalidation_1-auc:0.667211\tvalidation_1-logloss:0.665977\n",
      "[135]\tvalidation_0-auc:0.761001\tvalidation_0-logloss:0.641262\tvalidation_1-auc:0.667138\tvalidation_1-logloss:0.665698\n",
      "[136]\tvalidation_0-auc:0.761367\tvalidation_0-logloss:0.640835\tvalidation_1-auc:0.667209\tvalidation_1-logloss:0.665343\n",
      "[137]\tvalidation_0-auc:0.761855\tvalidation_0-logloss:0.640439\tvalidation_1-auc:0.667162\tvalidation_1-logloss:0.665037\n",
      "[138]\tvalidation_0-auc:0.762483\tvalidation_0-logloss:0.639867\tvalidation_1-auc:0.667481\tvalidation_1-logloss:0.664603\n",
      "[139]\tvalidation_0-auc:0.763277\tvalidation_0-logloss:0.639277\tvalidation_1-auc:0.667388\tvalidation_1-logloss:0.664166\n",
      "[140]\tvalidation_0-auc:0.763599\tvalidation_0-logloss:0.63936\tvalidation_1-auc:0.667448\tvalidation_1-logloss:0.664322\n"
     ]
    },
    {
     "name": "stdout",
     "output_type": "stream",
     "text": [
      "[141]\tvalidation_0-auc:0.764009\tvalidation_0-logloss:0.638599\tvalidation_1-auc:0.667562\tvalidation_1-logloss:0.663643\n",
      "[142]\tvalidation_0-auc:0.764488\tvalidation_0-logloss:0.638206\tvalidation_1-auc:0.667564\tvalidation_1-logloss:0.66341\n",
      "[143]\tvalidation_0-auc:0.765031\tvalidation_0-logloss:0.637816\tvalidation_1-auc:0.667583\tvalidation_1-logloss:0.663112\n",
      "[144]\tvalidation_0-auc:0.765376\tvalidation_0-logloss:0.63796\tvalidation_1-auc:0.667658\tvalidation_1-logloss:0.663305\n",
      "[145]\tvalidation_0-auc:0.765792\tvalidation_0-logloss:0.637572\tvalidation_1-auc:0.667633\tvalidation_1-logloss:0.662955\n",
      "[146]\tvalidation_0-auc:0.765958\tvalidation_0-logloss:0.637256\tvalidation_1-auc:0.667493\tvalidation_1-logloss:0.662708\n",
      "[147]\tvalidation_0-auc:0.766228\tvalidation_0-logloss:0.637334\tvalidation_1-auc:0.667405\tvalidation_1-logloss:0.662874\n",
      "[148]\tvalidation_0-auc:0.767158\tvalidation_0-logloss:0.636662\tvalidation_1-auc:0.66729\tvalidation_1-logloss:0.662435\n",
      "[149]\tvalidation_0-auc:0.767663\tvalidation_0-logloss:0.636248\tvalidation_1-auc:0.667292\tvalidation_1-logloss:0.662175\n",
      "[150]\tvalidation_0-auc:0.768063\tvalidation_0-logloss:0.636116\tvalidation_1-auc:0.667368\tvalidation_1-logloss:0.662188\n",
      "[151]\tvalidation_0-auc:0.768356\tvalidation_0-logloss:0.636351\tvalidation_1-auc:0.667276\tvalidation_1-logloss:0.662554\n",
      "[152]\tvalidation_0-auc:0.768535\tvalidation_0-logloss:0.636029\tvalidation_1-auc:0.667571\tvalidation_1-logloss:0.662219\n",
      "[153]\tvalidation_0-auc:0.768709\tvalidation_0-logloss:0.635906\tvalidation_1-auc:0.667597\tvalidation_1-logloss:0.662103\n",
      "[154]\tvalidation_0-auc:0.769024\tvalidation_0-logloss:0.635722\tvalidation_1-auc:0.667445\tvalidation_1-logloss:0.661983\n",
      "[155]\tvalidation_0-auc:0.769668\tvalidation_0-logloss:0.635152\tvalidation_1-auc:0.667419\tvalidation_1-logloss:0.661694\n",
      "[156]\tvalidation_0-auc:0.769805\tvalidation_0-logloss:0.634827\tvalidation_1-auc:0.667528\tvalidation_1-logloss:0.661434\n",
      "[157]\tvalidation_0-auc:0.770493\tvalidation_0-logloss:0.634249\tvalidation_1-auc:0.667182\tvalidation_1-logloss:0.661126\n",
      "[158]\tvalidation_0-auc:0.770992\tvalidation_0-logloss:0.633293\tvalidation_1-auc:0.66713\tvalidation_1-logloss:0.660365\n",
      "[159]\tvalidation_0-auc:0.771397\tvalidation_0-logloss:0.632848\tvalidation_1-auc:0.667107\tvalidation_1-logloss:0.66001\n",
      "[160]\tvalidation_0-auc:0.771647\tvalidation_0-logloss:0.632787\tvalidation_1-auc:0.667123\tvalidation_1-logloss:0.659949\n",
      "[161]\tvalidation_0-auc:0.772129\tvalidation_0-logloss:0.632636\tvalidation_1-auc:0.667251\tvalidation_1-logloss:0.659912\n",
      "[162]\tvalidation_0-auc:0.772909\tvalidation_0-logloss:0.632264\tvalidation_1-auc:0.667682\tvalidation_1-logloss:0.659479\n",
      "[163]\tvalidation_0-auc:0.773115\tvalidation_0-logloss:0.632134\tvalidation_1-auc:0.667594\tvalidation_1-logloss:0.65943\n",
      "[164]\tvalidation_0-auc:0.773591\tvalidation_0-logloss:0.631899\tvalidation_1-auc:0.667525\tvalidation_1-logloss:0.659365\n",
      "[165]\tvalidation_0-auc:0.773721\tvalidation_0-logloss:0.631754\tvalidation_1-auc:0.667527\tvalidation_1-logloss:0.659301\n",
      "[166]\tvalidation_0-auc:0.773906\tvalidation_0-logloss:0.631637\tvalidation_1-auc:0.667593\tvalidation_1-logloss:0.659189\n",
      "[167]\tvalidation_0-auc:0.774588\tvalidation_0-logloss:0.631031\tvalidation_1-auc:0.667592\tvalidation_1-logloss:0.658676\n",
      "[168]\tvalidation_0-auc:0.775022\tvalidation_0-logloss:0.630862\tvalidation_1-auc:0.667586\tvalidation_1-logloss:0.658634\n",
      "[169]\tvalidation_0-auc:0.775624\tvalidation_0-logloss:0.630313\tvalidation_1-auc:0.667383\tvalidation_1-logloss:0.658293\n",
      "[170]\tvalidation_0-auc:0.776321\tvalidation_0-logloss:0.629963\tvalidation_1-auc:0.667012\tvalidation_1-logloss:0.658179\n",
      "[171]\tvalidation_0-auc:0.776668\tvalidation_0-logloss:0.629929\tvalidation_1-auc:0.666902\tvalidation_1-logloss:0.658296\n",
      "[172]\tvalidation_0-auc:0.776992\tvalidation_0-logloss:0.629466\tvalidation_1-auc:0.666942\tvalidation_1-logloss:0.657958\n",
      "[173]\tvalidation_0-auc:0.777265\tvalidation_0-logloss:0.629126\tvalidation_1-auc:0.666936\tvalidation_1-logloss:0.657691\n",
      "[174]\tvalidation_0-auc:0.777963\tvalidation_0-logloss:0.6285\tvalidation_1-auc:0.666785\tvalidation_1-logloss:0.657299\n",
      "[175]\tvalidation_0-auc:0.778509\tvalidation_0-logloss:0.628368\tvalidation_1-auc:0.666677\tvalidation_1-logloss:0.657307\n",
      "[176]\tvalidation_0-auc:0.778706\tvalidation_0-logloss:0.62846\tvalidation_1-auc:0.666581\tvalidation_1-logloss:0.657474\n",
      "[177]\tvalidation_0-auc:0.778892\tvalidation_0-logloss:0.628126\tvalidation_1-auc:0.666668\tvalidation_1-logloss:0.657188\n",
      "[178]\tvalidation_0-auc:0.779328\tvalidation_0-logloss:0.627609\tvalidation_1-auc:0.666507\tvalidation_1-logloss:0.656874\n",
      "[179]\tvalidation_0-auc:0.779762\tvalidation_0-logloss:0.627494\tvalidation_1-auc:0.666517\tvalidation_1-logloss:0.656875\n",
      "[180]\tvalidation_0-auc:0.780374\tvalidation_0-logloss:0.626953\tvalidation_1-auc:0.666222\tvalidation_1-logloss:0.656615\n",
      "[181]\tvalidation_0-auc:0.780777\tvalidation_0-logloss:0.626748\tvalidation_1-auc:0.666425\tvalidation_1-logloss:0.656485\n",
      "[182]\tvalidation_0-auc:0.781033\tvalidation_0-logloss:0.626753\tvalidation_1-auc:0.666425\tvalidation_1-logloss:0.656501\n",
      "[183]\tvalidation_0-auc:0.78142\tvalidation_0-logloss:0.626257\tvalidation_1-auc:0.666307\tvalidation_1-logloss:0.65613\n",
      "[184]\tvalidation_0-auc:0.781804\tvalidation_0-logloss:0.625851\tvalidation_1-auc:0.666305\tvalidation_1-logloss:0.655836\n",
      "[185]\tvalidation_0-auc:0.78229\tvalidation_0-logloss:0.625244\tvalidation_1-auc:0.666174\tvalidation_1-logloss:0.655388\n",
      "[186]\tvalidation_0-auc:0.782577\tvalidation_0-logloss:0.625166\tvalidation_1-auc:0.666012\tvalidation_1-logloss:0.655444\n",
      "[187]\tvalidation_0-auc:0.783167\tvalidation_0-logloss:0.624692\tvalidation_1-auc:0.665834\tvalidation_1-logloss:0.655227\n",
      "[188]\tvalidation_0-auc:0.783378\tvalidation_0-logloss:0.624348\tvalidation_1-auc:0.665993\tvalidation_1-logloss:0.654889\n",
      "[189]\tvalidation_0-auc:0.783634\tvalidation_0-logloss:0.62425\tvalidation_1-auc:0.665946\tvalidation_1-logloss:0.654892\n",
      "[190]\tvalidation_0-auc:0.784041\tvalidation_0-logloss:0.623775\tvalidation_1-auc:0.665951\tvalidation_1-logloss:0.65456\n",
      "[191]\tvalidation_0-auc:0.784478\tvalidation_0-logloss:0.623344\tvalidation_1-auc:0.665916\tvalidation_1-logloss:0.654264\n",
      "[192]\tvalidation_0-auc:0.784923\tvalidation_0-logloss:0.623168\tvalidation_1-auc:0.665994\tvalidation_1-logloss:0.654184\n",
      "[193]\tvalidation_0-auc:0.785419\tvalidation_0-logloss:0.622409\tvalidation_1-auc:0.665949\tvalidation_1-logloss:0.6536\n",
      "[194]\tvalidation_0-auc:0.785656\tvalidation_0-logloss:0.622176\tvalidation_1-auc:0.665992\tvalidation_1-logloss:0.653385\n",
      "[195]\tvalidation_0-auc:0.785822\tvalidation_0-logloss:0.621944\tvalidation_1-auc:0.665974\tvalidation_1-logloss:0.653227\n",
      "[196]\tvalidation_0-auc:0.786198\tvalidation_0-logloss:0.621639\tvalidation_1-auc:0.665994\tvalidation_1-logloss:0.653052\n",
      "[197]\tvalidation_0-auc:0.786703\tvalidation_0-logloss:0.621534\tvalidation_1-auc:0.665875\tvalidation_1-logloss:0.653089\n",
      "[198]\tvalidation_0-auc:0.787173\tvalidation_0-logloss:0.621542\tvalidation_1-auc:0.665943\tvalidation_1-logloss:0.65323\n",
      "[199]\tvalidation_0-auc:0.787518\tvalidation_0-logloss:0.62079\tvalidation_1-auc:0.666116\tvalidation_1-logloss:0.65262\n",
      "[200]\tvalidation_0-auc:0.787711\tvalidation_0-logloss:0.620506\tvalidation_1-auc:0.666044\tvalidation_1-logloss:0.65242\n",
      "[201]\tvalidation_0-auc:0.788209\tvalidation_0-logloss:0.620315\tvalidation_1-auc:0.66579\tvalidation_1-logloss:0.652401\n",
      "[202]\tvalidation_0-auc:0.78855\tvalidation_0-logloss:0.620185\tvalidation_1-auc:0.665726\tvalidation_1-logloss:0.652357\n",
      "[203]\tvalidation_0-auc:0.788815\tvalidation_0-logloss:0.619916\tvalidation_1-auc:0.66576\tvalidation_1-logloss:0.652101\n",
      "[204]\tvalidation_0-auc:0.789479\tvalidation_0-logloss:0.619399\tvalidation_1-auc:0.66598\tvalidation_1-logloss:0.651825\n",
      "[205]\tvalidation_0-auc:0.789636\tvalidation_0-logloss:0.61916\tvalidation_1-auc:0.66581\tvalidation_1-logloss:0.651676\n",
      "[206]\tvalidation_0-auc:0.789727\tvalidation_0-logloss:0.619315\tvalidation_1-auc:0.665772\tvalidation_1-logloss:0.651908\n",
      "[207]\tvalidation_0-auc:0.790042\tvalidation_0-logloss:0.619158\tvalidation_1-auc:0.665744\tvalidation_1-logloss:0.651864\n",
      "[208]\tvalidation_0-auc:0.790342\tvalidation_0-logloss:0.619015\tvalidation_1-auc:0.66565\tvalidation_1-logloss:0.651809\n",
      "[209]\tvalidation_0-auc:0.790521\tvalidation_0-logloss:0.61887\tvalidation_1-auc:0.665594\tvalidation_1-logloss:0.651783\n",
      "[210]\tvalidation_0-auc:0.790805\tvalidation_0-logloss:0.618395\tvalidation_1-auc:0.665682\tvalidation_1-logloss:0.651364\n"
     ]
    },
    {
     "name": "stdout",
     "output_type": "stream",
     "text": [
      "[211]\tvalidation_0-auc:0.791089\tvalidation_0-logloss:0.618423\tvalidation_1-auc:0.665665\tvalidation_1-logloss:0.651464\n",
      "[212]\tvalidation_0-auc:0.791446\tvalidation_0-logloss:0.618302\tvalidation_1-auc:0.665802\tvalidation_1-logloss:0.651411\n",
      "[213]\tvalidation_0-auc:0.791658\tvalidation_0-logloss:0.61811\tvalidation_1-auc:0.665766\tvalidation_1-logloss:0.65134\n",
      "[214]\tvalidation_0-auc:0.792049\tvalidation_0-logloss:0.617762\tvalidation_1-auc:0.665697\tvalidation_1-logloss:0.651137\n",
      "[215]\tvalidation_0-auc:0.792693\tvalidation_0-logloss:0.617497\tvalidation_1-auc:0.665622\tvalidation_1-logloss:0.651101\n",
      "[216]\tvalidation_0-auc:0.793039\tvalidation_0-logloss:0.617178\tvalidation_1-auc:0.665499\tvalidation_1-logloss:0.650988\n",
      "[217]\tvalidation_0-auc:0.793241\tvalidation_0-logloss:0.616791\tvalidation_1-auc:0.665453\tvalidation_1-logloss:0.650735\n",
      "[218]\tvalidation_0-auc:0.793682\tvalidation_0-logloss:0.616034\tvalidation_1-auc:0.665494\tvalidation_1-logloss:0.650146\n",
      "[219]\tvalidation_0-auc:0.793875\tvalidation_0-logloss:0.615831\tvalidation_1-auc:0.665444\tvalidation_1-logloss:0.650109\n",
      "[220]\tvalidation_0-auc:0.7944\tvalidation_0-logloss:0.615851\tvalidation_1-auc:0.665415\tvalidation_1-logloss:0.650327\n",
      "[221]\tvalidation_0-auc:0.794867\tvalidation_0-logloss:0.615151\tvalidation_1-auc:0.665401\tvalidation_1-logloss:0.649807\n",
      "[222]\tvalidation_0-auc:0.795243\tvalidation_0-logloss:0.61483\tvalidation_1-auc:0.665254\tvalidation_1-logloss:0.649662\n",
      "[223]\tvalidation_0-auc:0.795416\tvalidation_0-logloss:0.614785\tvalidation_1-auc:0.665072\tvalidation_1-logloss:0.64977\n",
      "[224]\tvalidation_0-auc:0.795653\tvalidation_0-logloss:0.614646\tvalidation_1-auc:0.66512\tvalidation_1-logloss:0.649728\n",
      "[225]\tvalidation_0-auc:0.796148\tvalidation_0-logloss:0.614078\tvalidation_1-auc:0.665253\tvalidation_1-logloss:0.649309\n",
      "[226]\tvalidation_0-auc:0.796286\tvalidation_0-logloss:0.613749\tvalidation_1-auc:0.66543\tvalidation_1-logloss:0.649\n",
      "[227]\tvalidation_0-auc:0.796635\tvalidation_0-logloss:0.613409\tvalidation_1-auc:0.665466\tvalidation_1-logloss:0.648799\n",
      "[228]\tvalidation_0-auc:0.797123\tvalidation_0-logloss:0.612972\tvalidation_1-auc:0.665333\tvalidation_1-logloss:0.64853\n",
      "[229]\tvalidation_0-auc:0.797752\tvalidation_0-logloss:0.612839\tvalidation_1-auc:0.665407\tvalidation_1-logloss:0.648571\n",
      "[230]\tvalidation_0-auc:0.798232\tvalidation_0-logloss:0.612675\tvalidation_1-auc:0.665259\tvalidation_1-logloss:0.648542\n",
      "[231]\tvalidation_0-auc:0.798622\tvalidation_0-logloss:0.612445\tvalidation_1-auc:0.665364\tvalidation_1-logloss:0.648425\n",
      "[232]\tvalidation_0-auc:0.798761\tvalidation_0-logloss:0.612358\tvalidation_1-auc:0.66535\tvalidation_1-logloss:0.648416\n",
      "[233]\tvalidation_0-auc:0.799215\tvalidation_0-logloss:0.612198\tvalidation_1-auc:0.665343\tvalidation_1-logloss:0.648374\n",
      "[234]\tvalidation_0-auc:0.799351\tvalidation_0-logloss:0.612007\tvalidation_1-auc:0.665359\tvalidation_1-logloss:0.648264\n",
      "[235]\tvalidation_0-auc:0.799524\tvalidation_0-logloss:0.611802\tvalidation_1-auc:0.665454\tvalidation_1-logloss:0.648134\n",
      "[236]\tvalidation_0-auc:0.799672\tvalidation_0-logloss:0.611765\tvalidation_1-auc:0.665445\tvalidation_1-logloss:0.648154\n",
      "[237]\tvalidation_0-auc:0.800035\tvalidation_0-logloss:0.611422\tvalidation_1-auc:0.665345\tvalidation_1-logloss:0.647984\n",
      "[238]\tvalidation_0-auc:0.800618\tvalidation_0-logloss:0.611124\tvalidation_1-auc:0.665104\tvalidation_1-logloss:0.647834\n",
      "[239]\tvalidation_0-auc:0.80079\tvalidation_0-logloss:0.610945\tvalidation_1-auc:0.665083\tvalidation_1-logloss:0.647747\n",
      "[240]\tvalidation_0-auc:0.801185\tvalidation_0-logloss:0.610577\tvalidation_1-auc:0.664956\tvalidation_1-logloss:0.647533\n",
      "[241]\tvalidation_0-auc:0.801649\tvalidation_0-logloss:0.610287\tvalidation_1-auc:0.665025\tvalidation_1-logloss:0.647328\n",
      "[242]\tvalidation_0-auc:0.801951\tvalidation_0-logloss:0.609935\tvalidation_1-auc:0.664934\tvalidation_1-logloss:0.647084\n",
      "[243]\tvalidation_0-auc:0.802345\tvalidation_0-logloss:0.609906\tvalidation_1-auc:0.664922\tvalidation_1-logloss:0.647144\n",
      "[244]\tvalidation_0-auc:0.802721\tvalidation_0-logloss:0.609784\tvalidation_1-auc:0.664968\tvalidation_1-logloss:0.647194\n",
      "[245]\tvalidation_0-auc:0.802875\tvalidation_0-logloss:0.609446\tvalidation_1-auc:0.665049\tvalidation_1-logloss:0.646964\n",
      "[246]\tvalidation_0-auc:0.803098\tvalidation_0-logloss:0.60927\tvalidation_1-auc:0.664912\tvalidation_1-logloss:0.646922\n",
      "[247]\tvalidation_0-auc:0.803351\tvalidation_0-logloss:0.609092\tvalidation_1-auc:0.664851\tvalidation_1-logloss:0.64685\n",
      "[248]\tvalidation_0-auc:0.803698\tvalidation_0-logloss:0.60851\tvalidation_1-auc:0.664953\tvalidation_1-logloss:0.646405\n",
      "[249]\tvalidation_0-auc:0.804106\tvalidation_0-logloss:0.608126\tvalidation_1-auc:0.664863\tvalidation_1-logloss:0.646149\n",
      "[250]\tvalidation_0-auc:0.80427\tvalidation_0-logloss:0.607755\tvalidation_1-auc:0.664865\tvalidation_1-logloss:0.645852\n",
      "[251]\tvalidation_0-auc:0.804501\tvalidation_0-logloss:0.607569\tvalidation_1-auc:0.664744\tvalidation_1-logloss:0.6458\n",
      "[252]\tvalidation_0-auc:0.80467\tvalidation_0-logloss:0.607642\tvalidation_1-auc:0.664697\tvalidation_1-logloss:0.645994\n",
      "[253]\tvalidation_0-auc:0.805011\tvalidation_0-logloss:0.607025\tvalidation_1-auc:0.664756\tvalidation_1-logloss:0.645378\n",
      "[254]\tvalidation_0-auc:0.805434\tvalidation_0-logloss:0.606759\tvalidation_1-auc:0.664733\tvalidation_1-logloss:0.645209\n",
      "[255]\tvalidation_0-auc:0.805796\tvalidation_0-logloss:0.606498\tvalidation_1-auc:0.664635\tvalidation_1-logloss:0.645071\n",
      "[256]\tvalidation_0-auc:0.806008\tvalidation_0-logloss:0.606429\tvalidation_1-auc:0.664407\tvalidation_1-logloss:0.645133\n",
      "[257]\tvalidation_0-auc:0.806164\tvalidation_0-logloss:0.606356\tvalidation_1-auc:0.664251\tvalidation_1-logloss:0.645125\n",
      "[258]\tvalidation_0-auc:0.806437\tvalidation_0-logloss:0.606124\tvalidation_1-auc:0.664273\tvalidation_1-logloss:0.644969\n",
      "[259]\tvalidation_0-auc:0.806824\tvalidation_0-logloss:0.605774\tvalidation_1-auc:0.664197\tvalidation_1-logloss:0.644707\n",
      "[260]\tvalidation_0-auc:0.807226\tvalidation_0-logloss:0.605201\tvalidation_1-auc:0.664129\tvalidation_1-logloss:0.644234\n",
      "[261]\tvalidation_0-auc:0.807692\tvalidation_0-logloss:0.60444\tvalidation_1-auc:0.664082\tvalidation_1-logloss:0.643618\n",
      "[262]\tvalidation_0-auc:0.808302\tvalidation_0-logloss:0.604162\tvalidation_1-auc:0.663964\tvalidation_1-logloss:0.643451\n",
      "[263]\tvalidation_0-auc:0.808808\tvalidation_0-logloss:0.603871\tvalidation_1-auc:0.663978\tvalidation_1-logloss:0.643267\n",
      "[264]\tvalidation_0-auc:0.809361\tvalidation_0-logloss:0.603545\tvalidation_1-auc:0.663624\tvalidation_1-logloss:0.643108\n",
      "[265]\tvalidation_0-auc:0.809787\tvalidation_0-logloss:0.603444\tvalidation_1-auc:0.663633\tvalidation_1-logloss:0.643106\n",
      "[266]\tvalidation_0-auc:0.810003\tvalidation_0-logloss:0.603406\tvalidation_1-auc:0.663612\tvalidation_1-logloss:0.643152\n",
      "[267]\tvalidation_0-auc:0.810565\tvalidation_0-logloss:0.603015\tvalidation_1-auc:0.663314\tvalidation_1-logloss:0.643002\n",
      "[268]\tvalidation_0-auc:0.810926\tvalidation_0-logloss:0.602763\tvalidation_1-auc:0.663295\tvalidation_1-logloss:0.642943\n",
      "[269]\tvalidation_0-auc:0.811206\tvalidation_0-logloss:0.603044\tvalidation_1-auc:0.663231\tvalidation_1-logloss:0.643272\n",
      "[270]\tvalidation_0-auc:0.811634\tvalidation_0-logloss:0.602633\tvalidation_1-auc:0.663335\tvalidation_1-logloss:0.642916\n",
      "[271]\tvalidation_0-auc:0.812335\tvalidation_0-logloss:0.602118\tvalidation_1-auc:0.6633\tvalidation_1-logloss:0.642597\n",
      "[272]\tvalidation_0-auc:0.812527\tvalidation_0-logloss:0.601927\tvalidation_1-auc:0.663381\tvalidation_1-logloss:0.64254\n",
      "[273]\tvalidation_0-auc:0.812751\tvalidation_0-logloss:0.601689\tvalidation_1-auc:0.663314\tvalidation_1-logloss:0.642419\n",
      "[274]\tvalidation_0-auc:0.81305\tvalidation_0-logloss:0.601653\tvalidation_1-auc:0.663446\tvalidation_1-logloss:0.642482\n",
      "[275]\tvalidation_0-auc:0.8135\tvalidation_0-logloss:0.601106\tvalidation_1-auc:0.663673\tvalidation_1-logloss:0.642135\n",
      "[276]\tvalidation_0-auc:0.813753\tvalidation_0-logloss:0.600855\tvalidation_1-auc:0.663727\tvalidation_1-logloss:0.641987\n",
      "[277]\tvalidation_0-auc:0.814196\tvalidation_0-logloss:0.600623\tvalidation_1-auc:0.663616\tvalidation_1-logloss:0.641875\n",
      "[278]\tvalidation_0-auc:0.814287\tvalidation_0-logloss:0.600586\tvalidation_1-auc:0.663571\tvalidation_1-logloss:0.641936\n",
      "[279]\tvalidation_0-auc:0.814477\tvalidation_0-logloss:0.60014\tvalidation_1-auc:0.663572\tvalidation_1-logloss:0.641534\n"
     ]
    },
    {
     "data": {
      "text/plain": [
       "0.6322542439794709"
      ]
     },
     "execution_count": 112,
     "metadata": {},
     "output_type": "execute_result"
    }
   ],
   "source": [
    "# Fit the model\n",
    "model=XGBClassifier(random_state = 0,**bestparam, class_weight = {0:1, 1:8})\n",
    "#model.set_params(bestparam)\n",
    "eval_set = [(X_train, y_train), (X_test, y_test)]\n",
    "model.fit(X_train, y_train, eval_metric=[\"auc\", \"logloss\"], eval_set=eval_set, verbose=True)\n",
    "model.score(X_test, y_test)"
   ]
  },
  {
   "cell_type": "code",
   "execution_count": 359,
   "metadata": {},
   "outputs": [
    {
     "name": "stdout",
     "output_type": "stream",
     "text": [
      "{'validation_0': {'auc': [0.762621, 0.854266, 0.889859, 0.921375, 0.940905, 0.949564, 0.959275, 0.968017, 0.974612, 0.979111, 0.981031, 0.983525, 0.985317, 0.987402, 0.988812, 0.990894]}, 'validation_1': {'auc': [0.554067, 0.584229, 0.594783, 0.605771, 0.619673, 0.625426, 0.62678, 0.628872, 0.627717, 0.630953, 0.633002, 0.635747, 0.635088, 0.637371, 0.637226, 0.636575]}}\n"
     ]
    }
   ],
   "source": [
    "results = model.evals_result()\n",
    "print(results)"
   ]
  },
  {
   "cell_type": "code",
   "execution_count": 110,
   "metadata": {},
   "outputs": [
    {
     "data": {
      "image/png": "[encoded data removed]",
      "text/plain": [
       "<Figure size 432x288 with 1 Axes>"
      ]
     },
     "metadata": {
      "needs_background": "light"
     },
     "output_type": "display_data"
    },
    {
     "data": {
      "image/png": "[encoded data removed]",
      "text/plain": [
       "<Figure size 432x288 with 1 Axes>"
      ]
     },
     "metadata": {
      "needs_background": "light"
     },
     "output_type": "display_data"
    }
   ],
   "source": [
    "# make predictions for test data\n",
    "y_pred = model.predict(X_test)\n",
    "predictions = [round(value) for value in y_pred]\n",
    "# retrieve performance metrics\n",
    "results = model.evals_result()\n",
    "epochs = len(results['validation_0']['auc'])\n",
    "x_axis = range(0, epochs)\n",
    "# plot AUC\n",
    "fig, ax = plt.subplots()\n",
    "ax.plot(x_axis, results['validation_0']['auc'], label='Train')\n",
    "ax.plot(x_axis, results['validation_1']['auc'], label='Test')\n",
    "ax.legend()\n",
    "plt.ylabel('AUC')\n",
    "plt.title('XGBoost AUC')\n",
    "plt.show()\n",
    "# plot log loss\n",
    "fig, ax = plt.subplots()\n",
    "ax.plot(x_axis, results['validation_0']['logloss'], label='Train')\n",
    "ax.plot(x_axis, results['validation_1']['logloss'], label='Test')\n",
    "ax.legend()\n",
    "plt.ylabel('Log Loss')\n",
    "plt.title('XGBoost Log Loss')\n",
    "plt.show()"
   ]
  },
  {
   "cell_type": "code",
   "execution_count": 129,
   "metadata": {},
   "outputs": [],
   "source": [
    "from sklearn.metrics import roc_auc_score\n",
    "AUC = roc_auc_score(y_test, model.predict(X_test))"
   ]
  },
  {
   "cell_type": "code",
   "execution_count": 124,
   "metadata": {},
   "outputs": [
    {
     "data": {
      "text/plain": [
       "0.6520722967434944"
      ]
     },
     "execution_count": 124,
     "metadata": {},
     "output_type": "execute_result"
    }
   ],
   "source": [
    "bestscore"
   ]
  },
  {
   "cell_type": "code",
   "execution_count": 130,
   "metadata": {},
   "outputs": [
    {
     "data": {
      "text/plain": [
       "0.6189122032559466"
      ]
     },
     "execution_count": 130,
     "metadata": {},
     "output_type": "execute_result"
    }
   ],
   "source": [
    "AUC"
   ]
  },
  {
   "cell_type": "code",
   "execution_count": 146,
   "metadata": {},
   "outputs": [
    {
     "data": {
      "text/plain": [
       "array([[14288,  8157],\n",
       "       [ 1158,  1727]])"
      ]
     },
     "execution_count": 146,
     "metadata": {},
     "output_type": "execute_result"
    }
   ],
   "source": [
    "confusion_matrix(y_test, model.predict(X_test))"
   ]
  },
  {
   "cell_type": "code",
   "execution_count": 136,
   "metadata": {},
   "outputs": [],
   "source": [
    "import pickle"
   ]
  },
  {
   "cell_type": "code",
   "execution_count": 138,
   "metadata": {},
   "outputs": [],
   "source": [
    "with open('xgboost_pickle', 'wb') as picklefile:\n",
    "    pickle.dump(model, picklefile)"
   ]
  },
  {
   "cell_type": "code",
   "execution_count": 141,
   "metadata": {},
   "outputs": [],
   "source": [
    "loadedmodel = pickle.load(open('xgboost_pickle', 'rb'))"
   ]
  },
  {
   "cell_type": "code",
   "execution_count": 143,
   "metadata": {},
   "outputs": [
    {
     "name": "stdout",
     "output_type": "stream",
     "text": [
      "auc for xgb: 0.6635724453343104\n"
     ]
    }
   ],
   "source": [
    "y = loadedmodel.predict_proba(X_test)[:,1]\n",
    "print('auc for xgb:', roc_auc_score(y_test,y))"
   ]
  },
  {
   "cell_type": "code",
   "execution_count": 163,
   "metadata": {},
   "outputs": [
    {
     "data": {
      "text/plain": [
       "numpy.ndarray"
      ]
     },
     "execution_count": 163,
     "metadata": {},
     "output_type": "execute_result"
    }
   ],
   "source": [
    "type(loadedmodel.predict(X_test))"
   ]
  },
  {
   "cell_type": "code",
   "execution_count": 144,
   "metadata": {},
   "outputs": [
    {
     "data": {
      "text/plain": [
       "0.6175959103574191"
      ]
     },
     "execution_count": 144,
     "metadata": {},
     "output_type": "execute_result"
    }
   ],
   "source": [
    "roc_auc_score(y_test, loadedmodel.predict(X_test))"
   ]
  },
  {
   "cell_type": "code",
   "execution_count": 145,
   "metadata": {},
   "outputs": [
    {
     "name": "stdout",
     "output_type": "stream",
     "text": [
      "[[14288  8157]\n",
      " [ 1158  1727]]\n"
     ]
    }
   ],
   "source": [
    "print(confusion_matrix(y_test, loadedmodel.predict_proba(X_test)[:,1]))"
   ]
  },
  {
   "cell_type": "code",
   "execution_count": null,
   "metadata": {},
   "outputs": [],
   "source": []
  }
 ],
 "metadata": {
  "kernelspec": {
   "display_name": "Python 3",
   "language": "python",
   "name": "python3"
  },
  "language_info": {
   "codemirror_mode": {
    "name": "ipython",
    "version": 3
   },
   "file_extension": ".py",
   "mimetype": "text/x-python",
   "name": "python",
   "nbconvert_exporter": "python",
   "pygments_lexer": "ipython3",
   "version": "3.7.1"
  }
 },
 "nbformat": 4,
 "nbformat_minor": 2
}
