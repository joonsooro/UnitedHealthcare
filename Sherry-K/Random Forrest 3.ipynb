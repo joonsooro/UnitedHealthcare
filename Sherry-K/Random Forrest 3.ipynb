{
 "cells": [
  {
   "cell_type": "code",
   "execution_count": 42,
   "metadata": {},
   "outputs": [],
   "source": [
    "import matplotlib.pyplot as plt\n",
    "import numpy as np\n",
    "import pandas as pd\n",
    "from sklearn.metrics import confusion_matrix\n",
    "from sklearn import ensemble\n",
    "from sklearn.preprocessing import StandardScaler\n",
    "from sklearn import preprocessing\n",
    "from sklearn.model_selection import GridSearchCV, RandomizedSearchCV\n",
    "le = preprocessing.LabelEncoder()\n",
    "from sklearn.model_selection import train_test_split\n",
    "import pickle\n",
    "import os\n",
    "\n",
    "\n",
    "data=pd.read_csv('./data/new_data.csv')"
   ]
  },
  {
   "cell_type": "code",
   "execution_count": 43,
   "metadata": {
    "scrolled": true
   },
   "outputs": [
    {
     "data": {
      "text/html": [
       "<div>\n",
       "<style scoped>\n",
       "    .dataframe tbody tr th:only-of-type {\n",
       "        vertical-align: middle;\n",
       "    }\n",
       "\n",
       "    .dataframe tbody tr th {\n",
       "        vertical-align: top;\n",
       "    }\n",
       "\n",
       "    .dataframe thead th {\n",
       "        text-align: right;\n",
       "    }\n",
       "</style>\n",
       "<table border=\"1\" class=\"dataframe\">\n",
       "  <thead>\n",
       "    <tr style=\"text-align: right;\">\n",
       "      <th></th>\n",
       "      <th>Unnamed: 0</th>\n",
       "      <th>encounter_id</th>\n",
       "      <th>patient_nbr</th>\n",
       "      <th>race</th>\n",
       "      <th>gender</th>\n",
       "      <th>age</th>\n",
       "      <th>admission_type_id</th>\n",
       "      <th>discharge_disposition_id</th>\n",
       "      <th>admission_source_id</th>\n",
       "      <th>time_in_hospital</th>\n",
       "      <th>...</th>\n",
       "      <th>change</th>\n",
       "      <th>diabetesMed</th>\n",
       "      <th>readmitin30days</th>\n",
       "      <th>diabetic</th>\n",
       "      <th>f_diag</th>\n",
       "      <th>s_diag</th>\n",
       "      <th>t_diag</th>\n",
       "      <th>self_pay</th>\n",
       "      <th>medicaid/medicare</th>\n",
       "      <th>coverByInsurance</th>\n",
       "    </tr>\n",
       "  </thead>\n",
       "  <tbody>\n",
       "    <tr>\n",
       "      <th>0</th>\n",
       "      <td>0</td>\n",
       "      <td>2278392</td>\n",
       "      <td>8222157</td>\n",
       "      <td>Caucasian</td>\n",
       "      <td>Female</td>\n",
       "      <td>[0-10)</td>\n",
       "      <td>6</td>\n",
       "      <td>25</td>\n",
       "      <td>1</td>\n",
       "      <td>1</td>\n",
       "      <td>...</td>\n",
       "      <td>No</td>\n",
       "      <td>No</td>\n",
       "      <td>0</td>\n",
       "      <td>1.0</td>\n",
       "      <td>endocrine, nutritional and metabolic diseases,...</td>\n",
       "      <td>No Diagnosis</td>\n",
       "      <td>No Diagnosis</td>\n",
       "      <td>0</td>\n",
       "      <td>0</td>\n",
       "      <td>0</td>\n",
       "    </tr>\n",
       "    <tr>\n",
       "      <th>1</th>\n",
       "      <td>1</td>\n",
       "      <td>1968528</td>\n",
       "      <td>720936</td>\n",
       "      <td>Caucasian</td>\n",
       "      <td>Female</td>\n",
       "      <td>[70-80)</td>\n",
       "      <td>6</td>\n",
       "      <td>25</td>\n",
       "      <td>1</td>\n",
       "      <td>10</td>\n",
       "      <td>...</td>\n",
       "      <td>Ch</td>\n",
       "      <td>Yes</td>\n",
       "      <td>0</td>\n",
       "      <td>0.0</td>\n",
       "      <td>diseases of the circulatory system</td>\n",
       "      <td>diseases of the circulatory system</td>\n",
       "      <td>endocrine, nutritional and metabolic diseases,...</td>\n",
       "      <td>0</td>\n",
       "      <td>0</td>\n",
       "      <td>0</td>\n",
       "    </tr>\n",
       "    <tr>\n",
       "      <th>2</th>\n",
       "      <td>2</td>\n",
       "      <td>2223336</td>\n",
       "      <td>558360</td>\n",
       "      <td>AfricanAmerican</td>\n",
       "      <td>Female</td>\n",
       "      <td>[60-70)</td>\n",
       "      <td>6</td>\n",
       "      <td>25</td>\n",
       "      <td>1</td>\n",
       "      <td>9</td>\n",
       "      <td>...</td>\n",
       "      <td>No</td>\n",
       "      <td>No</td>\n",
       "      <td>0</td>\n",
       "      <td>0.0</td>\n",
       "      <td>injury and poisoning</td>\n",
       "      <td>infectious and parasitic diseases</td>\n",
       "      <td>diseases of the musculoskeletal system and con...</td>\n",
       "      <td>0</td>\n",
       "      <td>0</td>\n",
       "      <td>0</td>\n",
       "    </tr>\n",
       "    <tr>\n",
       "      <th>3</th>\n",
       "      <td>3</td>\n",
       "      <td>2298006</td>\n",
       "      <td>2519748</td>\n",
       "      <td>Caucasian</td>\n",
       "      <td>Male</td>\n",
       "      <td>[60-70)</td>\n",
       "      <td>6</td>\n",
       "      <td>25</td>\n",
       "      <td>1</td>\n",
       "      <td>4</td>\n",
       "      <td>...</td>\n",
       "      <td>Ch</td>\n",
       "      <td>Yes</td>\n",
       "      <td>0</td>\n",
       "      <td>0.0</td>\n",
       "      <td>diseases of the respiratory system</td>\n",
       "      <td>endocrine, nutritional and metabolic diseases,...</td>\n",
       "      <td>diseases of the circulatory system</td>\n",
       "      <td>0</td>\n",
       "      <td>0</td>\n",
       "      <td>0</td>\n",
       "    </tr>\n",
       "    <tr>\n",
       "      <th>4</th>\n",
       "      <td>4</td>\n",
       "      <td>2356308</td>\n",
       "      <td>608841</td>\n",
       "      <td>AfricanAmerican</td>\n",
       "      <td>Female</td>\n",
       "      <td>[50-60)</td>\n",
       "      <td>6</td>\n",
       "      <td>25</td>\n",
       "      <td>1</td>\n",
       "      <td>1</td>\n",
       "      <td>...</td>\n",
       "      <td>No</td>\n",
       "      <td>Yes</td>\n",
       "      <td>0</td>\n",
       "      <td>1.0</td>\n",
       "      <td>endocrine, nutritional and metabolic diseases,...</td>\n",
       "      <td>diseases of the circulatory system</td>\n",
       "      <td>endocrine, nutritional and metabolic diseases,...</td>\n",
       "      <td>0</td>\n",
       "      <td>0</td>\n",
       "      <td>0</td>\n",
       "    </tr>\n",
       "  </tbody>\n",
       "</table>\n",
       "<p>5 rows × 54 columns</p>\n",
       "</div>"
      ],
      "text/plain": [
       "   Unnamed: 0  encounter_id  patient_nbr             race  gender      age  \\\n",
       "0           0       2278392      8222157        Caucasian  Female   [0-10)   \n",
       "1           1       1968528       720936        Caucasian  Female  [70-80)   \n",
       "2           2       2223336       558360  AfricanAmerican  Female  [60-70)   \n",
       "3           3       2298006      2519748        Caucasian    Male  [60-70)   \n",
       "4           4       2356308       608841  AfricanAmerican  Female  [50-60)   \n",
       "\n",
       "   admission_type_id  discharge_disposition_id  admission_source_id  \\\n",
       "0                  6                        25                    1   \n",
       "1                  6                        25                    1   \n",
       "2                  6                        25                    1   \n",
       "3                  6                        25                    1   \n",
       "4                  6                        25                    1   \n",
       "\n",
       "   time_in_hospital       ...        change diabetesMed  readmitin30days  \\\n",
       "0                 1       ...            No          No                0   \n",
       "1                10       ...            Ch         Yes                0   \n",
       "2                 9       ...            No          No                0   \n",
       "3                 4       ...            Ch         Yes                0   \n",
       "4                 1       ...            No         Yes                0   \n",
       "\n",
       "   diabetic                                             f_diag  \\\n",
       "0       1.0  endocrine, nutritional and metabolic diseases,...   \n",
       "1       0.0                 diseases of the circulatory system   \n",
       "2       0.0                               injury and poisoning   \n",
       "3       0.0                 diseases of the respiratory system   \n",
       "4       1.0  endocrine, nutritional and metabolic diseases,...   \n",
       "\n",
       "                                              s_diag  \\\n",
       "0                                       No Diagnosis   \n",
       "1                 diseases of the circulatory system   \n",
       "2                  infectious and parasitic diseases   \n",
       "3  endocrine, nutritional and metabolic diseases,...   \n",
       "4                 diseases of the circulatory system   \n",
       "\n",
       "                                              t_diag  self_pay  \\\n",
       "0                                       No Diagnosis         0   \n",
       "1  endocrine, nutritional and metabolic diseases,...         0   \n",
       "2  diseases of the musculoskeletal system and con...         0   \n",
       "3                 diseases of the circulatory system         0   \n",
       "4  endocrine, nutritional and metabolic diseases,...         0   \n",
       "\n",
       "   medicaid/medicare coverByInsurance  \n",
       "0                  0                0  \n",
       "1                  0                0  \n",
       "2                  0                0  \n",
       "3                  0                0  \n",
       "4                  0                0  \n",
       "\n",
       "[5 rows x 54 columns]"
      ]
     },
     "execution_count": 43,
     "metadata": {},
     "output_type": "execute_result"
    }
   ],
   "source": [
    "data.head()\n"
   ]
  },
  {
   "cell_type": "code",
   "execution_count": 48,
   "metadata": {},
   "outputs": [
    {
     "ename": "KeyError",
     "evalue": "\"['Unnamed: 0' 'patient_nbr' 'encounter_id' 'payer_code'\\n 'medical_specialty'] not found in axis\"",
     "output_type": "error",
     "traceback": [
      "\u001b[0;31m---------------------------------------------------------------------------\u001b[0m",
      "\u001b[0;31mKeyError\u001b[0m                                  Traceback (most recent call last)",
      "\u001b[0;32m<ipython-input-48-d32a93a61bca>\u001b[0m in \u001b[0;36m<module>\u001b[0;34m\u001b[0m\n\u001b[0;32m----> 1\u001b[0;31m \u001b[0mdata\u001b[0m \u001b[0;34m=\u001b[0m \u001b[0mdata\u001b[0m\u001b[0;34m.\u001b[0m\u001b[0mdrop\u001b[0m\u001b[0;34m(\u001b[0m\u001b[0;34m[\u001b[0m\u001b[0;34m'Unnamed: 0'\u001b[0m\u001b[0;34m,\u001b[0m\u001b[0;34m'patient_nbr'\u001b[0m\u001b[0;34m,\u001b[0m\u001b[0;34m'encounter_id'\u001b[0m\u001b[0;34m,\u001b[0m \u001b[0;34m'payer_code'\u001b[0m\u001b[0;34m,\u001b[0m \u001b[0;34m'medical_specialty'\u001b[0m\u001b[0;34m,\u001b[0m\u001b[0;34m'diabetic'\u001b[0m \u001b[0;34m]\u001b[0m\u001b[0;34m,\u001b[0m \u001b[0maxis\u001b[0m \u001b[0;34m=\u001b[0m \u001b[0;36m1\u001b[0m\u001b[0;34m)\u001b[0m\u001b[0;34m\u001b[0m\u001b[0;34m\u001b[0m\u001b[0m\n\u001b[0m",
      "\u001b[0;32m/anaconda3/lib/python3.7/site-packages/pandas/core/frame.py\u001b[0m in \u001b[0;36mdrop\u001b[0;34m(self, labels, axis, index, columns, level, inplace, errors)\u001b[0m\n\u001b[1;32m   3695\u001b[0m                                            \u001b[0mindex\u001b[0m\u001b[0;34m=\u001b[0m\u001b[0mindex\u001b[0m\u001b[0;34m,\u001b[0m \u001b[0mcolumns\u001b[0m\u001b[0;34m=\u001b[0m\u001b[0mcolumns\u001b[0m\u001b[0;34m,\u001b[0m\u001b[0;34m\u001b[0m\u001b[0;34m\u001b[0m\u001b[0m\n\u001b[1;32m   3696\u001b[0m                                            \u001b[0mlevel\u001b[0m\u001b[0;34m=\u001b[0m\u001b[0mlevel\u001b[0m\u001b[0;34m,\u001b[0m \u001b[0minplace\u001b[0m\u001b[0;34m=\u001b[0m\u001b[0minplace\u001b[0m\u001b[0;34m,\u001b[0m\u001b[0;34m\u001b[0m\u001b[0;34m\u001b[0m\u001b[0m\n\u001b[0;32m-> 3697\u001b[0;31m                                            errors=errors)\n\u001b[0m\u001b[1;32m   3698\u001b[0m \u001b[0;34m\u001b[0m\u001b[0m\n\u001b[1;32m   3699\u001b[0m     @rewrite_axis_style_signature('mapper', [('copy', True),\n",
      "\u001b[0;32m/anaconda3/lib/python3.7/site-packages/pandas/core/generic.py\u001b[0m in \u001b[0;36mdrop\u001b[0;34m(self, labels, axis, index, columns, level, inplace, errors)\u001b[0m\n\u001b[1;32m   3109\u001b[0m         \u001b[0;32mfor\u001b[0m \u001b[0maxis\u001b[0m\u001b[0;34m,\u001b[0m \u001b[0mlabels\u001b[0m \u001b[0;32min\u001b[0m \u001b[0maxes\u001b[0m\u001b[0;34m.\u001b[0m\u001b[0mitems\u001b[0m\u001b[0;34m(\u001b[0m\u001b[0;34m)\u001b[0m\u001b[0;34m:\u001b[0m\u001b[0;34m\u001b[0m\u001b[0;34m\u001b[0m\u001b[0m\n\u001b[1;32m   3110\u001b[0m             \u001b[0;32mif\u001b[0m \u001b[0mlabels\u001b[0m \u001b[0;32mis\u001b[0m \u001b[0;32mnot\u001b[0m \u001b[0;32mNone\u001b[0m\u001b[0;34m:\u001b[0m\u001b[0;34m\u001b[0m\u001b[0;34m\u001b[0m\u001b[0m\n\u001b[0;32m-> 3111\u001b[0;31m                 \u001b[0mobj\u001b[0m \u001b[0;34m=\u001b[0m \u001b[0mobj\u001b[0m\u001b[0;34m.\u001b[0m\u001b[0m_drop_axis\u001b[0m\u001b[0;34m(\u001b[0m\u001b[0mlabels\u001b[0m\u001b[0;34m,\u001b[0m \u001b[0maxis\u001b[0m\u001b[0;34m,\u001b[0m \u001b[0mlevel\u001b[0m\u001b[0;34m=\u001b[0m\u001b[0mlevel\u001b[0m\u001b[0;34m,\u001b[0m \u001b[0merrors\u001b[0m\u001b[0;34m=\u001b[0m\u001b[0merrors\u001b[0m\u001b[0;34m)\u001b[0m\u001b[0;34m\u001b[0m\u001b[0;34m\u001b[0m\u001b[0m\n\u001b[0m\u001b[1;32m   3112\u001b[0m \u001b[0;34m\u001b[0m\u001b[0m\n\u001b[1;32m   3113\u001b[0m         \u001b[0;32mif\u001b[0m \u001b[0minplace\u001b[0m\u001b[0;34m:\u001b[0m\u001b[0;34m\u001b[0m\u001b[0;34m\u001b[0m\u001b[0m\n",
      "\u001b[0;32m/anaconda3/lib/python3.7/site-packages/pandas/core/generic.py\u001b[0m in \u001b[0;36m_drop_axis\u001b[0;34m(self, labels, axis, level, errors)\u001b[0m\n\u001b[1;32m   3141\u001b[0m                 \u001b[0mnew_axis\u001b[0m \u001b[0;34m=\u001b[0m \u001b[0maxis\u001b[0m\u001b[0;34m.\u001b[0m\u001b[0mdrop\u001b[0m\u001b[0;34m(\u001b[0m\u001b[0mlabels\u001b[0m\u001b[0;34m,\u001b[0m \u001b[0mlevel\u001b[0m\u001b[0;34m=\u001b[0m\u001b[0mlevel\u001b[0m\u001b[0;34m,\u001b[0m \u001b[0merrors\u001b[0m\u001b[0;34m=\u001b[0m\u001b[0merrors\u001b[0m\u001b[0;34m)\u001b[0m\u001b[0;34m\u001b[0m\u001b[0;34m\u001b[0m\u001b[0m\n\u001b[1;32m   3142\u001b[0m             \u001b[0;32melse\u001b[0m\u001b[0;34m:\u001b[0m\u001b[0;34m\u001b[0m\u001b[0;34m\u001b[0m\u001b[0m\n\u001b[0;32m-> 3143\u001b[0;31m                 \u001b[0mnew_axis\u001b[0m \u001b[0;34m=\u001b[0m \u001b[0maxis\u001b[0m\u001b[0;34m.\u001b[0m\u001b[0mdrop\u001b[0m\u001b[0;34m(\u001b[0m\u001b[0mlabels\u001b[0m\u001b[0;34m,\u001b[0m \u001b[0merrors\u001b[0m\u001b[0;34m=\u001b[0m\u001b[0merrors\u001b[0m\u001b[0;34m)\u001b[0m\u001b[0;34m\u001b[0m\u001b[0;34m\u001b[0m\u001b[0m\n\u001b[0m\u001b[1;32m   3144\u001b[0m             \u001b[0mresult\u001b[0m \u001b[0;34m=\u001b[0m \u001b[0mself\u001b[0m\u001b[0;34m.\u001b[0m\u001b[0mreindex\u001b[0m\u001b[0;34m(\u001b[0m\u001b[0;34m**\u001b[0m\u001b[0;34m{\u001b[0m\u001b[0maxis_name\u001b[0m\u001b[0;34m:\u001b[0m \u001b[0mnew_axis\u001b[0m\u001b[0;34m}\u001b[0m\u001b[0;34m)\u001b[0m\u001b[0;34m\u001b[0m\u001b[0;34m\u001b[0m\u001b[0m\n\u001b[1;32m   3145\u001b[0m \u001b[0;34m\u001b[0m\u001b[0m\n",
      "\u001b[0;32m/anaconda3/lib/python3.7/site-packages/pandas/core/indexes/base.py\u001b[0m in \u001b[0;36mdrop\u001b[0;34m(self, labels, errors)\u001b[0m\n\u001b[1;32m   4402\u001b[0m             \u001b[0;32mif\u001b[0m \u001b[0merrors\u001b[0m \u001b[0;34m!=\u001b[0m \u001b[0;34m'ignore'\u001b[0m\u001b[0;34m:\u001b[0m\u001b[0;34m\u001b[0m\u001b[0;34m\u001b[0m\u001b[0m\n\u001b[1;32m   4403\u001b[0m                 raise KeyError(\n\u001b[0;32m-> 4404\u001b[0;31m                     '{} not found in axis'.format(labels[mask]))\n\u001b[0m\u001b[1;32m   4405\u001b[0m             \u001b[0mindexer\u001b[0m \u001b[0;34m=\u001b[0m \u001b[0mindexer\u001b[0m\u001b[0;34m[\u001b[0m\u001b[0;34m~\u001b[0m\u001b[0mmask\u001b[0m\u001b[0;34m]\u001b[0m\u001b[0;34m\u001b[0m\u001b[0;34m\u001b[0m\u001b[0m\n\u001b[1;32m   4406\u001b[0m         \u001b[0;32mreturn\u001b[0m \u001b[0mself\u001b[0m\u001b[0;34m.\u001b[0m\u001b[0mdelete\u001b[0m\u001b[0;34m(\u001b[0m\u001b[0mindexer\u001b[0m\u001b[0;34m)\u001b[0m\u001b[0;34m\u001b[0m\u001b[0;34m\u001b[0m\u001b[0m\n",
      "\u001b[0;31mKeyError\u001b[0m: \"['Unnamed: 0' 'patient_nbr' 'encounter_id' 'payer_code'\\n 'medical_specialty'] not found in axis\""
     ]
    }
   ],
   "source": [
    "data = data.drop(['Unnamed: 0','patient_nbr','encounter_id', 'payer_code', 'medical_specialty','diabetic' ], axis = 1)\n"
   ]
  },
  {
   "cell_type": "code",
   "execution_count": 49,
   "metadata": {},
   "outputs": [
    {
     "data": {
      "text/plain": [
       "race                         object\n",
       "gender                       object\n",
       "age                          object\n",
       "admission_type_id             int64\n",
       "discharge_disposition_id      int64\n",
       "admission_source_id           int64\n",
       "time_in_hospital              int64\n",
       "num_lab_procedures            int64\n",
       "num_procedures                int64\n",
       "num_medications               int64\n",
       "number_outpatient             int64\n",
       "number_emergency              int64\n",
       "number_inpatient              int64\n",
       "number_diagnoses              int64\n",
       "max_glu_serum                object\n",
       "A1Cresult                    object\n",
       "metformin                    object\n",
       "repaglinide                  object\n",
       "nateglinide                  object\n",
       "chlorpropamide               object\n",
       "glimepiride                  object\n",
       "acetohexamide                object\n",
       "glipizide                    object\n",
       "glyburide                    object\n",
       "tolbutamide                  object\n",
       "pioglitazone                 object\n",
       "rosiglitazone                object\n",
       "acarbose                     object\n",
       "miglitol                     object\n",
       "troglitazone                 object\n",
       "tolazamide                   object\n",
       "examide                      object\n",
       "citoglipton                  object\n",
       "insulin                      object\n",
       "glyburide-metformin          object\n",
       "glipizide-metformin          object\n",
       "glimepiride-pioglitazone     object\n",
       "metformin-rosiglitazone      object\n",
       "metformin-pioglitazone       object\n",
       "change                       object\n",
       "diabetesMed                  object\n",
       "readmitin30days               int64\n",
       "diabetic                    float64\n",
       "f_diag                       object\n",
       "s_diag                       object\n",
       "t_diag                       object\n",
       "self_pay                      int64\n",
       "medicaid/medicare             int64\n",
       "coverByInsurance              int64\n",
       "random                        int64\n",
       "dtype: object"
      ]
     },
     "execution_count": 49,
     "metadata": {},
     "output_type": "execute_result"
    }
   ],
   "source": [
    "data.dtypes"
   ]
  },
  {
   "cell_type": "code",
   "execution_count": 50,
   "metadata": {},
   "outputs": [],
   "source": [
    "data['admission_type_id'] = pd.Categorical(data.admission_type_id)\n",
    "data['discharge_disposition_id'] = pd.Categorical(data.discharge_disposition_id)\n",
    "data['admission_source_id'] = pd.Categorical(data.admission_source_id)\n",
    "\n",
    "cat_cols = list(data.select_dtypes(include=[object]).columns)\n",
    "\n",
    "for col in cat_cols:\n",
    "    data[col] = pd.Categorical(data[col])\n"
   ]
  },
  {
   "cell_type": "code",
   "execution_count": 51,
   "metadata": {},
   "outputs": [],
   "source": [
    "col_to_encode = data[list(data.select_dtypes(include=['category']).columns)]\n"
   ]
  },
  {
   "cell_type": "code",
   "execution_count": 52,
   "metadata": {},
   "outputs": [],
   "source": [
    "for col in col_to_encode:\n",
    "    data[col] = le.fit_transform(data[col])\n"
   ]
  },
  {
   "cell_type": "code",
   "execution_count": 53,
   "metadata": {},
   "outputs": [],
   "source": [
    "readmitted = data['readmitin30days']\n",
    "data = data.drop('readmitin30days', axis = 1)"
   ]
  },
  {
   "cell_type": "code",
   "execution_count": 54,
   "metadata": {},
   "outputs": [
    {
     "data": {
      "text/plain": [
       "race                          int64\n",
       "gender                        int64\n",
       "age                           int64\n",
       "admission_type_id             int64\n",
       "discharge_disposition_id      int64\n",
       "admission_source_id           int64\n",
       "time_in_hospital              int64\n",
       "num_lab_procedures            int64\n",
       "num_procedures                int64\n",
       "num_medications               int64\n",
       "number_outpatient             int64\n",
       "number_emergency              int64\n",
       "number_inpatient              int64\n",
       "number_diagnoses              int64\n",
       "max_glu_serum                 int64\n",
       "A1Cresult                     int64\n",
       "metformin                     int64\n",
       "repaglinide                   int64\n",
       "nateglinide                   int64\n",
       "chlorpropamide                int64\n",
       "glimepiride                   int64\n",
       "acetohexamide                 int64\n",
       "glipizide                     int64\n",
       "glyburide                     int64\n",
       "tolbutamide                   int64\n",
       "pioglitazone                  int64\n",
       "rosiglitazone                 int64\n",
       "acarbose                      int64\n",
       "miglitol                      int64\n",
       "troglitazone                  int64\n",
       "tolazamide                    int64\n",
       "examide                       int64\n",
       "citoglipton                   int64\n",
       "insulin                       int64\n",
       "glyburide-metformin           int64\n",
       "glipizide-metformin           int64\n",
       "glimepiride-pioglitazone      int64\n",
       "metformin-rosiglitazone       int64\n",
       "metformin-pioglitazone        int64\n",
       "change                        int64\n",
       "diabetesMed                   int64\n",
       "diabetic                    float64\n",
       "f_diag                        int64\n",
       "s_diag                        int64\n",
       "t_diag                        int64\n",
       "self_pay                      int64\n",
       "medicaid/medicare             int64\n",
       "coverByInsurance              int64\n",
       "random                        int64\n",
       "dtype: object"
      ]
     },
     "execution_count": 54,
     "metadata": {},
     "output_type": "execute_result"
    }
   ],
   "source": [
    "data.dtypes"
   ]
  },
  {
   "cell_type": "code",
   "execution_count": null,
   "metadata": {},
   "outputs": [],
   "source": []
  },
  {
   "cell_type": "code",
   "execution_count": 55,
   "metadata": {
    "scrolled": true
   },
   "outputs": [
    {
     "data": {
      "text/plain": [
       "0    90409\n",
       "1    11357\n",
       "Name: readmitin30days, dtype: int64"
      ]
     },
     "execution_count": 55,
     "metadata": {},
     "output_type": "execute_result"
    }
   ],
   "source": [
    "readmitted.value_counts()"
   ]
  },
  {
   "cell_type": "code",
   "execution_count": 10,
   "metadata": {},
   "outputs": [],
   "source": [
    "\n",
    "\n",
    "##predict test data\n",
    "#randomForest.predict(test)\n",
    "model=ensemble.RandomForestClassifier(oob_score = True, random_state=0)\n",
    "\n",
    "###Grid Search\n",
    "\n",
    "n_estimators = [900, 1000, 1100]\n",
    "max_features = ['sqrt']\n",
    "max_depth = [55, 60,65]\n",
    "min_samples_split = [10, 11, 12]\n",
    "min_samples_leaf = [2, 3]\n",
    "bootstrap = [True]\n",
    "grid_para = {'n_estimators': n_estimators,\n",
    "               'max_features': max_features,\n",
    "               'max_depth': max_depth,\n",
    "               'min_samples_split': min_samples_split,\n",
    "               'min_samples_leaf': min_samples_leaf,\n",
    "               'bootstrap': bootstrap}\n",
    "\n",
    "grid_search_forest = GridSearchCV(model, grid_para, cv=4)\n",
    "grid_search_forest.fit(data, readmitted)\n",
    "\n",
    "bestparam= grid_search_forest.best_params_\n",
    "bestscore= grid_search_forest.best_score_\n",
    "\n",
    "\n",
    "\n"
   ]
  },
  {
   "cell_type": "code",
   "execution_count": 58,
   "metadata": {},
   "outputs": [
    {
     "data": {
      "text/plain": [
       "0.41342976552564054"
      ]
     },
     "execution_count": 58,
     "metadata": {},
     "output_type": "execute_result"
    }
   ],
   "source": [
    "# Fit the model\n",
    "model = ensemble.RandomForestRegressor(oob_score=True, random_state = 0, **bestparam)\n",
    "#model.set_params(bestparam)\n",
    "model.fit(data, readmitted)\n",
    "model.score(data, readmitted)"
   ]
  },
  {
   "cell_type": "code",
   "execution_count": 22,
   "metadata": {},
   "outputs": [
    {
     "name": "stdout",
     "output_type": "stream",
     "text": [
      "{'bootstrap': True, 'max_depth': 55, 'max_features': 'sqrt', 'min_samples_leaf': 2, 'min_samples_split': 12, 'n_estimators': 1100}\n",
      "0.8884106676100073\n"
     ]
    }
   ],
   "source": [
    "print(bestparam)\n",
    "print(bestscore)\n",
    "#model.score(data, readmitted)\n"
   ]
  },
  {
   "cell_type": "code",
   "execution_count": 14,
   "metadata": {
    "scrolled": false
   },
   "outputs": [
    {
     "data": {
      "image/png": "[encoded data removed]",
      "text/plain": [
       "<Figure size 432x288 with 1 Axes>"
      ]
     },
     "metadata": {
      "needs_background": "light"
     },
     "output_type": "display_data"
    },
    {
     "data": {
      "image/png": "[encoded data removed]",
      "text/plain": [
       "<Figure size 432x288 with 1 Axes>"
      ]
     },
     "metadata": {
      "needs_background": "light"
     },
     "output_type": "display_data"
    }
   ],
   "source": [
    "\n",
    "##feature importance\n",
    "feature_importance = list(zip(data.columns, model.feature_importances_))\n",
    "dtype = [('feature', 'S10'), ('importance', 'float')]\n",
    "feature_importance = np.array(feature_importance, dtype=dtype)\n",
    "feature_sort = np.sort(feature_importance, order='importance')[::-1]\n",
    "name, score = zip(*list(feature_sort))\n",
    "fea_i=pd.DataFrame({'name':name,'score':score})\n",
    "fea_i[:20].plot.bar(x='name', y='score')\n",
    "fea_i\n",
    "\n",
    "my_fig = fea_i[:20].plot.bar(x='name', y='score')\n",
    "my_fig.tick_params(labelsize=14)\n",
    "#my_fig.figure.savefig('my_fig.png', dpi=300, bbox_inches = 'tight')\n"
   ]
  },
  {
   "cell_type": "code",
   "execution_count": 57,
   "metadata": {},
   "outputs": [
    {
     "data": {
      "text/plain": [
       "1    34272\n",
       "0    33768\n",
       "2    33726\n",
       "Name: random, dtype: int64"
      ]
     },
     "execution_count": 57,
     "metadata": {},
     "output_type": "execute_result"
    }
   ],
   "source": [
    "data['random'] = np.random.randint(0,3, data.shape[0])\n",
    "data['random'].value_counts()"
   ]
  },
  {
   "cell_type": "code",
   "execution_count": 40,
   "metadata": {
    "scrolled": false
   },
   "outputs": [
    {
     "data": {
      "image/png": "[encoded data removed]",
      "text/plain": [
       "<Figure size 432x288 with 1 Axes>"
      ]
     },
     "metadata": {
      "needs_background": "light"
     },
     "output_type": "display_data"
    },
    {
     "data": {
      "image/png": "[encoded data removed]",
      "text/plain": [
       "<Figure size 432x288 with 1 Axes>"
      ]
     },
     "metadata": {
      "needs_background": "light"
     },
     "output_type": "display_data"
    }
   ],
   "source": [
    "\n",
    "##feature importance\n",
    "feature_importance = list(zip(data.columns, model.feature_importances_))\n",
    "dtype = [('feature', 'S10'), ('importance', 'float')]\n",
    "feature_importance = np.array(feature_importance, dtype=dtype)\n",
    "feature_sort = np.sort(feature_importance, order='importance')[::-1]\n",
    "name, score = zip(*list(feature_sort))\n",
    "fea_i=pd.DataFrame({'name':name,'score':score})\n",
    "fea_i[:30].plot.bar(x='name', y='score')\n",
    "fea_i\n",
    "\n",
    "my_fig = fea_i[:30].plot.bar(x='name', y='score')\n",
    "my_fig.tick_params(labelsize=14)\n",
    "my_fig.figure.savefig('my_fig.png', dpi=300, bbox_inches = 'tight')\n"
   ]
  },
  {
   "cell_type": "code",
   "execution_count": 26,
   "metadata": {},
   "outputs": [],
   "source": [
    "data = data.drop('random', axis = 1)"
   ]
  },
  {
   "cell_type": "code",
   "execution_count": null,
   "metadata": {},
   "outputs": [],
   "source": []
  }
 ],
 "metadata": {
  "kernelspec": {
   "display_name": "Python 3",
   "language": "python",
   "name": "python3"
  },
  "language_info": {
   "codemirror_mode": {
    "name": "ipython",
    "version": 3
   },
   "file_extension": ".py",
   "mimetype": "text/x-python",
   "name": "python",
   "nbconvert_exporter": "python",
   "pygments_lexer": "ipython3",
   "version": "3.7.1"
  }
 },
 "nbformat": 4,
 "nbformat_minor": 2
}
