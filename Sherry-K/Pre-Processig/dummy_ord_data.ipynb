{
 "cells": [
  {
   "cell_type": "code",
   "execution_count": 264,
   "metadata": {},
   "outputs": [],
   "source": [
    "import matplotlib.pyplot as plt\n",
    "import numpy as np\n",
    "import pandas as pd\n",
    "from sklearn.preprocessing import StandardScaler, LabelEncoder\n",
    "\n",
    "\n",
    "data=pd.read_csv('./final_data.csv')\n"
   ]
  },
  {
   "cell_type": "code",
   "execution_count": 265,
   "metadata": {
    "scrolled": false
   },
   "outputs": [
    {
     "data": {
      "text/plain": [
       "(84432, 39)"
      ]
     },
     "execution_count": 265,
     "metadata": {},
     "output_type": "execute_result"
    }
   ],
   "source": [
    "data_.shape\n",
    "data.shape"
   ]
  },
  {
   "cell_type": "code",
   "execution_count": 266,
   "metadata": {},
   "outputs": [
    {
     "name": "stderr",
     "output_type": "stream",
     "text": [
      "/anaconda3/lib/python3.7/site-packages/ipykernel_launcher.py:3: SettingWithCopyWarning: \n",
      "A value is trying to be set on a copy of a slice from a DataFrame\n",
      "\n",
      "See the caveats in the documentation: http://pandas.pydata.org/pandas-docs/stable/indexing.html#indexing-view-versus-copy\n",
      "  This is separate from the ipykernel package so we can avoid doing imports until\n"
     ]
    }
   ],
   "source": [
    "X = data.copy()\n",
    "X['admission_type_id'] = X['admission_type_id'].astype(str)\n",
    "X['gender'][X.gender.values == 'Unknown/Invalid'] = 'Female'\n"
   ]
  },
  {
   "cell_type": "code",
   "execution_count": 267,
   "metadata": {},
   "outputs": [],
   "source": [
    "to_dummy = ['race', 'admission_type_id','f_diag', 's_diag', 't_diag','medical_specialty_new', 'discharge_id', 'admission_id']\n",
    "meds = list(X.columns)[14:26]\n",
    "meds = ['metformin','repaglinide','nateglinide','chlorpropamide','glipizide','glyburide','pioglitazone','rosiglitazone','acarbose','miglitol','insulin']\n",
    "to_encode = ['gender','age','max_glu_serum','A1Cresult'] + meds\n"
   ]
  },
  {
   "cell_type": "code",
   "execution_count": 268,
   "metadata": {},
   "outputs": [],
   "source": [
    "num_lst = list(X.select_dtypes(include = int).columns)\n",
    "num_lst = num_lst[:8]"
   ]
  },
  {
   "cell_type": "code",
   "execution_count": 272,
   "metadata": {
    "scrolled": true
   },
   "outputs": [],
   "source": [
    "col_names = list(X.columns)\n"
   ]
  },
  {
   "cell_type": "code",
   "execution_count": 273,
   "metadata": {},
   "outputs": [],
   "source": [
    "# label orders for cat variables to label encode\n",
    "A1Cresult_order = ['None', 'Norm', '>7', \">8\"]\n",
    "max_glu_serum_order = ['None', 'Norm', '>200', \">300\"]\n",
    "age_order = ['[0-10)','[10-20)','[20-30)','[30-40)','[40-50)','[50-60)', '[60-70)','[70-80)','[80-90)','[90-100)']\n",
    "med_order = ['No','Down','Steady','Up']"
   ]
  },
  {
   "cell_type": "code",
   "execution_count": 275,
   "metadata": {},
   "outputs": [],
   "source": [
    "label_encoder = LabelEncoder()\n",
    "mappings = []\n",
    "\n",
    "\n",
    "def ordered_labels(df, col, order):\n",
    "    df[col] = df[col].astype('category')\n",
    "    df[col] = df[col].cat.reorder_categories(order, ordered=True)\n",
    "    df[col] = df[col].cat.codes.astype(int)"
   ]
  },
  {
   "cell_type": "code",
   "execution_count": 257,
   "metadata": {},
   "outputs": [],
   "source": [
    "# Use dummy variables for occupation\n",
    "X_copy = X.copy()\n"
   ]
  },
  {
   "cell_type": "code",
   "execution_count": 258,
   "metadata": {},
   "outputs": [],
   "source": [
    "# Label encode categorical variables.\n",
    "\n",
    "le = LabelEncoder()\n",
    "mappings = []\n",
    "\n",
    "\n",
    "def ordered_labels(df, col, order):\n",
    "    df[col] = df[col].astype('category')\n",
    "    df[col] = df[col].cat.reorder_categories(order, ordered=True)\n",
    "    df[col] = df[col].cat.codes.astype(int)"
   ]
  },
  {
   "cell_type": "code",
   "execution_count": 259,
   "metadata": {},
   "outputs": [],
   "source": [
    "## dummifying columns \n",
    "X_copy = pd.concat([X_copy, pd.get_dummies(X_copy[to_dummy])],axis=1).drop(to_dummy,axis=1)\n",
    "\n",
    "## label encoding columns \n",
    "ordered_labels(X_copy,'max_glu_serum', max_glu_serum_order)\n",
    "ordered_labels(X_copy,'age', age_order)\n",
    "ordered_labels(X_copy,'A1Cresult', A1Cresult_order)\n",
    "for med in meds:\n",
    "    ordered_labels(X_copy,med, med_order)\n",
    "X_copy['insulin'] = X_copy.insulin.astype(int)"
   ]
  },
  {
   "cell_type": "code",
   "execution_count": 286,
   "metadata": {},
   "outputs": [],
   "source": [
    "# Same label encoding for rest since low cardinality\n",
    "for i, col in enumerate(X_copy):\n",
    "    if X_copy[col].dtype == 'object':\n",
    "        X_copy[col] = label_encoder.fit_transform(np.array(X_copy[col].astype(str)).reshape((-1,)))\n",
    "        mappings.append(dict(zip(label_encoder.classes_, range(1, len(label_encoder.classes_)+1))))"
   ]
  },
  {
   "cell_type": "code",
   "execution_count": 285,
   "metadata": {},
   "outputs": [],
   "source": [
    "X_copy['insulin'] = X_copy.insulin.astype(int)"
   ]
  },
  {
   "cell_type": "code",
   "execution_count": 287,
   "metadata": {},
   "outputs": [
    {
     "data": {
      "text/plain": [
       "gender                                                int64\n",
       "age                                                   int64\n",
       "time_in_hospital                                      int64\n",
       "num_lab_procedures                                    int64\n",
       "num_procedures                                        int64\n",
       "num_medications                                       int64\n",
       "number_outpatient                                     int64\n",
       "number_emergency                                      int64\n",
       "number_inpatient                                      int64\n",
       "number_diagnoses                                      int64\n",
       "max_glu_serum                                         int64\n",
       "A1Cresult                                             int64\n",
       "metformin                                             int64\n",
       "repaglinide                                           int64\n",
       "nateglinide                                           int64\n",
       "chlorpropamide                                        int64\n",
       "glipizide                                             int64\n",
       "glyburide                                             int64\n",
       "tolbutamide                                           int64\n",
       "pioglitazone                                          int64\n",
       "rosiglitazone                                         int64\n",
       "acarbose                                              int64\n",
       "miglitol                                              int64\n",
       "insulin                                               int64\n",
       "target                                                int64\n",
       "self_pay                                              int64\n",
       "medicaid/medicare                                     int64\n",
       "coverByInsurance                                      int64\n",
       "clustering3                                           int64\n",
       "clustering4                                           int64\n",
       "                                                      ...  \n",
       "t_diag_neoplasms                                      uint8\n",
       "t_diag_symptoms, signs, and ill-defined conditions    uint8\n",
       "medical_specialty_new_Cardiology                      uint8\n",
       "medical_specialty_new_Emergency/Trauma                uint8\n",
       "medical_specialty_new_Family/GeneralPractice          uint8\n",
       "medical_specialty_new_InternalMedicine                uint8\n",
       "medical_specialty_new_Nephrology                      uint8\n",
       "medical_specialty_new_No                              uint8\n",
       "medical_specialty_new_Orthopedics                     uint8\n",
       "medical_specialty_new_Orthopedics-Reconstructive      uint8\n",
       "medical_specialty_new_Other                           uint8\n",
       "medical_specialty_new_Surgery-General                 uint8\n",
       "discharge_id_1                                        uint8\n",
       "discharge_id_18                                       uint8\n",
       "discharge_id_2                                        uint8\n",
       "discharge_id_22                                       uint8\n",
       "discharge_id_25                                       uint8\n",
       "discharge_id_3                                        uint8\n",
       "discharge_id_4                                        uint8\n",
       "discharge_id_5                                        uint8\n",
       "discharge_id_6                                        uint8\n",
       "discharge_id_Other                                    uint8\n",
       "admission_id_1                                        uint8\n",
       "admission_id_17                                       uint8\n",
       "admission_id_2                                        uint8\n",
       "admission_id_4                                        uint8\n",
       "admission_id_5                                        uint8\n",
       "admission_id_6                                        uint8\n",
       "admission_id_7                                        uint8\n",
       "admission_id_Other                                    uint8\n",
       "Length: 126, dtype: object"
      ]
     },
     "execution_count": 287,
     "metadata": {},
     "output_type": "execute_result"
    }
   ],
   "source": []
  },
  {
   "cell_type": "code",
   "execution_count": 288,
   "metadata": {},
   "outputs": [],
   "source": [
    "X_copy.to_csv('Data_final_clean.csv', index = False)"
   ]
  },
  {
   "cell_type": "code",
   "execution_count": null,
   "metadata": {},
   "outputs": [],
   "source": []
  }
 ],
 "metadata": {
  "kernelspec": {
   "display_name": "Python 3",
   "language": "python",
   "name": "python3"
  },
  "language_info": {
   "codemirror_mode": {
    "name": "ipython",
    "version": 3
   },
   "file_extension": ".py",
   "mimetype": "text/x-python",
   "name": "python",
   "nbconvert_exporter": "python",
   "pygments_lexer": "ipython3",
   "version": "3.7.1"
  }
 },
 "nbformat": 4,
 "nbformat_minor": 2
}
