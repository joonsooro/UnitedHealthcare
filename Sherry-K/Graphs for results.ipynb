{
 "cells": [
  {
   "cell_type": "code",
   "execution_count": 1,
   "metadata": {},
   "outputs": [],
   "source": [
    "import matplotlib.pyplot as plt\n",
    "import numpy as np\n",
    "import pandas as pd"
   ]
  },
  {
   "cell_type": "code",
   "execution_count": 2,
   "metadata": {},
   "outputs": [
    {
     "data": {
      "text/plain": [
       "{'Model': ['Log Reg', 'XGB', 'RF', 'GBM', 'SVM'],\n",
       " 'Train AUC': [0.662, 0.669, 0.653, 0.715, 0.783],\n",
       " 'Test AUC': [0.649, 0.666, 0.645, 0.668, 0.622],\n",
       " 'Train Recall': [0.577, 0.728, 0.627, 0.684, 0.678],\n",
       " 'Test Recall': [0.559, 0.703, 0.614, 0.628, 0.59]}"
      ]
     },
     "execution_count": 2,
     "metadata": {},
     "output_type": "execute_result"
    }
   ],
   "source": [
    "score = {'Model': ['Log Reg','XGB', 'RF', 'GBM', 'SVM'], \n",
    "         'Train AUC':[.662,.669,.653,.715,0.783], \n",
    "         'Test AUC': [.649,.666,.645,.668,.622], \n",
    "         'Train Recall': [.577,.728,.627,.684,.678], \n",
    "         'Test Recall':[.559,.703,.614,.628,.590]}\n",
    "score"
   ]
  },
  {
   "cell_type": "code",
   "execution_count": 3,
   "metadata": {},
   "outputs": [],
   "source": [
    "holdout_score = {'Model': ['Log Reg','XGB', 'RF', 'GBM', 'SVM'], \n",
    "         'AUC':[.660,.679,.648,.584,.611],\n",
    "         'Recall': [.629,.715,.615,.381,.564]}"
   ]
  },
  {
   "cell_type": "code",
   "execution_count": 4,
   "metadata": {},
   "outputs": [],
   "source": [
    "df = pd.DataFrame(score)"
   ]
  },
  {
   "cell_type": "code",
   "execution_count": 5,
   "metadata": {},
   "outputs": [
    {
     "data": {
      "text/html": [
       "<div>\n",
       "<style scoped>\n",
       "    .dataframe tbody tr th:only-of-type {\n",
       "        vertical-align: middle;\n",
       "    }\n",
       "\n",
       "    .dataframe tbody tr th {\n",
       "        vertical-align: top;\n",
       "    }\n",
       "\n",
       "    .dataframe thead th {\n",
       "        text-align: right;\n",
       "    }\n",
       "</style>\n",
       "<table border=\"1\" class=\"dataframe\">\n",
       "  <thead>\n",
       "    <tr style=\"text-align: right;\">\n",
       "      <th></th>\n",
       "      <th>Model</th>\n",
       "      <th>AUC</th>\n",
       "      <th>Recall</th>\n",
       "    </tr>\n",
       "  </thead>\n",
       "  <tbody>\n",
       "    <tr>\n",
       "      <th>0</th>\n",
       "      <td>Log Reg</td>\n",
       "      <td>0.660</td>\n",
       "      <td>0.629</td>\n",
       "    </tr>\n",
       "    <tr>\n",
       "      <th>1</th>\n",
       "      <td>XGB</td>\n",
       "      <td>0.679</td>\n",
       "      <td>0.715</td>\n",
       "    </tr>\n",
       "    <tr>\n",
       "      <th>2</th>\n",
       "      <td>RF</td>\n",
       "      <td>0.648</td>\n",
       "      <td>0.615</td>\n",
       "    </tr>\n",
       "    <tr>\n",
       "      <th>3</th>\n",
       "      <td>GBM</td>\n",
       "      <td>0.584</td>\n",
       "      <td>0.381</td>\n",
       "    </tr>\n",
       "    <tr>\n",
       "      <th>4</th>\n",
       "      <td>SVM</td>\n",
       "      <td>0.611</td>\n",
       "      <td>0.564</td>\n",
       "    </tr>\n",
       "  </tbody>\n",
       "</table>\n",
       "</div>"
      ],
      "text/plain": [
       "     Model    AUC  Recall\n",
       "0  Log Reg  0.660   0.629\n",
       "1      XGB  0.679   0.715\n",
       "2       RF  0.648   0.615\n",
       "3      GBM  0.584   0.381\n",
       "4      SVM  0.611   0.564"
      ]
     },
     "execution_count": 5,
     "metadata": {},
     "output_type": "execute_result"
    }
   ],
   "source": [
    "df_hold = pd.DataFrame(holdout_score)\n",
    "df_hold"
   ]
  },
  {
   "cell_type": "code",
   "execution_count": 6,
   "metadata": {
    "scrolled": true
   },
   "outputs": [
    {
     "data": {
      "text/html": [
       "<div>\n",
       "<style scoped>\n",
       "    .dataframe tbody tr th:only-of-type {\n",
       "        vertical-align: middle;\n",
       "    }\n",
       "\n",
       "    .dataframe tbody tr th {\n",
       "        vertical-align: top;\n",
       "    }\n",
       "\n",
       "    .dataframe thead th {\n",
       "        text-align: right;\n",
       "    }\n",
       "</style>\n",
       "<table border=\"1\" class=\"dataframe\">\n",
       "  <thead>\n",
       "    <tr style=\"text-align: right;\">\n",
       "      <th></th>\n",
       "      <th>Model</th>\n",
       "      <th>Train AUC</th>\n",
       "      <th>Test AUC</th>\n",
       "      <th>Train Recall</th>\n",
       "      <th>Test Recall</th>\n",
       "    </tr>\n",
       "  </thead>\n",
       "  <tbody>\n",
       "    <tr>\n",
       "      <th>0</th>\n",
       "      <td>Log Reg</td>\n",
       "      <td>0.662</td>\n",
       "      <td>0.649</td>\n",
       "      <td>0.577</td>\n",
       "      <td>0.559</td>\n",
       "    </tr>\n",
       "    <tr>\n",
       "      <th>1</th>\n",
       "      <td>XGB</td>\n",
       "      <td>0.669</td>\n",
       "      <td>0.666</td>\n",
       "      <td>0.728</td>\n",
       "      <td>0.703</td>\n",
       "    </tr>\n",
       "    <tr>\n",
       "      <th>2</th>\n",
       "      <td>RF</td>\n",
       "      <td>0.653</td>\n",
       "      <td>0.645</td>\n",
       "      <td>0.627</td>\n",
       "      <td>0.614</td>\n",
       "    </tr>\n",
       "    <tr>\n",
       "      <th>3</th>\n",
       "      <td>GBM</td>\n",
       "      <td>0.715</td>\n",
       "      <td>0.668</td>\n",
       "      <td>0.684</td>\n",
       "      <td>0.628</td>\n",
       "    </tr>\n",
       "    <tr>\n",
       "      <th>4</th>\n",
       "      <td>SVM</td>\n",
       "      <td>0.783</td>\n",
       "      <td>0.622</td>\n",
       "      <td>0.678</td>\n",
       "      <td>0.590</td>\n",
       "    </tr>\n",
       "  </tbody>\n",
       "</table>\n",
       "</div>"
      ],
      "text/plain": [
       "     Model  Train AUC  Test AUC  Train Recall  Test Recall\n",
       "0  Log Reg      0.662     0.649         0.577        0.559\n",
       "1      XGB      0.669     0.666         0.728        0.703\n",
       "2       RF      0.653     0.645         0.627        0.614\n",
       "3      GBM      0.715     0.668         0.684        0.628\n",
       "4      SVM      0.783     0.622         0.678        0.590"
      ]
     },
     "execution_count": 6,
     "metadata": {},
     "output_type": "execute_result"
    }
   ],
   "source": [
    "df"
   ]
  },
  {
   "cell_type": "code",
   "execution_count": 7,
   "metadata": {},
   "outputs": [
    {
     "data": {
      "text/plain": [
       "['Log Reg', 'XGB', 'RF', 'GBM', 'SVM']"
      ]
     },
     "execution_count": 7,
     "metadata": {},
     "output_type": "execute_result"
    }
   ],
   "source": [
    "list(df.Model)"
   ]
  },
  {
   "cell_type": "code",
   "execution_count": 8,
   "metadata": {},
   "outputs": [
    {
     "data": {
      "image/png": "[encoded data removed]",
      "text/plain": [
       "<Figure size 864x576 with 1 Axes>"
      ]
     },
     "metadata": {
      "needs_background": "light"
     },
     "output_type": "display_data"
    }
   ],
   "source": [
    "fig, ax = plt.subplots(figsize=(12,8))  \n",
    "N = 5\n",
    "train_auc = list(df['Train AUC'])\n",
    "test_auc = list(df['Test AUC'])\n",
    "\n",
    "ind = np.arange(N) \n",
    "\n",
    "width = 0.35       \n",
    "plt.bar(ind, train_auc, width, label='Train AUC')\n",
    "plt.bar(ind + width, test_auc, width,\n",
    "    label='Test AUC')\n",
    "\n",
    "plt.ylabel('AUC Score')\n",
    "plt.xlabel('Model')\n",
    "\n",
    "plt.title('AUC Scores By Model')\n",
    "\n",
    "plt.xticks(ind + width / 2, list(df.Model))\n",
    "plt.legend(loc='best')\n",
    "\n",
    "\n",
    "plt.show()\n"
   ]
  },
  {
   "cell_type": "code",
   "execution_count": 9,
   "metadata": {
    "scrolled": true
   },
   "outputs": [
    {
     "data": {
      "image/png": "[encoded data removed]",
      "text/plain": [
       "<Figure size 864x576 with 1 Axes>"
      ]
     },
     "metadata": {
      "needs_background": "light"
     },
     "output_type": "display_data"
    }
   ],
   "source": [
    "fig, ax = plt.subplots(figsize=(12,8))    \n",
    "\n",
    "N = 5\n",
    "train_recall = list(df['Train Recall'])\n",
    "test_recall = list(df['Test Recall'])\n",
    "\n",
    "ind = np.arange(N) \n",
    "\n",
    "width = 0.35       \n",
    "plt.bar(ind, train_recall, width, label='Train Recall')\n",
    "plt.bar(ind + width, test_recall, width,\n",
    "    label='Test Recall')\n",
    "\n",
    "plt.ylabel('Recall Score')\n",
    "plt.xlabel('Model')\n",
    "\n",
    "plt.title('Recall Scores By Model')\n",
    "\n",
    "plt.xticks(ind + width / 2, list(df.Model))\n",
    "plt.legend(loc='best')\n",
    "\n",
    "plt.show()\n"
   ]
  },
  {
   "cell_type": "code",
   "execution_count": 12,
   "metadata": {},
   "outputs": [
    {
     "data": {
      "image/png": "[encoded data removed]",
      "text/plain": [
       "<Figure size 864x576 with 1 Axes>"
      ]
     },
     "metadata": {
      "needs_background": "light"
     },
     "output_type": "display_data"
    }
   ],
   "source": [
    "fig, ax = plt.subplots(figsize=(12,8))    \n",
    "\n",
    "N = 5\n",
    "holdout_auc = list(df_hold['AUC'])\n",
    "holdout_recall = list(df_hold['Recall'])\n",
    "\n",
    "ind = np.arange(N) \n",
    "\n",
    "width = 0.35       \n",
    "plt.bar(ind, holdout_auc, width, label='AUC', color = 'red')\n",
    "plt.bar(ind + width, holdout_recall, width,\n",
    "    label='Recall', color = 'blue')\n",
    "\n",
    "plt.ylabel('Score')\n",
    "plt.xlabel('Model')\n",
    "\n",
    "plt.title('Holdout AUC/Recall Scores By Model')\n",
    "\n",
    "plt.xticks(ind + width / 2, list(df_hold.Model))\n",
    "plt.legend(loc='best')\n",
    "\n",
    "plt.show()\n"
   ]
  },
  {
   "cell_type": "code",
   "execution_count": null,
   "metadata": {},
   "outputs": [],
   "source": []
  }
 ],
 "metadata": {
  "kernelspec": {
   "display_name": "Python 3",
   "language": "python",
   "name": "python3"
  },
  "language_info": {
   "codemirror_mode": {
    "name": "ipython",
    "version": 3
   },
   "file_extension": ".py",
   "mimetype": "text/x-python",
   "name": "python",
   "nbconvert_exporter": "python",
   "pygments_lexer": "ipython3",
   "version": "3.7.1"
  }
 },
 "nbformat": 4,
 "nbformat_minor": 2
}
