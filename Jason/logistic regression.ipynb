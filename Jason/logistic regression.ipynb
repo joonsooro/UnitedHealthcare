{
 "cells": [
  {
   "cell_type": "code",
   "execution_count": 49,
   "metadata": {},
   "outputs": [],
   "source": [
    "# Import modules\n",
    "import pandas as pd\n",
    "import numpy as np\n",
    "from scipy import stats\n",
    "import matplotlib.pyplot as plt\n",
    "import matplotlib as mpl\n",
    "from sklearn import preprocessing\n",
    "from sklearn import linear_model\n",
    "from sklearn.metrics import mean_squared_error\n",
    "from sklearn.metrics import r2_score\n",
    "from sklearn.linear_model import LogisticRegression\n",
    "from sklearn.model_selection import train_test_split"
   ]
  },
  {
   "cell_type": "code",
   "execution_count": 51,
   "metadata": {},
   "outputs": [],
   "source": [
    "new_data = pd.read_csv('data/new_data.csv')"
   ]
  },
  {
   "cell_type": "code",
   "execution_count": 39,
   "metadata": {},
   "outputs": [],
   "source": [
    "#enlabel the columns\n",
    "new_data = new_data\n",
    "new_data['admission_type_id'] = pd.Categorical(new_data.admission_type_id)\n",
    "new_data['discharge_disposition_id'] = pd.Categorical(new_data.discharge_disposition_id)\n",
    "new_data['admission_source_id'] = pd.Categorical(new_data.admission_source_id)\n",
    "\n",
    "cat_cols = list(new_data.select_dtypes(include=[object]).columns)\n",
    "for col in cat_cols:\n",
    "   new_data[col] = pd.Categorical(new_data[col])\n",
    "\n",
    "le = preprocessing.LabelEncoder()\n",
    "\n",
    "col_to_encode = new_data[list(new_data.select_dtypes(include=['category']).columns)]\n",
    "for col in col_to_encode:\n",
    "   new_data[col] = le.fit_transform(new_data[col])\n"
   ]
  },
  {
   "cell_type": "code",
   "execution_count": null,
   "metadata": {},
   "outputs": [],
   "source": [
    "### 1"
   ]
  },
  {
   "cell_type": "code",
   "execution_count": 22,
   "metadata": {},
   "outputs": [
    {
     "data": {
      "text/plain": [
       "LogisticRegression(C=1.0, class_weight=None, dual=False, fit_intercept=True,\n",
       "          intercept_scaling=1, max_iter=100, multi_class='ovr', n_jobs=1,\n",
       "          penalty='l2', random_state=0, solver='liblinear', tol=0.0001,\n",
       "          verbose=0, warm_start=False)"
      ]
     },
     "execution_count": 22,
     "metadata": {},
     "output_type": "execute_result"
    }
   ],
   "source": [
    "classifier = LogisticRegression(random_state=0)\n",
    "classifier.fit(X_train, y_train)"
   ]
  },
  {
   "cell_type": "code",
   "execution_count": 23,
   "metadata": {},
   "outputs": [
    {
     "name": "stdout",
     "output_type": "stream",
     "text": [
      "[[18112     0]\n",
      " [ 2242     0]]\n"
     ]
    }
   ],
   "source": [
    "#confusion matrix\n",
    "y_pred = classifier.predict(X_test)\n",
    "from sklearn.metrics import confusion_matrix\n",
    "confusion_matrix = confusion_matrix(y_test, y_pred)\n",
    "print(confusion_matrix)"
   ]
  },
  {
   "cell_type": "code",
   "execution_count": 24,
   "metadata": {},
   "outputs": [
    {
     "name": "stdout",
     "output_type": "stream",
     "text": [
      "Accuracy of logistic regression classifier on test set: 0.89\n"
     ]
    }
   ],
   "source": [
    "print('Accuracy of logistic regression classifier on test set: {:.2f}'.format(classifier.score(X_test, y_test)))"
   ]
  },
  {
   "cell_type": "code",
   "execution_count": 25,
   "metadata": {},
   "outputs": [
    {
     "name": "stdout",
     "output_type": "stream",
     "text": [
      "             precision    recall  f1-score   support\n",
      "\n",
      "          0       0.89      1.00      0.94     18112\n",
      "          1       0.00      0.00      0.00      2242\n",
      "\n",
      "avg / total       0.79      0.89      0.84     20354\n",
      "\n"
     ]
    },
    {
     "name": "stderr",
     "output_type": "stream",
     "text": [
      "/Users/jasonwang/anaconda3/lib/python3.7/site-packages/sklearn/metrics/classification.py:1135: UndefinedMetricWarning: Precision and F-score are ill-defined and being set to 0.0 in labels with no predicted samples.\n",
      "  'precision', 'predicted', average, warn_for)\n"
     ]
    }
   ],
   "source": [
    "from sklearn.metrics import classification_report\n",
    "print(classification_report(y_test, y_pred))"
   ]
  },
  {
   "cell_type": "code",
   "execution_count": 33,
   "metadata": {},
   "outputs": [
    {
     "name": "stdout",
     "output_type": "stream",
     "text": [
      "[[-8.26591365e-09 -8.75211822e-09 -2.76826297e-15 -8.16793953e-16\n",
      "  -9.98396320e-15 -2.52944600e-15 -5.66836765e-15 -8.92920786e-15\n",
      "  -7.17411014e-15 -4.00652337e-14 -7.41589917e-14 -2.66421030e-15\n",
      "  -2.36100168e-14  8.43252403e-17  3.65971852e-16  6.80812964e-16\n",
      "  -1.05368121e-14 -3.47707696e-15 -3.24571414e-15 -2.12147843e-15\n",
      "  -1.75472808e-15 -1.75991777e-15 -1.75911806e-15 -1.83364364e-15\n",
      "  -8.89502423e-20 -1.97334295e-15 -2.02141440e-15 -1.16747010e-18\n",
      "  -1.84538148e-15 -1.88866476e-15 -1.76057857e-15 -1.75564334e-15\n",
      "  -2.57094134e-19 -2.35351221e-18  0.00000000e+00  0.00000000e+00\n",
      "  -2.34631133e-15 -1.75381893e-15 -1.23945996e-19 -2.75735461e-20\n",
      "  -4.16020130e-21 -7.15076168e-21 -1.20366741e-15 -1.18473713e-15\n",
      "   2.30029994e-15 -1.34139096e-16 -1.47132556e-14 -1.39586423e-14\n",
      "  -1.41544255e-14 -8.92043444e-18 -1.48751373e-17 -1.03624577e-16]]\n"
     ]
    }
   ],
   "source": [
    "print(classifier.coef_)"
   ]
  },
  {
   "cell_type": "code",
   "execution_count": null,
   "metadata": {},
   "outputs": [],
   "source": []
  },
  {
   "cell_type": "code",
   "execution_count": null,
   "metadata": {},
   "outputs": [],
   "source": [
    "#### 2"
   ]
  },
  {
   "cell_type": "code",
   "execution_count": 40,
   "metadata": {},
   "outputs": [
    {
     "name": "stdout",
     "output_type": "stream",
     "text": [
      "(81412, 52) (81412,)\n",
      "(20354, 52) (20354,)\n"
     ]
    }
   ],
   "source": [
    "#creating a training and testing datasets\n",
    "y = new_data.readmitin30days\n",
    "X_train, X_test, y_train, y_test = train_test_split(new_data, y, test_size=0.2)\n",
    "print(X_train.shape, y_train.shape)\n",
    "print(X_test.shape, y_test.shape)"
   ]
  },
  {
   "cell_type": "code",
   "execution_count": 41,
   "metadata": {},
   "outputs": [
    {
     "data": {
      "text/plain": [
       "0.8880877511914705"
      ]
     },
     "execution_count": 41,
     "metadata": {},
     "output_type": "execute_result"
    }
   ],
   "source": [
    "decision_logit = linear_model.LogisticRegression(C=1e4)\n",
    "## Fit the model with your data\n",
    "decision_logit.fit(X_train, y_train)\n",
    "\n",
    "## The score (accuracy for classification problems):\n",
    "decision_logit.score(X_train, y_train)"
   ]
  },
  {
   "cell_type": "code",
   "execution_count": 63,
   "metadata": {},
   "outputs": [
    {
     "data": {
      "text/plain": [
       "array([[-8.27929110e-09, -8.63157146e-09, -2.79429872e-15,\n",
       "        -8.29611817e-16, -1.01055291e-14, -2.52559263e-15,\n",
       "        -5.81377220e-15, -8.97889840e-15, -7.31756615e-15,\n",
       "        -4.06213808e-14, -7.47991107e-14, -2.69712827e-15,\n",
       "        -2.40929127e-14,  8.14240632e-17,  3.65971656e-16,\n",
       "         7.30562095e-16, -1.06910867e-14, -3.51493737e-15,\n",
       "        -3.26347350e-15, -2.16151504e-15, -1.77556945e-15,\n",
       "        -1.77944156e-15, -1.77950914e-15, -1.85222952e-15,\n",
       "        -8.93806433e-20, -2.00209939e-15, -2.04301947e-15,\n",
       "        -1.30719029e-18, -1.86474463e-15, -1.91422952e-15,\n",
       "        -1.78101855e-15, -1.77561037e-15, -4.00050648e-19,\n",
       "        -2.11875213e-18,  0.00000000e+00,  0.00000000e+00,\n",
       "        -2.34129345e-15, -1.77545490e-15, -2.90338380e-19,\n",
       "         0.00000000e+00, -1.86386394e-20, -7.18612993e-21,\n",
       "        -1.20825592e-15, -1.20046926e-15,  2.30855204e-15,\n",
       "        -1.44071850e-16, -1.50954910e-14, -1.42633766e-14,\n",
       "        -1.43098693e-14, -7.08241908e-18, -1.70748246e-17,\n",
       "        -1.00563695e-16]])"
      ]
     },
     "execution_count": 63,
     "metadata": {},
     "output_type": "execute_result"
    }
   ],
   "source": [
    "decision_logit.coef_"
   ]
  },
  {
   "cell_type": "code",
   "execution_count": 84,
   "metadata": {},
   "outputs": [
    {
     "data": {
      "text/html": [
       "<div>\n",
       "<style scoped>\n",
       "    .dataframe tbody tr th:only-of-type {\n",
       "        vertical-align: middle;\n",
       "    }\n",
       "\n",
       "    .dataframe tbody tr th {\n",
       "        vertical-align: top;\n",
       "    }\n",
       "\n",
       "    .dataframe thead th {\n",
       "        text-align: right;\n",
       "    }\n",
       "</style>\n",
       "<table border=\"1\" class=\"dataframe\">\n",
       "  <thead>\n",
       "    <tr style=\"text-align: right;\">\n",
       "      <th></th>\n",
       "      <th>Col</th>\n",
       "      <th>Coef</th>\n",
       "    </tr>\n",
       "  </thead>\n",
       "  <tbody>\n",
       "    <tr>\n",
       "      <th>44</th>\n",
       "      <td>readmitin30days</td>\n",
       "      <td>2.308552e-15</td>\n",
       "    </tr>\n",
       "    <tr>\n",
       "      <th>15</th>\n",
       "      <td>number_inpatient</td>\n",
       "      <td>7.305621e-16</td>\n",
       "    </tr>\n",
       "    <tr>\n",
       "      <th>14</th>\n",
       "      <td>number_emergency</td>\n",
       "      <td>3.659717e-16</td>\n",
       "    </tr>\n",
       "    <tr>\n",
       "      <th>13</th>\n",
       "      <td>number_outpatient</td>\n",
       "      <td>8.142406e-17</td>\n",
       "    </tr>\n",
       "    <tr>\n",
       "      <th>35</th>\n",
       "      <td>citoglipton</td>\n",
       "      <td>0.000000e+00</td>\n",
       "    </tr>\n",
       "    <tr>\n",
       "      <th>39</th>\n",
       "      <td>glimepiride-pioglitazone</td>\n",
       "      <td>0.000000e+00</td>\n",
       "    </tr>\n",
       "    <tr>\n",
       "      <th>34</th>\n",
       "      <td>examide</td>\n",
       "      <td>0.000000e+00</td>\n",
       "    </tr>\n",
       "    <tr>\n",
       "      <th>41</th>\n",
       "      <td>metformin-pioglitazone</td>\n",
       "      <td>-7.186130e-21</td>\n",
       "    </tr>\n",
       "    <tr>\n",
       "      <th>40</th>\n",
       "      <td>metformin-rosiglitazone</td>\n",
       "      <td>-1.863864e-20</td>\n",
       "    </tr>\n",
       "    <tr>\n",
       "      <th>24</th>\n",
       "      <td>acetohexamide</td>\n",
       "      <td>-8.938064e-20</td>\n",
       "    </tr>\n",
       "    <tr>\n",
       "      <th>38</th>\n",
       "      <td>glipizide-metformin</td>\n",
       "      <td>-2.903384e-19</td>\n",
       "    </tr>\n",
       "    <tr>\n",
       "      <th>32</th>\n",
       "      <td>troglitazone</td>\n",
       "      <td>-4.000506e-19</td>\n",
       "    </tr>\n",
       "    <tr>\n",
       "      <th>27</th>\n",
       "      <td>tolbutamide</td>\n",
       "      <td>-1.307190e-18</td>\n",
       "    </tr>\n",
       "    <tr>\n",
       "      <th>33</th>\n",
       "      <td>tolazamide</td>\n",
       "      <td>-2.118752e-18</td>\n",
       "    </tr>\n",
       "    <tr>\n",
       "      <th>49</th>\n",
       "      <td>self_pay</td>\n",
       "      <td>-7.082419e-18</td>\n",
       "    </tr>\n",
       "    <tr>\n",
       "      <th>50</th>\n",
       "      <td>medicaid/medicare</td>\n",
       "      <td>-1.707482e-17</td>\n",
       "    </tr>\n",
       "    <tr>\n",
       "      <th>51</th>\n",
       "      <td>coverByInsurance</td>\n",
       "      <td>-1.005637e-16</td>\n",
       "    </tr>\n",
       "    <tr>\n",
       "      <th>45</th>\n",
       "      <td>diabetic</td>\n",
       "      <td>-1.440718e-16</td>\n",
       "    </tr>\n",
       "    <tr>\n",
       "      <th>3</th>\n",
       "      <td>gender</td>\n",
       "      <td>-8.296118e-16</td>\n",
       "    </tr>\n",
       "    <tr>\n",
       "      <th>43</th>\n",
       "      <td>diabetesMed</td>\n",
       "      <td>-1.200469e-15</td>\n",
       "    </tr>\n",
       "    <tr>\n",
       "      <th>42</th>\n",
       "      <td>change</td>\n",
       "      <td>-1.208256e-15</td>\n",
       "    </tr>\n",
       "    <tr>\n",
       "      <th>37</th>\n",
       "      <td>glyburide-metformin</td>\n",
       "      <td>-1.775455e-15</td>\n",
       "    </tr>\n",
       "    <tr>\n",
       "      <th>20</th>\n",
       "      <td>repaglinide</td>\n",
       "      <td>-1.775569e-15</td>\n",
       "    </tr>\n",
       "    <tr>\n",
       "      <th>31</th>\n",
       "      <td>miglitol</td>\n",
       "      <td>-1.775610e-15</td>\n",
       "    </tr>\n",
       "    <tr>\n",
       "      <th>21</th>\n",
       "      <td>nateglinide</td>\n",
       "      <td>-1.779442e-15</td>\n",
       "    </tr>\n",
       "    <tr>\n",
       "      <th>22</th>\n",
       "      <td>chlorpropamide</td>\n",
       "      <td>-1.779509e-15</td>\n",
       "    </tr>\n",
       "    <tr>\n",
       "      <th>30</th>\n",
       "      <td>acarbose</td>\n",
       "      <td>-1.781019e-15</td>\n",
       "    </tr>\n",
       "    <tr>\n",
       "      <th>23</th>\n",
       "      <td>glimepiride</td>\n",
       "      <td>-1.852230e-15</td>\n",
       "    </tr>\n",
       "    <tr>\n",
       "      <th>28</th>\n",
       "      <td>pioglitazone</td>\n",
       "      <td>-1.864745e-15</td>\n",
       "    </tr>\n",
       "    <tr>\n",
       "      <th>29</th>\n",
       "      <td>rosiglitazone</td>\n",
       "      <td>-1.914230e-15</td>\n",
       "    </tr>\n",
       "    <tr>\n",
       "      <th>25</th>\n",
       "      <td>glipizide</td>\n",
       "      <td>-2.002099e-15</td>\n",
       "    </tr>\n",
       "    <tr>\n",
       "      <th>26</th>\n",
       "      <td>glyburide</td>\n",
       "      <td>-2.043019e-15</td>\n",
       "    </tr>\n",
       "    <tr>\n",
       "      <th>19</th>\n",
       "      <td>metformin</td>\n",
       "      <td>-2.161515e-15</td>\n",
       "    </tr>\n",
       "    <tr>\n",
       "      <th>36</th>\n",
       "      <td>insulin</td>\n",
       "      <td>-2.341293e-15</td>\n",
       "    </tr>\n",
       "    <tr>\n",
       "      <th>5</th>\n",
       "      <td>admission_type_id</td>\n",
       "      <td>-2.525593e-15</td>\n",
       "    </tr>\n",
       "    <tr>\n",
       "      <th>11</th>\n",
       "      <td>num_procedures</td>\n",
       "      <td>-2.697128e-15</td>\n",
       "    </tr>\n",
       "    <tr>\n",
       "      <th>2</th>\n",
       "      <td>race</td>\n",
       "      <td>-2.794299e-15</td>\n",
       "    </tr>\n",
       "    <tr>\n",
       "      <th>18</th>\n",
       "      <td>A1Cresult</td>\n",
       "      <td>-3.263474e-15</td>\n",
       "    </tr>\n",
       "    <tr>\n",
       "      <th>17</th>\n",
       "      <td>max_glu_serum</td>\n",
       "      <td>-3.514937e-15</td>\n",
       "    </tr>\n",
       "    <tr>\n",
       "      <th>6</th>\n",
       "      <td>discharge_disposition_id</td>\n",
       "      <td>-5.813772e-15</td>\n",
       "    </tr>\n",
       "    <tr>\n",
       "      <th>8</th>\n",
       "      <td>time_in_hospital</td>\n",
       "      <td>-7.317566e-15</td>\n",
       "    </tr>\n",
       "    <tr>\n",
       "      <th>7</th>\n",
       "      <td>admission_source_id</td>\n",
       "      <td>-8.978898e-15</td>\n",
       "    </tr>\n",
       "    <tr>\n",
       "      <th>4</th>\n",
       "      <td>age</td>\n",
       "      <td>-1.010553e-14</td>\n",
       "    </tr>\n",
       "    <tr>\n",
       "      <th>16</th>\n",
       "      <td>number_diagnoses</td>\n",
       "      <td>-1.069109e-14</td>\n",
       "    </tr>\n",
       "    <tr>\n",
       "      <th>47</th>\n",
       "      <td>s_diag</td>\n",
       "      <td>-1.426338e-14</td>\n",
       "    </tr>\n",
       "    <tr>\n",
       "      <th>48</th>\n",
       "      <td>t_diag</td>\n",
       "      <td>-1.430987e-14</td>\n",
       "    </tr>\n",
       "    <tr>\n",
       "      <th>46</th>\n",
       "      <td>f_diag</td>\n",
       "      <td>-1.509549e-14</td>\n",
       "    </tr>\n",
       "    <tr>\n",
       "      <th>12</th>\n",
       "      <td>num_medications</td>\n",
       "      <td>-2.409291e-14</td>\n",
       "    </tr>\n",
       "    <tr>\n",
       "      <th>9</th>\n",
       "      <td>medical_specialty</td>\n",
       "      <td>-4.062138e-14</td>\n",
       "    </tr>\n",
       "    <tr>\n",
       "      <th>10</th>\n",
       "      <td>num_lab_procedures</td>\n",
       "      <td>-7.479911e-14</td>\n",
       "    </tr>\n",
       "    <tr>\n",
       "      <th>0</th>\n",
       "      <td>encounter_id</td>\n",
       "      <td>-8.279291e-09</td>\n",
       "    </tr>\n",
       "    <tr>\n",
       "      <th>1</th>\n",
       "      <td>patient_nbr</td>\n",
       "      <td>-8.631571e-09</td>\n",
       "    </tr>\n",
       "  </tbody>\n",
       "</table>\n",
       "</div>"
      ],
      "text/plain": [
       "                         Col          Coef\n",
       "44           readmitin30days  2.308552e-15\n",
       "15          number_inpatient  7.305621e-16\n",
       "14          number_emergency  3.659717e-16\n",
       "13         number_outpatient  8.142406e-17\n",
       "35               citoglipton  0.000000e+00\n",
       "39  glimepiride-pioglitazone  0.000000e+00\n",
       "34                   examide  0.000000e+00\n",
       "41    metformin-pioglitazone -7.186130e-21\n",
       "40   metformin-rosiglitazone -1.863864e-20\n",
       "24             acetohexamide -8.938064e-20\n",
       "38       glipizide-metformin -2.903384e-19\n",
       "32              troglitazone -4.000506e-19\n",
       "27               tolbutamide -1.307190e-18\n",
       "33                tolazamide -2.118752e-18\n",
       "49                  self_pay -7.082419e-18\n",
       "50         medicaid/medicare -1.707482e-17\n",
       "51          coverByInsurance -1.005637e-16\n",
       "45                  diabetic -1.440718e-16\n",
       "3                     gender -8.296118e-16\n",
       "43               diabetesMed -1.200469e-15\n",
       "42                    change -1.208256e-15\n",
       "37       glyburide-metformin -1.775455e-15\n",
       "20               repaglinide -1.775569e-15\n",
       "31                  miglitol -1.775610e-15\n",
       "21               nateglinide -1.779442e-15\n",
       "22            chlorpropamide -1.779509e-15\n",
       "30                  acarbose -1.781019e-15\n",
       "23               glimepiride -1.852230e-15\n",
       "28              pioglitazone -1.864745e-15\n",
       "29             rosiglitazone -1.914230e-15\n",
       "25                 glipizide -2.002099e-15\n",
       "26                 glyburide -2.043019e-15\n",
       "19                 metformin -2.161515e-15\n",
       "36                   insulin -2.341293e-15\n",
       "5          admission_type_id -2.525593e-15\n",
       "11            num_procedures -2.697128e-15\n",
       "2                       race -2.794299e-15\n",
       "18                 A1Cresult -3.263474e-15\n",
       "17             max_glu_serum -3.514937e-15\n",
       "6   discharge_disposition_id -5.813772e-15\n",
       "8           time_in_hospital -7.317566e-15\n",
       "7        admission_source_id -8.978898e-15\n",
       "4                        age -1.010553e-14\n",
       "16          number_diagnoses -1.069109e-14\n",
       "47                    s_diag -1.426338e-14\n",
       "48                    t_diag -1.430987e-14\n",
       "46                    f_diag -1.509549e-14\n",
       "12           num_medications -2.409291e-14\n",
       "9          medical_specialty -4.062138e-14\n",
       "10        num_lab_procedures -7.479911e-14\n",
       "0               encounter_id -8.279291e-09\n",
       "1                patient_nbr -8.631571e-09"
      ]
     },
     "execution_count": 84,
     "metadata": {},
     "output_type": "execute_result"
    }
   ],
   "source": [
    "decision_logit_df = pd.concat([pd.DataFrame(X_train.columns), pd.DataFrame(decision_logit.coef_).T], axis=1)\n",
    "decision_logit_df.columns = [\"Col\", \"Coef\"]\n",
    "decision_logit_df = decision_logit_df.sort_values(by=\"Coef\", ascending = False)\n",
    "decision_logit_df"
   ]
  },
  {
   "cell_type": "code",
   "execution_count": 47,
   "metadata": {},
   "outputs": [
    {
     "data": {
      "text/plain": [
       "array([0.88837575, 0.88837575, 0.8884194 , 0.8884194 , 0.88841392])"
      ]
     },
     "execution_count": 47,
     "metadata": {},
     "output_type": "execute_result"
    }
   ],
   "source": [
    "from sklearn.model_selection import cross_val_score\n",
    "scores = cross_val_score(decision_logit, new_data, new_data.readmitin30days, cv=5)\n",
    "scores"
   ]
  },
  {
   "cell_type": "code",
   "execution_count": null,
   "metadata": {},
   "outputs": [],
   "source": []
  },
  {
   "cell_type": "code",
   "execution_count": 35,
   "metadata": {},
   "outputs": [
    {
     "name": "stdout",
     "output_type": "stream",
     "text": [
      "3\n",
      "[ True  True False False False False False False False False  True False\n",
      " False False False False False False False False False False False False\n",
      " False False False False False False False False False False False False\n",
      " False False False False False False False False False False False False\n",
      " False False False False]\n",
      "[ 1  1 14 33  8 16 11  9 10  2  1 15  3 38 35 34  7 12 13 19 30 27 26 24\n",
      " 45 21 20 42 23 22 25 28 43 41 49 50 17 29 44 46 47 48 31 32 18 36  4  6\n",
      "  5 40 39 37]\n"
     ]
    }
   ],
   "source": [
    "# create the RFE model and select 3 attributes\n",
    "\n",
    "from sklearn.feature_selection import RFE\n",
    "from sklearn.linear_model import LogisticRegression\n",
    "model = LogisticRegression()\n",
    "rfe = RFE(model, 3)\n",
    "rfe = rfe.fit(new_data, y)\n",
    "print(rfe.n_features_)\n",
    "print(rfe.support_)\n",
    "print(rfe.ranking_)"
   ]
  },
  {
   "cell_type": "code",
   "execution_count": 72,
   "metadata": {},
   "outputs": [
    {
     "data": {
      "text/plain": [
       "(101766, 52)"
      ]
     },
     "execution_count": 72,
     "metadata": {},
     "output_type": "execute_result"
    }
   ],
   "source": [
    "new_data.shape"
   ]
  },
  {
   "cell_type": "code",
   "execution_count": null,
   "metadata": {},
   "outputs": [],
   "source": []
  },
  {
   "cell_type": "code",
   "execution_count": 15,
   "metadata": {},
   "outputs": [
    {
     "data": {
      "image/png": "[encoded data removed]",
      "text/plain": [
       "<Figure size 432x288 with 1 Axes>"
      ]
     },
     "metadata": {
      "needs_background": "light"
     },
     "output_type": "display_data"
    }
   ],
   "source": [
    "from sklearn.linear_model import LogisticRegressionCV\n",
    "\n",
    "clf = LogisticRegressionCV(max_iter=3000)\n",
    "clf.fit(X_train, y_train)\n",
    "coefs = np.abs(clf.coef_[0])\n",
    "indices = np.argsort(coefs)[::-1]\n",
    "\n",
    "plt.figure()\n",
    "plt.title(\"Feature importances (Logistic Regression)\")\n",
    "plt.bar(range(10), coefs[indices[:10]],\n",
    "       color=\"r\", align=\"center\")\n",
    "plt.xticks(range(10), new_data.columns[indices[:10]], rotation=45, ha='right')\n",
    "plt.subplots_adjust(bottom=0.3)\n",
    "plt.ion(); plt.show()"
   ]
  },
  {
   "cell_type": "code",
   "execution_count": null,
   "metadata": {},
   "outputs": [],
   "source": []
  }
 ],
 "metadata": {
  "kernelspec": {
   "display_name": "Python 3",
   "language": "python",
   "name": "python3"
  },
  "language_info": {
   "codemirror_mode": {
    "name": "ipython",
    "version": 3
   },
   "file_extension": ".py",
   "mimetype": "text/x-python",
   "name": "python",
   "nbconvert_exporter": "python",
   "pygments_lexer": "ipython3",
   "version": "3.7.2"
  }
 },
 "nbformat": 4,
 "nbformat_minor": 2
}
