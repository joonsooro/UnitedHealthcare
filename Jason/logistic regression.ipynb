{
 "cells": [
  {
   "cell_type": "code",
   "execution_count": 55,
   "metadata": {},
   "outputs": [],
   "source": [
    "# Import modules\n",
    "import pandas as pd\n",
    "import numpy as np\n",
    "from scipy import stats\n",
    "import matplotlib.pyplot as plt\n",
    "import matplotlib as mpl\n",
    "from sklearn import preprocessing\n",
    "from sklearn import linear_model\n",
    "from sklearn.metrics import mean_squared_error\n",
    "from sklearn.metrics import r2_score\n",
    "from sklearn.model_selection import train_test_split"
   ]
  },
  {
   "cell_type": "code",
   "execution_count": 28,
   "metadata": {},
   "outputs": [],
   "source": [
    "new_data = pd.read_csv('data/new_data.csv')\n",
    "new_data = new_data.drop('Unnamed: 0', axis = 1)"
   ]
  },
  {
   "cell_type": "code",
   "execution_count": 31,
   "metadata": {},
   "outputs": [],
   "source": [
    "#enlabel the columns\n",
    "new_data = new_data\n",
    "new_data['admission_type_id'] = pd.Categorical(new_data.admission_type_id)\n",
    "new_data['discharge_disposition_id'] = pd.Categorical(new_data.discharge_disposition_id)\n",
    "new_data['admission_source_id'] = pd.Categorical(new_data.admission_source_id)\n",
    "\n",
    "cat_cols = list(new_data.select_dtypes(include=[object]).columns)\n",
    "for col in cat_cols:\n",
    "   new_data[col] = pd.Categorical(new_data[col])\n",
    "\n",
    "le = preprocessing.LabelEncoder()\n",
    "\n",
    "col_to_encode = new_data[list(new_data.select_dtypes(include=['category']).columns)]\n",
    "for col in col_to_encode:\n",
    "   new_data[col] = le.fit_transform(new_data[col])\n"
   ]
  },
  {
   "cell_type": "code",
   "execution_count": 57,
   "metadata": {},
   "outputs": [
    {
     "name": "stdout",
     "output_type": "stream",
     "text": [
      "(81412, 52) (81412,)\n",
      "(20354, 52) (20354,)\n"
     ]
    }
   ],
   "source": [
    "#creating a training and testing datasets\n",
    "y = new_data.readmitin30days\n",
    "X_train, X_test, y_train, y_test = train_test_split(new_data, y, test_size=0.2)\n",
    "print(X_train.shape, y_train.shape)\n",
    "print(X_test.shape, y_test.shape)"
   ]
  },
  {
   "cell_type": "code",
   "execution_count": 58,
   "metadata": {},
   "outputs": [
    {
     "data": {
      "text/plain": [
       "0.8887141944676461"
      ]
     },
     "execution_count": 58,
     "metadata": {},
     "output_type": "execute_result"
    }
   ],
   "source": [
    "decision_logit = linear_model.LogisticRegression(C=1e4)\n",
    "## Fit the model with your data\n",
    "decision_logit.fit(X_train, y_train)\n",
    "\n",
    "## The score (accuracy for classification problems):\n",
    "decision_logit.score(X_train, y_train)"
   ]
  },
  {
   "cell_type": "code",
   "execution_count": 65,
   "metadata": {},
   "outputs": [
    {
     "data": {
      "text/plain": [
       "array([0, 0, 0, ..., 0, 0, 0])"
      ]
     },
     "execution_count": 65,
     "metadata": {},
     "output_type": "execute_result"
    }
   ],
   "source": [
    "decision_logit.predict(X_test)"
   ]
  },
  {
   "cell_type": "code",
   "execution_count": 60,
   "metadata": {},
   "outputs": [
    {
     "data": {
      "text/plain": [
       "array([0.88837575, 0.88837575, 0.8884194 , 0.8884194 , 0.88841392])"
      ]
     },
     "execution_count": 60,
     "metadata": {},
     "output_type": "execute_result"
    }
   ],
   "source": [
    "from sklearn.model_selection import cross_val_score\n",
    "scores = cross_val_score(decision_logit, new_data, new_data.readmitin30days, cv=5)\n",
    "scores"
   ]
  },
  {
   "cell_type": "code",
   "execution_count": null,
   "metadata": {},
   "outputs": [],
   "source": []
  }
 ],
 "metadata": {
  "kernelspec": {
   "display_name": "Python 3",
   "language": "python",
   "name": "python3"
  },
  "language_info": {
   "codemirror_mode": {
    "name": "ipython",
    "version": 3
   },
   "file_extension": ".py",
   "mimetype": "text/x-python",
   "name": "python",
   "nbconvert_exporter": "python",
   "pygments_lexer": "ipython3",
   "version": "3.7.2"
  }
 },
 "nbformat": 4,
 "nbformat_minor": 2
}
