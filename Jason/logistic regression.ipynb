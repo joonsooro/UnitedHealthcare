{
 "cells": [
  {
   "cell_type": "code",
   "execution_count": 63,
   "metadata": {},
   "outputs": [],
   "source": [
    "# Import modules\n",
    "import pandas as pd\n",
    "import numpy as np\n",
    "from scipy import stats\n",
    "import matplotlib.pyplot as plt\n",
    "from sklearn import preprocessing\n",
    "from sklearn import linear_model\n",
    "from sklearn.metrics import r2_score\n",
    "from sklearn.linear_model import LogisticRegression\n",
    "from sklearn.model_selection import train_test_split"
   ]
  },
  {
   "cell_type": "code",
   "execution_count": 64,
   "metadata": {},
   "outputs": [],
   "source": [
    "new_data = pd.read_csv('data/new_data.csv')"
   ]
  },
  {
   "cell_type": "code",
   "execution_count": null,
   "metadata": {},
   "outputs": [],
   "source": []
  },
  {
   "cell_type": "code",
   "execution_count": 66,
   "metadata": {},
   "outputs": [],
   "source": [
    "#enlabel the columns\n",
    "new_data = new_data\n",
    "new_data['admission_type_id'] = pd.Categorical(new_data.admission_type_id)\n",
    "new_data['discharge_disposition_id'] = pd.Categorical(new_data.discharge_disposition_id)\n",
    "new_data['admission_source_id'] = pd.Categorical(new_data.admission_source_id)\n",
    "\n",
    "cat_cols = list(new_data.select_dtypes(include=[object]).columns)\n",
    "for col in cat_cols:\n",
    "   new_data[col] = pd.Categorical(new_data[col])\n",
    "\n",
    "le = preprocessing.LabelEncoder()\n",
    "\n",
    "col_to_encode = new_data[list(new_data.select_dtypes(include=['category']).columns)]\n",
    "for col in col_to_encode:\n",
    "   new_data[col] = le.fit_transform(new_data[col])\n"
   ]
  },
  {
   "cell_type": "code",
   "execution_count": null,
   "metadata": {},
   "outputs": [],
   "source": []
  },
  {
   "cell_type": "code",
   "execution_count": 35,
   "metadata": {},
   "outputs": [],
   "source": [
    "##### Up-sample logistic regression  #####"
   ]
  },
  {
   "cell_type": "code",
   "execution_count": 36,
   "metadata": {},
   "outputs": [
    {
     "data": {
      "text/plain": [
       "1    90409\n",
       "0    90409\n",
       "Name: readmitin30days, dtype: int64"
      ]
     },
     "execution_count": 36,
     "metadata": {},
     "output_type": "execute_result"
    }
   ],
   "source": [
    "#Up-sample Minority Class\n",
    "from sklearn.utils import resample\n",
    "majority = new_data[new_data.readmitin30days==0]\n",
    "minority = new_data[new_data.readmitin30days==1]\n",
    "minority_upsampled = resample(minority,replace=True,n_samples=90409,random_state=123)\n",
    "df_upsampled = pd.concat([majority, minority_upsampled])\n",
    "df_upsampled.readmitin30days.value_counts()"
   ]
  },
  {
   "cell_type": "code",
   "execution_count": 37,
   "metadata": {},
   "outputs": [],
   "source": [
    "#create another df w/o id's and target\n",
    "droplis = ['encounter_id','patient_nbr','readmitin30days']\n",
    "new_data_train = df_upsampled.drop(droplis, axis=1)"
   ]
  },
  {
   "cell_type": "code",
   "execution_count": 38,
   "metadata": {},
   "outputs": [
    {
     "name": "stdout",
     "output_type": "stream",
     "text": [
      "(144654, 48) (144654,)\n",
      "(36164, 48) (36164,)\n"
     ]
    }
   ],
   "source": [
    "#creating a training and testing datasets\n",
    "y = df_upsampled.readmitin30days\n",
    "X_train, X_test, y_train, y_test = train_test_split(new_data_train, y, test_size=0.2)\n",
    "print(X_train.shape, y_train.shape)\n",
    "print(X_test.shape, y_test.shape)"
   ]
  },
  {
   "cell_type": "code",
   "execution_count": 39,
   "metadata": {},
   "outputs": [
    {
     "data": {
      "text/plain": [
       "0.6014420617473419"
      ]
     },
     "execution_count": 39,
     "metadata": {},
     "output_type": "execute_result"
    }
   ],
   "source": [
    "## Fit the model with your data\n",
    "decision_logit = linear_model.LogisticRegression(C=1e4)\n",
    "decision_logit.fit(X_train, y_train)\n",
    "\n",
    "## The score (accuracy for classification problems):\n",
    "decision_logit.score(X_train, y_train)"
   ]
  },
  {
   "cell_type": "code",
   "execution_count": 40,
   "metadata": {},
   "outputs": [
    {
     "data": {
      "text/plain": [
       "0.6449220929806081"
      ]
     },
     "execution_count": 40,
     "metadata": {},
     "output_type": "execute_result"
    }
   ],
   "source": [
    "#up-sample AUC for training \n",
    "from sklearn.metrics import roc_auc_score\n",
    "upsample_AUC_train =roc_auc_score(y_train, decision_logit.predict_proba(X_train)[:,1])\n",
    "upsample_AUC_train"
   ]
  },
  {
   "cell_type": "code",
   "execution_count": 41,
   "metadata": {},
   "outputs": [
    {
     "data": {
      "text/plain": [
       "0.6470790135849378"
      ]
     },
     "execution_count": 41,
     "metadata": {},
     "output_type": "execute_result"
    }
   ],
   "source": [
    "#up-sample AUC for testing\n",
    "from sklearn.metrics import roc_auc_score\n",
    "upsample_AUC_test=roc_auc_score(y_test, decision_logit.predict_proba(X_test)[:,1])\n",
    "upsample_AUC_test"
   ]
  },
  {
   "cell_type": "code",
   "execution_count": null,
   "metadata": {},
   "outputs": [],
   "source": []
  },
  {
   "cell_type": "code",
   "execution_count": 42,
   "metadata": {},
   "outputs": [],
   "source": [
    "#########without upsampled logistic regression#########"
   ]
  },
  {
   "cell_type": "code",
   "execution_count": 43,
   "metadata": {},
   "outputs": [],
   "source": [
    "droplis = ['encounter_id','patient_nbr','readmitin30days']\n",
    "new_data_train2 = new_data.drop(droplis, axis=1)"
   ]
  },
  {
   "cell_type": "code",
   "execution_count": 44,
   "metadata": {},
   "outputs": [
    {
     "name": "stdout",
     "output_type": "stream",
     "text": [
      "(81412, 48) (81412,)\n",
      "(20354, 48) (20354,)\n"
     ]
    }
   ],
   "source": [
    "#creating a training and testing datasets\n",
    "y = new_data.readmitin30days\n",
    "X2_train, X2_test, y2_train, y2_test = train_test_split(new_data_train2, y, test_size=0.2)\n",
    "print(X2_train.shape, y2_train.shape)\n",
    "print(X2_test.shape, y2_test.shape)"
   ]
  },
  {
   "cell_type": "code",
   "execution_count": 45,
   "metadata": {},
   "outputs": [
    {
     "data": {
      "text/plain": [
       "0.8885053800422542"
      ]
     },
     "execution_count": 45,
     "metadata": {},
     "output_type": "execute_result"
    }
   ],
   "source": [
    "## Fit the model with your data\n",
    "decision_logit = linear_model.LogisticRegression(C=1e4)\n",
    "decision_logit.fit(X2_train, y2_train)\n",
    "\n",
    "## The score (accuracy for classification problems):\n",
    "decision_logit.score(X2_train, y2_train)"
   ]
  },
  {
   "cell_type": "code",
   "execution_count": 46,
   "metadata": {},
   "outputs": [
    {
     "data": {
      "text/plain": [
       "0.6423030965111737"
      ]
     },
     "execution_count": 46,
     "metadata": {},
     "output_type": "execute_result"
    }
   ],
   "source": [
    "#AUC for training \n",
    "from sklearn.metrics import roc_auc_score\n",
    "AUC_train=roc_auc_score(y2_train, decision_logit.predict_proba(X2_train)[:,1])\n",
    "AUC_train"
   ]
  },
  {
   "cell_type": "code",
   "execution_count": 47,
   "metadata": {},
   "outputs": [
    {
     "data": {
      "text/plain": [
       "0.6414869439170211"
      ]
     },
     "execution_count": 47,
     "metadata": {},
     "output_type": "execute_result"
    }
   ],
   "source": [
    "#AUC for testing\n",
    "from sklearn.metrics import roc_auc_score\n",
    "AUC_test=roc_auc_score(y2_test, decision_logit.predict_proba(X2_test)[:,1])\n",
    "AUC_test"
   ]
  },
  {
   "cell_type": "code",
   "execution_count": null,
   "metadata": {},
   "outputs": [],
   "source": []
  },
  {
   "cell_type": "code",
   "execution_count": null,
   "metadata": {},
   "outputs": [],
   "source": []
  },
  {
   "cell_type": "code",
   "execution_count": 51,
   "metadata": {},
   "outputs": [],
   "source": [
    "##########   normalize  rfe   #############"
   ]
  },
  {
   "cell_type": "code",
   "execution_count": 52,
   "metadata": {},
   "outputs": [],
   "source": [
    "#droplis = ['encounter_id','patient_nbr','readmitin30days']\n",
    "new_data_train3 = new_data.drop(droplis, axis=1)\n",
    "#y = df_upsampled.readmitin30days"
   ]
  },
  {
   "cell_type": "code",
   "execution_count": 53,
   "metadata": {},
   "outputs": [
    {
     "data": {
      "text/plain": [
       "1    51064\n",
       "0    50702\n",
       "Name: random, dtype: int64"
      ]
     },
     "execution_count": 53,
     "metadata": {},
     "output_type": "execute_result"
    }
   ],
   "source": [
    "#create a random column to test\n",
    "new_data_train3['random'] = np.random.randint(0,2, new_data_train3.shape[0])\n",
    "new_data_train3['random'].value_counts()"
   ]
  },
  {
   "cell_type": "code",
   "execution_count": 54,
   "metadata": {},
   "outputs": [],
   "source": [
    "#normalize new_data_train3\n",
    "from sklearn.preprocessing import Normalizer\n",
    "transformer = Normalizer().fit(new_data_train3)\n",
    "normal = transformer.transform(new_data_train3)\n",
    "normal = pd.DataFrame(normal, columns= new_data_train3.columns)\n",
    "target = new_data.readmitin30days"
   ]
  },
  {
   "cell_type": "code",
   "execution_count": 55,
   "metadata": {},
   "outputs": [
    {
     "name": "stdout",
     "output_type": "stream",
     "text": [
      "1\n",
      "[False False False False False False False False False False False False\n",
      " False  True False False False False False False False False False False\n",
      " False False False False False False False False False False False False\n",
      " False False False False False False False False False False False False\n",
      " False]\n",
      "[26 31 27 19 18 37 20 34 33 22 30 36  6  1 15  5 25  2 24 14 12  9 45 23\n",
      " 17 40  7 10 11 13 42 41 49 48 21 16 47 44 43 46  3  8 28 32 35 39 38  4\n",
      " 29]\n"
     ]
    }
   ],
   "source": [
    "#normalize rfe\n",
    "from sklearn.feature_selection import RFE\n",
    "from sklearn.linear_model import LogisticRegression\n",
    "model1 = LogisticRegression()\n",
    "rfe = RFE(model1, 1)\n",
    "rfe = rfe.fit(normal, y)\n",
    "print(rfe.n_features_)\n",
    "print(rfe.support_)\n",
    "print(rfe.ranking_)"
   ]
  },
  {
   "cell_type": "code",
   "execution_count": 56,
   "metadata": {},
   "outputs": [],
   "source": [
    "df = pd.concat([pd.DataFrame(X_train.columns), pd.DataFrame(rfe.ranking_)], axis=1)\n",
    "df.columns = [\"Col\", \"rfe\"]\n",
    "df = df.sort_values(by=\"rfe\", ascending = True)"
   ]
  },
  {
   "cell_type": "code",
   "execution_count": null,
   "metadata": {},
   "outputs": [],
   "source": []
  },
  {
   "cell_type": "code",
   "execution_count": null,
   "metadata": {},
   "outputs": [],
   "source": []
  },
  {
   "cell_type": "code",
   "execution_count": 57,
   "metadata": {},
   "outputs": [],
   "source": [
    "######## rfe w/o normalize ##########"
   ]
  },
  {
   "cell_type": "code",
   "execution_count": 58,
   "metadata": {},
   "outputs": [],
   "source": [
    "#droplis = ['encounter_id','patient_nbr','readmitin30days']\n",
    "new_data_train4 = new_data.drop(droplis, axis=1)\n",
    "#y = df_upsampled.readmitin30days"
   ]
  },
  {
   "cell_type": "code",
   "execution_count": 59,
   "metadata": {},
   "outputs": [
    {
     "name": "stdout",
     "output_type": "stream",
     "text": [
      "1\n",
      "[False False False False False False False False False False False False\n",
      " False False False False False False False False False False False False\n",
      " False False False False False  True False False False False False False\n",
      " False False False False False False False False False False False False]\n",
      "[43 34 21 31 29 39 32 45 46 33 41 44 25  4 20 30 28 10  9 35  2 15 23 36\n",
      " 26  3 17 18  6  1 13  5 47 48 27 37 11 22 14 24 16  8 42 38 40 12 19  7]\n"
     ]
    }
   ],
   "source": [
    "# create the RFE model and select 1 attribute\n",
    "from sklearn.feature_selection import RFE\n",
    "from sklearn.linear_model import LogisticRegression\n",
    "model = LogisticRegression()\n",
    "rfe1 = RFE(model, 1)\n",
    "rfe1 = rfe1.fit(new_data_train4, y)\n",
    "print(rfe1.n_features_)\n",
    "print(rfe1.support_)\n",
    "print(rfe1.ranking_)"
   ]
  },
  {
   "cell_type": "code",
   "execution_count": 60,
   "metadata": {},
   "outputs": [],
   "source": [
    "df1 = pd.concat([pd.DataFrame(X_train.columns), pd.DataFrame(rfe1.ranking_)], axis=1)\n",
    "df1.columns = [\"Col\", \"rfe1\"]\n",
    "df1 = df1.sort_values(by=\"rfe1\", ascending = True)"
   ]
  },
  {
   "cell_type": "code",
   "execution_count": null,
   "metadata": {},
   "outputs": [],
   "source": []
  },
  {
   "cell_type": "code",
   "execution_count": null,
   "metadata": {},
   "outputs": [],
   "source": []
  },
  {
   "cell_type": "code",
   "execution_count": 61,
   "metadata": {},
   "outputs": [],
   "source": [
    "###### compare two rfe ########"
   ]
  },
  {
   "cell_type": "code",
   "execution_count": 62,
   "metadata": {},
   "outputs": [
    {
     "data": {
      "text/html": [
       "<div>\n",
       "<style scoped>\n",
       "    .dataframe tbody tr th:only-of-type {\n",
       "        vertical-align: middle;\n",
       "    }\n",
       "\n",
       "    .dataframe tbody tr th {\n",
       "        vertical-align: top;\n",
       "    }\n",
       "\n",
       "    .dataframe thead th {\n",
       "        text-align: right;\n",
       "    }\n",
       "</style>\n",
       "<table border=\"1\" class=\"dataframe\">\n",
       "  <thead>\n",
       "    <tr style=\"text-align: right;\">\n",
       "      <th></th>\n",
       "      <th>Col</th>\n",
       "      <th>rfe</th>\n",
       "      <th>Col</th>\n",
       "      <th>rfe1</th>\n",
       "    </tr>\n",
       "  </thead>\n",
       "  <tbody>\n",
       "    <tr>\n",
       "      <th>13</th>\n",
       "      <td>number_inpatient</td>\n",
       "      <td>1</td>\n",
       "      <td>number_inpatient</td>\n",
       "      <td>4.0</td>\n",
       "    </tr>\n",
       "    <tr>\n",
       "      <th>17</th>\n",
       "      <td>metformin</td>\n",
       "      <td>2</td>\n",
       "      <td>metformin</td>\n",
       "      <td>10.0</td>\n",
       "    </tr>\n",
       "    <tr>\n",
       "      <th>40</th>\n",
       "      <td>change</td>\n",
       "      <td>3</td>\n",
       "      <td>change</td>\n",
       "      <td>16.0</td>\n",
       "    </tr>\n",
       "    <tr>\n",
       "      <th>47</th>\n",
       "      <td>coverByInsurance</td>\n",
       "      <td>4</td>\n",
       "      <td>coverByInsurance</td>\n",
       "      <td>7.0</td>\n",
       "    </tr>\n",
       "    <tr>\n",
       "      <th>15</th>\n",
       "      <td>max_glu_serum</td>\n",
       "      <td>5</td>\n",
       "      <td>max_glu_serum</td>\n",
       "      <td>30.0</td>\n",
       "    </tr>\n",
       "    <tr>\n",
       "      <th>12</th>\n",
       "      <td>number_emergency</td>\n",
       "      <td>6</td>\n",
       "      <td>number_emergency</td>\n",
       "      <td>25.0</td>\n",
       "    </tr>\n",
       "    <tr>\n",
       "      <th>26</th>\n",
       "      <td>pioglitazone</td>\n",
       "      <td>7</td>\n",
       "      <td>pioglitazone</td>\n",
       "      <td>17.0</td>\n",
       "    </tr>\n",
       "    <tr>\n",
       "      <th>41</th>\n",
       "      <td>diabetesMed</td>\n",
       "      <td>8</td>\n",
       "      <td>diabetesMed</td>\n",
       "      <td>8.0</td>\n",
       "    </tr>\n",
       "    <tr>\n",
       "      <th>21</th>\n",
       "      <td>glimepiride</td>\n",
       "      <td>9</td>\n",
       "      <td>glimepiride</td>\n",
       "      <td>15.0</td>\n",
       "    </tr>\n",
       "    <tr>\n",
       "      <th>27</th>\n",
       "      <td>rosiglitazone</td>\n",
       "      <td>10</td>\n",
       "      <td>rosiglitazone</td>\n",
       "      <td>18.0</td>\n",
       "    </tr>\n",
       "    <tr>\n",
       "      <th>28</th>\n",
       "      <td>acarbose</td>\n",
       "      <td>11</td>\n",
       "      <td>acarbose</td>\n",
       "      <td>6.0</td>\n",
       "    </tr>\n",
       "    <tr>\n",
       "      <th>20</th>\n",
       "      <td>chlorpropamide</td>\n",
       "      <td>12</td>\n",
       "      <td>chlorpropamide</td>\n",
       "      <td>2.0</td>\n",
       "    </tr>\n",
       "    <tr>\n",
       "      <th>29</th>\n",
       "      <td>miglitol</td>\n",
       "      <td>13</td>\n",
       "      <td>miglitol</td>\n",
       "      <td>1.0</td>\n",
       "    </tr>\n",
       "    <tr>\n",
       "      <th>19</th>\n",
       "      <td>nateglinide</td>\n",
       "      <td>14</td>\n",
       "      <td>nateglinide</td>\n",
       "      <td>35.0</td>\n",
       "    </tr>\n",
       "    <tr>\n",
       "      <th>14</th>\n",
       "      <td>number_diagnoses</td>\n",
       "      <td>15</td>\n",
       "      <td>number_diagnoses</td>\n",
       "      <td>20.0</td>\n",
       "    </tr>\n",
       "    <tr>\n",
       "      <th>35</th>\n",
       "      <td>glyburide-metformin</td>\n",
       "      <td>16</td>\n",
       "      <td>glyburide-metformin</td>\n",
       "      <td>37.0</td>\n",
       "    </tr>\n",
       "    <tr>\n",
       "      <th>24</th>\n",
       "      <td>glyburide</td>\n",
       "      <td>17</td>\n",
       "      <td>glyburide</td>\n",
       "      <td>26.0</td>\n",
       "    </tr>\n",
       "    <tr>\n",
       "      <th>4</th>\n",
       "      <td>discharge_disposition_id</td>\n",
       "      <td>18</td>\n",
       "      <td>discharge_disposition_id</td>\n",
       "      <td>29.0</td>\n",
       "    </tr>\n",
       "    <tr>\n",
       "      <th>3</th>\n",
       "      <td>admission_type_id</td>\n",
       "      <td>19</td>\n",
       "      <td>admission_type_id</td>\n",
       "      <td>31.0</td>\n",
       "    </tr>\n",
       "    <tr>\n",
       "      <th>6</th>\n",
       "      <td>time_in_hospital</td>\n",
       "      <td>20</td>\n",
       "      <td>time_in_hospital</td>\n",
       "      <td>32.0</td>\n",
       "    </tr>\n",
       "    <tr>\n",
       "      <th>34</th>\n",
       "      <td>insulin</td>\n",
       "      <td>21</td>\n",
       "      <td>insulin</td>\n",
       "      <td>27.0</td>\n",
       "    </tr>\n",
       "    <tr>\n",
       "      <th>9</th>\n",
       "      <td>num_procedures</td>\n",
       "      <td>22</td>\n",
       "      <td>num_procedures</td>\n",
       "      <td>33.0</td>\n",
       "    </tr>\n",
       "    <tr>\n",
       "      <th>23</th>\n",
       "      <td>glipizide</td>\n",
       "      <td>23</td>\n",
       "      <td>glipizide</td>\n",
       "      <td>36.0</td>\n",
       "    </tr>\n",
       "    <tr>\n",
       "      <th>18</th>\n",
       "      <td>repaglinide</td>\n",
       "      <td>24</td>\n",
       "      <td>repaglinide</td>\n",
       "      <td>9.0</td>\n",
       "    </tr>\n",
       "    <tr>\n",
       "      <th>16</th>\n",
       "      <td>A1Cresult</td>\n",
       "      <td>25</td>\n",
       "      <td>A1Cresult</td>\n",
       "      <td>28.0</td>\n",
       "    </tr>\n",
       "    <tr>\n",
       "      <th>0</th>\n",
       "      <td>race</td>\n",
       "      <td>26</td>\n",
       "      <td>race</td>\n",
       "      <td>43.0</td>\n",
       "    </tr>\n",
       "    <tr>\n",
       "      <th>2</th>\n",
       "      <td>age</td>\n",
       "      <td>27</td>\n",
       "      <td>age</td>\n",
       "      <td>21.0</td>\n",
       "    </tr>\n",
       "    <tr>\n",
       "      <th>42</th>\n",
       "      <td>f_diag</td>\n",
       "      <td>28</td>\n",
       "      <td>f_diag</td>\n",
       "      <td>42.0</td>\n",
       "    </tr>\n",
       "    <tr>\n",
       "      <th>48</th>\n",
       "      <td>NaN</td>\n",
       "      <td>29</td>\n",
       "      <td>NaN</td>\n",
       "      <td>NaN</td>\n",
       "    </tr>\n",
       "    <tr>\n",
       "      <th>10</th>\n",
       "      <td>num_medications</td>\n",
       "      <td>30</td>\n",
       "      <td>num_medications</td>\n",
       "      <td>41.0</td>\n",
       "    </tr>\n",
       "    <tr>\n",
       "      <th>1</th>\n",
       "      <td>gender</td>\n",
       "      <td>31</td>\n",
       "      <td>gender</td>\n",
       "      <td>34.0</td>\n",
       "    </tr>\n",
       "    <tr>\n",
       "      <th>43</th>\n",
       "      <td>s_diag</td>\n",
       "      <td>32</td>\n",
       "      <td>s_diag</td>\n",
       "      <td>38.0</td>\n",
       "    </tr>\n",
       "    <tr>\n",
       "      <th>8</th>\n",
       "      <td>num_lab_procedures</td>\n",
       "      <td>33</td>\n",
       "      <td>num_lab_procedures</td>\n",
       "      <td>46.0</td>\n",
       "    </tr>\n",
       "    <tr>\n",
       "      <th>7</th>\n",
       "      <td>medical_specialty</td>\n",
       "      <td>34</td>\n",
       "      <td>medical_specialty</td>\n",
       "      <td>45.0</td>\n",
       "    </tr>\n",
       "    <tr>\n",
       "      <th>44</th>\n",
       "      <td>t_diag</td>\n",
       "      <td>35</td>\n",
       "      <td>t_diag</td>\n",
       "      <td>40.0</td>\n",
       "    </tr>\n",
       "    <tr>\n",
       "      <th>11</th>\n",
       "      <td>number_outpatient</td>\n",
       "      <td>36</td>\n",
       "      <td>number_outpatient</td>\n",
       "      <td>44.0</td>\n",
       "    </tr>\n",
       "    <tr>\n",
       "      <th>5</th>\n",
       "      <td>admission_source_id</td>\n",
       "      <td>37</td>\n",
       "      <td>admission_source_id</td>\n",
       "      <td>39.0</td>\n",
       "    </tr>\n",
       "    <tr>\n",
       "      <th>46</th>\n",
       "      <td>medicaid/medicare</td>\n",
       "      <td>38</td>\n",
       "      <td>medicaid/medicare</td>\n",
       "      <td>19.0</td>\n",
       "    </tr>\n",
       "    <tr>\n",
       "      <th>45</th>\n",
       "      <td>self_pay</td>\n",
       "      <td>39</td>\n",
       "      <td>self_pay</td>\n",
       "      <td>12.0</td>\n",
       "    </tr>\n",
       "    <tr>\n",
       "      <th>25</th>\n",
       "      <td>tolbutamide</td>\n",
       "      <td>40</td>\n",
       "      <td>tolbutamide</td>\n",
       "      <td>3.0</td>\n",
       "    </tr>\n",
       "    <tr>\n",
       "      <th>31</th>\n",
       "      <td>tolazamide</td>\n",
       "      <td>41</td>\n",
       "      <td>tolazamide</td>\n",
       "      <td>5.0</td>\n",
       "    </tr>\n",
       "    <tr>\n",
       "      <th>30</th>\n",
       "      <td>troglitazone</td>\n",
       "      <td>42</td>\n",
       "      <td>troglitazone</td>\n",
       "      <td>13.0</td>\n",
       "    </tr>\n",
       "    <tr>\n",
       "      <th>38</th>\n",
       "      <td>metformin-rosiglitazone</td>\n",
       "      <td>43</td>\n",
       "      <td>metformin-rosiglitazone</td>\n",
       "      <td>14.0</td>\n",
       "    </tr>\n",
       "    <tr>\n",
       "      <th>37</th>\n",
       "      <td>glimepiride-pioglitazone</td>\n",
       "      <td>44</td>\n",
       "      <td>glimepiride-pioglitazone</td>\n",
       "      <td>22.0</td>\n",
       "    </tr>\n",
       "    <tr>\n",
       "      <th>22</th>\n",
       "      <td>acetohexamide</td>\n",
       "      <td>45</td>\n",
       "      <td>acetohexamide</td>\n",
       "      <td>23.0</td>\n",
       "    </tr>\n",
       "    <tr>\n",
       "      <th>39</th>\n",
       "      <td>metformin-pioglitazone</td>\n",
       "      <td>46</td>\n",
       "      <td>metformin-pioglitazone</td>\n",
       "      <td>24.0</td>\n",
       "    </tr>\n",
       "    <tr>\n",
       "      <th>36</th>\n",
       "      <td>glipizide-metformin</td>\n",
       "      <td>47</td>\n",
       "      <td>glipizide-metformin</td>\n",
       "      <td>11.0</td>\n",
       "    </tr>\n",
       "    <tr>\n",
       "      <th>33</th>\n",
       "      <td>citoglipton</td>\n",
       "      <td>48</td>\n",
       "      <td>citoglipton</td>\n",
       "      <td>48.0</td>\n",
       "    </tr>\n",
       "    <tr>\n",
       "      <th>32</th>\n",
       "      <td>examide</td>\n",
       "      <td>49</td>\n",
       "      <td>examide</td>\n",
       "      <td>47.0</td>\n",
       "    </tr>\n",
       "  </tbody>\n",
       "</table>\n",
       "</div>"
      ],
      "text/plain": [
       "                         Col  rfe                       Col  rfe1\n",
       "13          number_inpatient    1          number_inpatient   4.0\n",
       "17                 metformin    2                 metformin  10.0\n",
       "40                    change    3                    change  16.0\n",
       "47          coverByInsurance    4          coverByInsurance   7.0\n",
       "15             max_glu_serum    5             max_glu_serum  30.0\n",
       "12          number_emergency    6          number_emergency  25.0\n",
       "26              pioglitazone    7              pioglitazone  17.0\n",
       "41               diabetesMed    8               diabetesMed   8.0\n",
       "21               glimepiride    9               glimepiride  15.0\n",
       "27             rosiglitazone   10             rosiglitazone  18.0\n",
       "28                  acarbose   11                  acarbose   6.0\n",
       "20            chlorpropamide   12            chlorpropamide   2.0\n",
       "29                  miglitol   13                  miglitol   1.0\n",
       "19               nateglinide   14               nateglinide  35.0\n",
       "14          number_diagnoses   15          number_diagnoses  20.0\n",
       "35       glyburide-metformin   16       glyburide-metformin  37.0\n",
       "24                 glyburide   17                 glyburide  26.0\n",
       "4   discharge_disposition_id   18  discharge_disposition_id  29.0\n",
       "3          admission_type_id   19         admission_type_id  31.0\n",
       "6           time_in_hospital   20          time_in_hospital  32.0\n",
       "34                   insulin   21                   insulin  27.0\n",
       "9             num_procedures   22            num_procedures  33.0\n",
       "23                 glipizide   23                 glipizide  36.0\n",
       "18               repaglinide   24               repaglinide   9.0\n",
       "16                 A1Cresult   25                 A1Cresult  28.0\n",
       "0                       race   26                      race  43.0\n",
       "2                        age   27                       age  21.0\n",
       "42                    f_diag   28                    f_diag  42.0\n",
       "48                       NaN   29                       NaN   NaN\n",
       "10           num_medications   30           num_medications  41.0\n",
       "1                     gender   31                    gender  34.0\n",
       "43                    s_diag   32                    s_diag  38.0\n",
       "8         num_lab_procedures   33        num_lab_procedures  46.0\n",
       "7          medical_specialty   34         medical_specialty  45.0\n",
       "44                    t_diag   35                    t_diag  40.0\n",
       "11         number_outpatient   36         number_outpatient  44.0\n",
       "5        admission_source_id   37       admission_source_id  39.0\n",
       "46         medicaid/medicare   38         medicaid/medicare  19.0\n",
       "45                  self_pay   39                  self_pay  12.0\n",
       "25               tolbutamide   40               tolbutamide   3.0\n",
       "31                tolazamide   41                tolazamide   5.0\n",
       "30              troglitazone   42              troglitazone  13.0\n",
       "38   metformin-rosiglitazone   43   metformin-rosiglitazone  14.0\n",
       "37  glimepiride-pioglitazone   44  glimepiride-pioglitazone  22.0\n",
       "22             acetohexamide   45             acetohexamide  23.0\n",
       "39    metformin-pioglitazone   46    metformin-pioglitazone  24.0\n",
       "36       glipizide-metformin   47       glipizide-metformin  11.0\n",
       "33               citoglipton   48               citoglipton  48.0\n",
       "32                   examide   49                   examide  47.0"
      ]
     },
     "execution_count": 62,
     "metadata": {},
     "output_type": "execute_result"
    }
   ],
   "source": [
    "result = pd.concat([df, df1], axis=1)\n",
    "result.sort_values(by=\"rfe\", ascending = True)"
   ]
  },
  {
   "cell_type": "code",
   "execution_count": null,
   "metadata": {},
   "outputs": [],
   "source": []
  }
 ],
 "metadata": {
  "kernelspec": {
   "display_name": "Python 3",
   "language": "python",
   "name": "python3"
  },
  "language_info": {
   "codemirror_mode": {
    "name": "ipython",
    "version": 3
   },
   "file_extension": ".py",
   "mimetype": "text/x-python",
   "name": "python",
   "nbconvert_exporter": "python",
   "pygments_lexer": "ipython3",
   "version": "3.7.2"
  }
 },
 "nbformat": 4,
 "nbformat_minor": 2
}
