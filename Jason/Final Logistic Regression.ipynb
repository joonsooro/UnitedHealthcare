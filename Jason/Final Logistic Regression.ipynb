{
 "cells": [
  {
   "cell_type": "code",
   "execution_count": 1,
   "metadata": {},
   "outputs": [],
   "source": [
    "# Import modules\n",
    "import pandas as pd\n",
    "import numpy as np\n",
    "from scipy import stats\n",
    "import matplotlib.pyplot as plt\n",
    "from sklearn import preprocessing\n",
    "from sklearn.linear_model import LogisticRegression\n",
    "from sklearn.linear_model import LogisticRegressionCV\n",
    "from sklearn.model_selection import GridSearchCV\n",
    "from sklearn.linear_model import LogisticRegression\n",
    "from sklearn.model_selection import train_test_split\n",
    "from sklearn.preprocessing import OneHotEncoder"
   ]
  },
  {
   "cell_type": "code",
   "execution_count": 2,
   "metadata": {},
   "outputs": [],
   "source": [
    "#load data and take out id columns\n",
    "new_data = pd.read_csv('data/final_data.csv')"
   ]
  },
  {
   "cell_type": "code",
   "execution_count": 3,
   "metadata": {},
   "outputs": [],
   "source": [
    "#numeric columns\n",
    "num =['time_in_hospital','num_lab_procedures','num_procedures','num_medications','number_outpatient','number_emergency',\n",
    "'number_inpatient','number_diagnoses']"
   ]
  },
  {
   "cell_type": "code",
   "execution_count": 5,
   "metadata": {},
   "outputs": [],
   "source": [
    "#normalize new_data numeric columns\n",
    "from sklearn.preprocessing import Normalizer\n",
    "transformer = Normalizer().fit(new_data[num])\n",
    "new_data[num] = transformer.transform(new_data[num])\n",
    "new_data[num] = pd.DataFrame(new_data[num], columns= new_data[num].columns)"
   ]
  },
  {
   "cell_type": "code",
   "execution_count": 6,
   "metadata": {},
   "outputs": [
    {
     "data": {
      "text/plain": [
       "(84432, 151)"
      ]
     },
     "execution_count": 6,
     "metadata": {},
     "output_type": "execute_result"
    }
   ],
   "source": [
    "#Dummify\n",
    "new_data = pd.get_dummies(new_data, drop_first = True)\n",
    "new_data.shape"
   ]
  },
  {
   "cell_type": "code",
   "execution_count": null,
   "metadata": {},
   "outputs": [],
   "source": [
    "# #Up-sample Minority Class\n",
    "# from sklearn.utils import resample\n",
    "# majority = new_data[new_data.target==0]\n",
    "# minority = new_data[new_data.target==1]\n",
    "# minority_upsampled = resample(minority,replace=True,n_samples=76847,random_state=123)\n",
    "# new_data = pd.concat([majority, minority_upsampled])\n",
    "# new_data.target.value_counts()"
   ]
  },
  {
   "cell_type": "code",
   "execution_count": 7,
   "metadata": {},
   "outputs": [
    {
     "name": "stdout",
     "output_type": "stream",
     "text": [
      "(63324, 151) (63324,)\n",
      "(21108, 151) (21108,)\n"
     ]
    }
   ],
   "source": [
    "#Spliting to training\n",
    "target = new_data.target\n",
    "X_train, X_test, y_train, y_test = train_test_split(new_data, target, test_size=0.25, stratify = target)\n",
    "print(X_train.shape, y_train.shape)\n",
    "print(X_test.shape, y_test.shape)"
   ]
  },
  {
   "cell_type": "code",
   "execution_count": null,
   "metadata": {},
   "outputs": [],
   "source": [
    "# #Spliting to testing datasets\n",
    "# target = new_data.target\n",
    "# X_train1, X_test1, y_train1, y_test1 = train_test_split(new_data, target, test_size=0.25, stratify = target)\n",
    "# print(X_train1.shape, y_train1.shape)\n",
    "# print(X_test1.shape, y_test1.shape)"
   ]
  },
  {
   "cell_type": "code",
   "execution_count": 8,
   "metadata": {},
   "outputs": [],
   "source": [
    "#drop target from training\n",
    "X_train = X_train.drop('target', axis=1)\n",
    "X_test = X_test.drop('target', axis=1)"
   ]
  },
  {
   "cell_type": "code",
   "execution_count": 55,
   "metadata": {},
   "outputs": [
    {
     "data": {
      "text/plain": [
       "GridSearchCV(cv=3, error_score='raise',\n",
       "       estimator=LogisticRegression(C=1.0, class_weight={0: 1, 1: 8}, dual=False,\n",
       "          fit_intercept=True, intercept_scaling=1, max_iter=100,\n",
       "          multi_class='ovr', n_jobs=1, penalty='l2', random_state=None,\n",
       "          solver='liblinear', tol=0.0001, verbose=0, warm_start=False),\n",
       "       fit_params=None, iid=True, n_jobs=1,\n",
       "       param_grid={'C': array([1.e-03, 1.e-02, 1.e-01, 1.e+00, 1.e+01, 1.e+02, 1.e+03]), 'penalty': ['l1']},\n",
       "       pre_dispatch='2*n_jobs', refit=True, return_train_score='warn',\n",
       "       scoring=None, verbose=0)"
      ]
     },
     "execution_count": 55,
     "metadata": {},
     "output_type": "execute_result"
    }
   ],
   "source": [
    "# from sklearn.model_selection import GridSearchCV\n",
    "# from sklearn.linear_model import LogisticRegression\n",
    "# grid={\"C\":np.logspace(-3,3,7), \"penalty\":[\"l1\"]}\n",
    "# logreg=LogisticRegression(class_weight={0:1, 1:8})\n",
    "# logreg_cv=GridSearchCV(logreg,grid,cv=3)\n",
    "# logreg_cv.fit(X_train,y_train)"
   ]
  },
  {
   "cell_type": "code",
   "execution_count": 56,
   "metadata": {},
   "outputs": [
    {
     "data": {
      "text/plain": [
       "{'C': 0.1, 'penalty': 'l1'}"
      ]
     },
     "execution_count": 56,
     "metadata": {},
     "output_type": "execute_result"
    }
   ],
   "source": [
    "# logreg_cv.best_params_"
   ]
  },
  {
   "cell_type": "code",
   "execution_count": 60,
   "metadata": {},
   "outputs": [
    {
     "data": {
      "text/plain": [
       "0.648063925210031"
      ]
     },
     "execution_count": 60,
     "metadata": {},
     "output_type": "execute_result"
    }
   ],
   "source": [
    "## Fit the model with training\n",
    "decision_logit = LogisticRegression(C=0.1, penalty= 'l1', random_state=0,class_weight= {0:1, 1:8})\n",
    "decision_logit.fit(X_train, y_train)\n",
    "\n",
    "## The score (accuracy for classification problems):\n",
    "decision_logit.score(X_train, y_train)"
   ]
  },
  {
   "cell_type": "code",
   "execution_count": 61,
   "metadata": {},
   "outputs": [
    {
     "data": {
      "text/plain": [
       "0.6137530619768308"
      ]
     },
     "execution_count": 61,
     "metadata": {},
     "output_type": "execute_result"
    }
   ],
   "source": [
    "#AUC test  \n",
    "from sklearn.metrics import roc_auc_score\n",
    "upsample_AUC_train =roc_auc_score(y_test, decision_logit.predict(X_test))\n",
    "upsample_AUC_train"
   ]
  },
  {
   "cell_type": "code",
   "execution_count": 62,
   "metadata": {},
   "outputs": [
    {
     "data": {
      "text/plain": [
       "array([[12448,  6256],\n",
       "       [ 1053,  1351]])"
      ]
     },
     "execution_count": 62,
     "metadata": {},
     "output_type": "execute_result"
    }
   ],
   "source": [
    "#confusion matrix\n",
    "from sklearn.metrics import confusion_matrix\n",
    "confusion_matrix(y_test, decision_logit.predict(X_test))\n"
   ]
  },
  {
   "cell_type": "code",
   "execution_count": null,
   "metadata": {},
   "outputs": [],
   "source": []
  }
 ],
 "metadata": {
  "kernelspec": {
   "display_name": "Python 3",
   "language": "python",
   "name": "python3"
  },
  "language_info": {
   "codemirror_mode": {
    "name": "ipython",
    "version": 3
   },
   "file_extension": ".py",
   "mimetype": "text/x-python",
   "name": "python",
   "nbconvert_exporter": "python",
   "pygments_lexer": "ipython3",
   "version": "3.7.2"
  }
 },
 "nbformat": 4,
 "nbformat_minor": 2
}
