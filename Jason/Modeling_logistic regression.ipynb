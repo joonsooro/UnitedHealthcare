{
 "cells": [
  {
   "cell_type": "code",
   "execution_count": 1,
   "metadata": {},
   "outputs": [],
   "source": [
    "# Import modules\n",
    "import pandas as pd\n",
    "import numpy as np\n",
    "from scipy import stats\n",
    "import matplotlib.pyplot as plt\n",
    "from sklearn import preprocessing\n",
    "from sklearn.linear_model import LogisticRegression\n",
    "from sklearn.linear_model import LogisticRegressionCV\n",
    "from sklearn.model_selection import train_test_split\n",
    "from sklearn.preprocessing import OneHotEncoder"
   ]
  },
  {
   "cell_type": "code",
   "execution_count": 2,
   "metadata": {},
   "outputs": [],
   "source": [
    "#load data and take out id columns\n",
    "new_data = pd.read_csv('data/model_data.csv')\n",
    "new_data1 = pd.read_csv('data/model_data.csv')\n",
    "droplis = ['Unnamed: 0','encounter_id','patient_nbr']\n",
    "new_data = new_data.drop(droplis, axis=1)"
   ]
  },
  {
   "cell_type": "code",
   "execution_count": 3,
   "metadata": {},
   "outputs": [
    {
     "data": {
      "text/plain": [
       "Index(['admission_type_id', 'discharge_disposition_id', 'admission_source_id',\n",
       "       'time_in_hospital', 'num_lab_procedures', 'num_procedures',\n",
       "       'num_medications', 'number_outpatient', 'number_emergency',\n",
       "       'number_inpatient', 'number_diagnoses', 'target', 'self_pay',\n",
       "       'medicaid/medicare', 'coverByInsurance', 'clustering3', 'clustering4',\n",
       "       'clustering2'],\n",
       "      dtype='object')"
      ]
     },
     "execution_count": 3,
     "metadata": {},
     "output_type": "execute_result"
    }
   ],
   "source": [
    "#find numeric columns\n",
    "new_data._get_numeric_data().columns"
   ]
  },
  {
   "cell_type": "code",
   "execution_count": 4,
   "metadata": {},
   "outputs": [],
   "source": [
    "#numeric columns\n",
    "num =['time_in_hospital','num_lab_procedures','num_procedures','num_medications','number_outpatient','number_emergency',\n",
    "'number_inpatient','number_diagnoses']\n"
   ]
  },
  {
   "cell_type": "code",
   "execution_count": 5,
   "metadata": {},
   "outputs": [],
   "source": [
    "#normalize new_data numeric columns\n",
    "from sklearn.preprocessing import Normalizer\n",
    "transformer = Normalizer().fit(new_data[num])\n",
    "new_data[num] = transformer.transform(new_data[num])\n",
    "new_data[num] = pd.DataFrame(new_data[num], columns= new_data1[num].columns)"
   ]
  },
  {
   "cell_type": "code",
   "execution_count": 6,
   "metadata": {},
   "outputs": [],
   "source": [
    "#enlabel the columns\n",
    "new_data = new_data\n",
    "new_data['admission_type_id'] = pd.Categorical(new_data.admission_type_id)\n",
    "new_data['discharge_disposition_id'] = pd.Categorical(new_data.discharge_disposition_id)\n",
    "new_data['admission_source_id'] = pd.Categorical(new_data.admission_source_id)\n",
    "\n",
    "cat_cols = list(new_data.select_dtypes(include=[object]).columns)\n",
    "for col in cat_cols:\n",
    "   new_data[col] = pd.Categorical(new_data[col])\n",
    "\n",
    "le = preprocessing.LabelEncoder()\n",
    "\n",
    "col_to_encode = new_data[list(new_data.select_dtypes(include=['category']).columns)]\n",
    "for col in col_to_encode:\n",
    "   new_data[col] = le.fit_transform(new_data[col])"
   ]
  },
  {
   "cell_type": "code",
   "execution_count": 7,
   "metadata": {},
   "outputs": [],
   "source": [
    "#new_data['admission_type_id'] = pd.Categorical(new_data.admission_type_id)\n",
    "#new_data['discharge_disposition_id'] = pd.Categorical(new_data.discharge_disposition_id)\n",
    "#new_data['admission_source_id'] = pd.Categorical(new_data.admission_source_id)\n",
    "#cat_cols = list(new_data.select_dtypes(include=[object]).columns)\n",
    "#for col in cat_cols:\n",
    "#   new_data[col] = pd.Categorical(new_data[col])\n",
    "\n",
    "#enc = OneHotEncoder(handle_unknown='ignore')\n",
    "\n",
    "#col_to_encode = new_data[list(new_data.select_dtypes(include=['category']).columns)]\n",
    "#for col in col_to_encode:\n",
    "#   new_data[col] = enc.fit_transform(new_data[col])"
   ]
  },
  {
   "cell_type": "code",
   "execution_count": 8,
   "metadata": {},
   "outputs": [
    {
     "name": "stdout",
     "output_type": "stream",
     "text": [
      "(64875, 52) (64875,)\n",
      "(21625, 52) (21625,)\n"
     ]
    }
   ],
   "source": [
    "#Spliting to training and testing datasets\n",
    "target = new_data.target\n",
    "X_train, X_test, y_train, y_test = train_test_split(new_data, target, test_size=0.25)\n",
    "print(X_train.shape, y_train.shape)\n",
    "print(X_test.shape, y_test.shape)"
   ]
  },
  {
   "cell_type": "code",
   "execution_count": 9,
   "metadata": {},
   "outputs": [],
   "source": [
    "##### Up-sample logistic regression  #####"
   ]
  },
  {
   "cell_type": "code",
   "execution_count": 10,
   "metadata": {},
   "outputs": [],
   "source": [
    "#Up-sample X_train\n",
    "from sklearn.utils import resample\n",
    "train_x_majority = X_train[X_train.target==0]\n",
    "train_x_minority = X_train[X_train.target==1]\n",
    "train_x_minority_upsampled = resample(train_x_minority,replace=True,n_samples=57558,random_state=123)\n",
    "x = pd.concat([train_x_majority, train_x_minority_upsampled])\n"
   ]
  },
  {
   "cell_type": "code",
   "execution_count": 11,
   "metadata": {},
   "outputs": [
    {
     "data": {
      "text/plain": [
       "0    57621\n",
       "1    57558\n",
       "Name: target, dtype: int64"
      ]
     },
     "execution_count": 11,
     "metadata": {},
     "output_type": "execute_result"
    }
   ],
   "source": [
    "#Up-sample y_train\n",
    "y_train = pd.DataFrame(y_train)\n",
    "train_y_majority = y_train[y_train.target==0]\n",
    "train_y_minority = y_train[y_train.target==1]\n",
    "train_y_minority_upsampled = resample(train_y_minority,replace=True,n_samples=57558,random_state=123)\n",
    "y = pd.concat([train_y_majority, train_y_minority_upsampled])\n",
    "y.target.value_counts()"
   ]
  },
  {
   "cell_type": "code",
   "execution_count": 12,
   "metadata": {},
   "outputs": [],
   "source": [
    "#drop target from training\n",
    "x = x.drop('target', axis=1)"
   ]
  },
  {
   "cell_type": "code",
   "execution_count": 13,
   "metadata": {},
   "outputs": [
    {
     "name": "stderr",
     "output_type": "stream",
     "text": [
      "/Users/jasonwang/anaconda3/lib/python3.7/site-packages/sklearn/utils/validation.py:578: DataConversionWarning: A column-vector y was passed when a 1d array was expected. Please change the shape of y to (n_samples, ), for example using ravel().\n",
      "  y = column_or_1d(y, warn=True)\n"
     ]
    },
    {
     "data": {
      "text/plain": [
       "0.5845423210828363"
      ]
     },
     "execution_count": 13,
     "metadata": {},
     "output_type": "execute_result"
    }
   ],
   "source": [
    "## Fit the model with training\n",
    "decision_logit = LogisticRegressionCV(cv=5, random_state=0,multi_class='multinomial')\n",
    "decision_logit.fit(x, y)\n",
    "\n",
    "## The score (accuracy for classification problems):\n",
    "decision_logit.score(x, y)"
   ]
  },
  {
   "cell_type": "code",
   "execution_count": 14,
   "metadata": {},
   "outputs": [
    {
     "data": {
      "text/plain": [
       "0.6250483834928829"
      ]
     },
     "execution_count": 14,
     "metadata": {},
     "output_type": "execute_result"
    }
   ],
   "source": [
    "#up-sample AUC for training \n",
    "from sklearn.metrics import roc_auc_score\n",
    "upsample_AUC_train =roc_auc_score(y, decision_logit.predict_proba(x)[:,1])\n",
    "upsample_AUC_train"
   ]
  },
  {
   "cell_type": "code",
   "execution_count": 15,
   "metadata": {},
   "outputs": [],
   "source": [
    "#drop target from test\n",
    "X_test = X_test.drop('target', axis=1)"
   ]
  },
  {
   "cell_type": "code",
   "execution_count": 16,
   "metadata": {},
   "outputs": [
    {
     "data": {
      "text/plain": [
       "0.8890635838150289"
      ]
     },
     "execution_count": 16,
     "metadata": {},
     "output_type": "execute_result"
    }
   ],
   "source": [
    "## Fit the model with testing\n",
    "decision_logit1 = LogisticRegressionCV(cv=5, random_state=0, multi_class='multinomial')\n",
    "decision_logit1.fit(X_test, y_test)\n",
    "\n",
    "## The score (accuracy for classification problems):\n",
    "decision_logit1.score(X_test, y_test)"
   ]
  },
  {
   "cell_type": "code",
   "execution_count": 17,
   "metadata": {},
   "outputs": [
    {
     "data": {
      "text/plain": [
       "0.6190443008106945"
      ]
     },
     "execution_count": 17,
     "metadata": {},
     "output_type": "execute_result"
    }
   ],
   "source": [
    "#AUC for testing\n",
    "from sklearn.metrics import roc_auc_score\n",
    "upsample_AUC_test=roc_auc_score(y_test, decision_logit.predict_proba(X_test)[:,1])\n",
    "upsample_AUC_test"
   ]
  },
  {
   "cell_type": "code",
   "execution_count": null,
   "metadata": {},
   "outputs": [],
   "source": [
    " "
   ]
  },
  {
   "cell_type": "code",
   "execution_count": 18,
   "metadata": {},
   "outputs": [],
   "source": [
    "########## up-sampled test"
   ]
  },
  {
   "cell_type": "code",
   "execution_count": 19,
   "metadata": {},
   "outputs": [
    {
     "data": {
      "text/plain": [
       "1    76847\n",
       "0    76847\n",
       "Name: target, dtype: int64"
      ]
     },
     "execution_count": 19,
     "metadata": {},
     "output_type": "execute_result"
    }
   ],
   "source": [
    "#Up-sample Minority Class\n",
    "majority = new_data[new_data.target==0]\n",
    "minority = new_data[new_data.target==1]\n",
    "minority_upsampled = resample(minority,replace=True,n_samples=76847,random_state=123)\n",
    "df_upsampled = pd.concat([majority, minority_upsampled])\n",
    "df_upsampled.target.value_counts()"
   ]
  },
  {
   "cell_type": "code",
   "execution_count": 20,
   "metadata": {},
   "outputs": [
    {
     "name": "stdout",
     "output_type": "stream",
     "text": [
      "(115270, 52) (115270,)\n",
      "(38424, 52) (38424,)\n"
     ]
    }
   ],
   "source": [
    "#Spliting to training and testing datasets\n",
    "target = df_upsampled.target\n",
    "X_train, X_test, y_train, y_test = train_test_split(df_upsampled, target, test_size=0.25)\n",
    "print(X_train.shape, y_train.shape)\n",
    "print(X_test.shape, y_test.shape)"
   ]
  },
  {
   "cell_type": "code",
   "execution_count": 21,
   "metadata": {},
   "outputs": [],
   "source": [
    "#drop target from training\n",
    "X_test = X_test.drop('target', axis=1)"
   ]
  },
  {
   "cell_type": "code",
   "execution_count": 22,
   "metadata": {},
   "outputs": [
    {
     "data": {
      "text/plain": [
       "0.5910108265667291"
      ]
     },
     "execution_count": 22,
     "metadata": {},
     "output_type": "execute_result"
    }
   ],
   "source": [
    "## Fit the model with testing\n",
    "decision_logit1 = LogisticRegressionCV(cv=5, random_state=0, multi_class='multinomial')\n",
    "decision_logit1.fit(X_test, y_test)\n",
    "\n",
    "## The score (accuracy for classification problems):\n",
    "decision_logit1.score(X_test, y_test)"
   ]
  },
  {
   "cell_type": "code",
   "execution_count": 23,
   "metadata": {},
   "outputs": [
    {
     "data": {
      "text/plain": [
       "0.6223170564707721"
      ]
     },
     "execution_count": 23,
     "metadata": {},
     "output_type": "execute_result"
    }
   ],
   "source": [
    "#AUC for testing\n",
    "from sklearn.metrics import roc_auc_score\n",
    "upsample_AUC_test=roc_auc_score(y_test, decision_logit.predict_proba(X_test)[:,1])\n",
    "upsample_AUC_test"
   ]
  },
  {
   "cell_type": "code",
   "execution_count": null,
   "metadata": {},
   "outputs": [],
   "source": []
  },
  {
   "cell_type": "code",
   "execution_count": null,
   "metadata": {},
   "outputs": [],
   "source": []
  },
  {
   "cell_type": "code",
   "execution_count": null,
   "metadata": {},
   "outputs": [],
   "source": []
  },
  {
   "cell_type": "code",
   "execution_count": null,
   "metadata": {},
   "outputs": [],
   "source": []
  },
  {
   "cell_type": "code",
   "execution_count": null,
   "metadata": {},
   "outputs": [],
   "source": []
  }
 ],
 "metadata": {
  "kernelspec": {
   "display_name": "Python 3",
   "language": "python",
   "name": "python3"
  },
  "language_info": {
   "codemirror_mode": {
    "name": "ipython",
    "version": 3
   },
   "file_extension": ".py",
   "mimetype": "text/x-python",
   "name": "python",
   "nbconvert_exporter": "python",
   "pygments_lexer": "ipython3",
   "version": "3.7.2"
  }
 },
 "nbformat": 4,
 "nbformat_minor": 2
}
