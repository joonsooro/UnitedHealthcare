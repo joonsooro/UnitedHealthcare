{
 "cells": [
  {
   "cell_type": "code",
   "execution_count": 1,
   "metadata": {},
   "outputs": [],
   "source": [
    "# Import modules\n",
    "import pandas as pd\n",
    "import numpy as np\n",
    "from scipy import stats\n",
    "import matplotlib.pyplot as plt\n",
    "from sklearn import preprocessing\n",
    "from sklearn.model_selection import GridSearchCV\n",
    "from sklearn.model_selection import train_test_split\n",
    "from sklearn.naive_bayes import GaussianNB"
   ]
  },
  {
   "cell_type": "code",
   "execution_count": 2,
   "metadata": {},
   "outputs": [],
   "source": [
    "#load data and take out id columns\n",
    "new_data = pd.read_csv('data/final_data.csv')\n",
    "new_data1 = pd.read_csv('data/final_data.csv')"
   ]
  },
  {
   "cell_type": "code",
   "execution_count": 3,
   "metadata": {},
   "outputs": [],
   "source": [
    "# #numeric columns\n",
    "# num =['time_in_hospital','num_lab_procedures','num_procedures','num_medications','number_outpatient','number_emergency',\n",
    "# 'number_inpatient','number_diagnoses']\n",
    "# #normalize new_data numeric columns\n",
    "# from sklearn.preprocessing import Normalizer\n",
    "# transformer = Normalizer().fit(new_data[num])\n",
    "# new_data[num] = transformer.transform(new_data[num])\n",
    "# new_data[num] = pd.DataFrame(new_data[num], columns= new_data[num].columns)"
   ]
  },
  {
   "cell_type": "code",
   "execution_count": 4,
   "metadata": {},
   "outputs": [],
   "source": [
    "#Dummify \n",
    "new_data = pd.get_dummies(new_data.drop(['target'], axis=1), drop_first = True)"
   ]
  },
  {
   "cell_type": "code",
   "execution_count": 5,
   "metadata": {},
   "outputs": [],
   "source": [
    "#normalize new_data\n",
    "from sklearn.preprocessing import Normalizer\n",
    "transformer = Normalizer().fit(new_data)\n",
    "new_data2 = transformer.transform(new_data)\n",
    "new_data = pd.DataFrame(new_data2, columns= new_data.columns)\n",
    "new_data['target'] = new_data1.target"
   ]
  },
  {
   "cell_type": "code",
   "execution_count": 6,
   "metadata": {},
   "outputs": [
    {
     "data": {
      "text/html": [
       "<div>\n",
       "<style scoped>\n",
       "    .dataframe tbody tr th:only-of-type {\n",
       "        vertical-align: middle;\n",
       "    }\n",
       "\n",
       "    .dataframe tbody tr th {\n",
       "        vertical-align: top;\n",
       "    }\n",
       "\n",
       "    .dataframe thead th {\n",
       "        text-align: right;\n",
       "    }\n",
       "</style>\n",
       "<table border=\"1\" class=\"dataframe\">\n",
       "  <thead>\n",
       "    <tr style=\"text-align: right;\">\n",
       "      <th></th>\n",
       "      <th>admission_type_id</th>\n",
       "      <th>time_in_hospital</th>\n",
       "      <th>num_lab_procedures</th>\n",
       "      <th>num_procedures</th>\n",
       "      <th>num_medications</th>\n",
       "      <th>number_outpatient</th>\n",
       "      <th>number_emergency</th>\n",
       "      <th>number_inpatient</th>\n",
       "      <th>number_diagnoses</th>\n",
       "      <th>self_pay</th>\n",
       "      <th>...</th>\n",
       "      <th>discharge_id_6</th>\n",
       "      <th>discharge_id_Other</th>\n",
       "      <th>admission_id_17</th>\n",
       "      <th>admission_id_2</th>\n",
       "      <th>admission_id_4</th>\n",
       "      <th>admission_id_5</th>\n",
       "      <th>admission_id_6</th>\n",
       "      <th>admission_id_7</th>\n",
       "      <th>admission_id_Other</th>\n",
       "      <th>target</th>\n",
       "    </tr>\n",
       "  </thead>\n",
       "  <tbody>\n",
       "    <tr>\n",
       "      <th>0</th>\n",
       "      <td>0.038001</td>\n",
       "      <td>0.190003</td>\n",
       "      <td>0.855013</td>\n",
       "      <td>0.019000</td>\n",
       "      <td>0.437007</td>\n",
       "      <td>0.0</td>\n",
       "      <td>0.0</td>\n",
       "      <td>0.038001</td>\n",
       "      <td>0.171003</td>\n",
       "      <td>0.0</td>\n",
       "      <td>...</td>\n",
       "      <td>0.019000</td>\n",
       "      <td>0.0</td>\n",
       "      <td>0.0</td>\n",
       "      <td>0.0</td>\n",
       "      <td>0.0</td>\n",
       "      <td>0.0</td>\n",
       "      <td>0.0</td>\n",
       "      <td>0.019000</td>\n",
       "      <td>0.0</td>\n",
       "      <td>0</td>\n",
       "    </tr>\n",
       "    <tr>\n",
       "      <th>1</th>\n",
       "      <td>0.022588</td>\n",
       "      <td>0.112938</td>\n",
       "      <td>0.880920</td>\n",
       "      <td>0.090351</td>\n",
       "      <td>0.383991</td>\n",
       "      <td>0.0</td>\n",
       "      <td>0.0</td>\n",
       "      <td>0.000000</td>\n",
       "      <td>0.203289</td>\n",
       "      <td>0.0</td>\n",
       "      <td>...</td>\n",
       "      <td>0.000000</td>\n",
       "      <td>0.0</td>\n",
       "      <td>0.0</td>\n",
       "      <td>0.0</td>\n",
       "      <td>0.0</td>\n",
       "      <td>0.0</td>\n",
       "      <td>0.0</td>\n",
       "      <td>0.022588</td>\n",
       "      <td>0.0</td>\n",
       "      <td>0</td>\n",
       "    </tr>\n",
       "    <tr>\n",
       "      <th>2</th>\n",
       "      <td>0.019928</td>\n",
       "      <td>0.059785</td>\n",
       "      <td>0.936634</td>\n",
       "      <td>0.000000</td>\n",
       "      <td>0.259069</td>\n",
       "      <td>0.0</td>\n",
       "      <td>0.0</td>\n",
       "      <td>0.099642</td>\n",
       "      <td>0.179355</td>\n",
       "      <td>0.0</td>\n",
       "      <td>...</td>\n",
       "      <td>0.000000</td>\n",
       "      <td>0.0</td>\n",
       "      <td>0.0</td>\n",
       "      <td>0.0</td>\n",
       "      <td>0.0</td>\n",
       "      <td>0.0</td>\n",
       "      <td>0.0</td>\n",
       "      <td>0.019928</td>\n",
       "      <td>0.0</td>\n",
       "      <td>0</td>\n",
       "    </tr>\n",
       "    <tr>\n",
       "      <th>3</th>\n",
       "      <td>0.015713</td>\n",
       "      <td>0.078567</td>\n",
       "      <td>0.958523</td>\n",
       "      <td>0.000000</td>\n",
       "      <td>0.219989</td>\n",
       "      <td>0.0</td>\n",
       "      <td>0.0</td>\n",
       "      <td>0.000000</td>\n",
       "      <td>0.141421</td>\n",
       "      <td>0.0</td>\n",
       "      <td>...</td>\n",
       "      <td>0.000000</td>\n",
       "      <td>0.0</td>\n",
       "      <td>0.0</td>\n",
       "      <td>0.0</td>\n",
       "      <td>0.0</td>\n",
       "      <td>0.0</td>\n",
       "      <td>0.0</td>\n",
       "      <td>0.015713</td>\n",
       "      <td>0.0</td>\n",
       "      <td>0</td>\n",
       "    </tr>\n",
       "    <tr>\n",
       "      <th>4</th>\n",
       "      <td>0.012391</td>\n",
       "      <td>0.123911</td>\n",
       "      <td>0.941723</td>\n",
       "      <td>0.012391</td>\n",
       "      <td>0.284995</td>\n",
       "      <td>0.0</td>\n",
       "      <td>0.0</td>\n",
       "      <td>0.000000</td>\n",
       "      <td>0.111520</td>\n",
       "      <td>0.0</td>\n",
       "      <td>...</td>\n",
       "      <td>0.012391</td>\n",
       "      <td>0.0</td>\n",
       "      <td>0.0</td>\n",
       "      <td>0.0</td>\n",
       "      <td>0.0</td>\n",
       "      <td>0.0</td>\n",
       "      <td>0.0</td>\n",
       "      <td>0.012391</td>\n",
       "      <td>0.0</td>\n",
       "      <td>0</td>\n",
       "    </tr>\n",
       "  </tbody>\n",
       "</table>\n",
       "<p>5 rows × 151 columns</p>\n",
       "</div>"
      ],
      "text/plain": [
       "   admission_type_id  time_in_hospital  num_lab_procedures  num_procedures  \\\n",
       "0           0.038001          0.190003            0.855013        0.019000   \n",
       "1           0.022588          0.112938            0.880920        0.090351   \n",
       "2           0.019928          0.059785            0.936634        0.000000   \n",
       "3           0.015713          0.078567            0.958523        0.000000   \n",
       "4           0.012391          0.123911            0.941723        0.012391   \n",
       "\n",
       "   num_medications  number_outpatient  number_emergency  number_inpatient  \\\n",
       "0         0.437007                0.0               0.0          0.038001   \n",
       "1         0.383991                0.0               0.0          0.000000   \n",
       "2         0.259069                0.0               0.0          0.099642   \n",
       "3         0.219989                0.0               0.0          0.000000   \n",
       "4         0.284995                0.0               0.0          0.000000   \n",
       "\n",
       "   number_diagnoses  self_pay   ...    discharge_id_6  discharge_id_Other  \\\n",
       "0          0.171003       0.0   ...          0.019000                 0.0   \n",
       "1          0.203289       0.0   ...          0.000000                 0.0   \n",
       "2          0.179355       0.0   ...          0.000000                 0.0   \n",
       "3          0.141421       0.0   ...          0.000000                 0.0   \n",
       "4          0.111520       0.0   ...          0.012391                 0.0   \n",
       "\n",
       "   admission_id_17  admission_id_2  admission_id_4  admission_id_5  \\\n",
       "0              0.0             0.0             0.0             0.0   \n",
       "1              0.0             0.0             0.0             0.0   \n",
       "2              0.0             0.0             0.0             0.0   \n",
       "3              0.0             0.0             0.0             0.0   \n",
       "4              0.0             0.0             0.0             0.0   \n",
       "\n",
       "   admission_id_6  admission_id_7  admission_id_Other  target  \n",
       "0             0.0        0.019000                 0.0       0  \n",
       "1             0.0        0.022588                 0.0       0  \n",
       "2             0.0        0.019928                 0.0       0  \n",
       "3             0.0        0.015713                 0.0       0  \n",
       "4             0.0        0.012391                 0.0       0  \n",
       "\n",
       "[5 rows x 151 columns]"
      ]
     },
     "execution_count": 6,
     "metadata": {},
     "output_type": "execute_result"
    }
   ],
   "source": [
    "new_data.head()"
   ]
  },
  {
   "cell_type": "code",
   "execution_count": 7,
   "metadata": {},
   "outputs": [],
   "source": [
    "# #enlabel the columns\n",
    "# new_data = new_data\n",
    "# new_data['admission_type_id'] = pd.Categorical(new_data.admission_type_id)\n",
    "# new_data['discharge_disposition_id'] = pd.Categorical(new_data.discharge_disposition_id)\n",
    "# new_data['admission_source_id'] = pd.Categorical(new_data.admission_source_id)\n",
    "\n",
    "# cat_cols = list(new_data.select_dtypes(include=[object]).columns)\n",
    "# for col in cat_cols:\n",
    "#    new_data[col] = pd.Categorical(new_data[col])\n",
    "\n",
    "# le = preprocessing.LabelEncoder()\n",
    "\n",
    "# col_to_encode = new_data[list(new_data.select_dtypes(include=['category']).columns)]\n",
    "# for col in col_to_encode:\n",
    "#    new_data[col] = le.fit_transform(new_data[col])"
   ]
  },
  {
   "cell_type": "code",
   "execution_count": 8,
   "metadata": {},
   "outputs": [
    {
     "data": {
      "text/plain": [
       "0    74817\n",
       "1     9615\n",
       "Name: target, dtype: int64"
      ]
     },
     "execution_count": 8,
     "metadata": {},
     "output_type": "execute_result"
    }
   ],
   "source": [
    "new_data.target.value_counts()"
   ]
  },
  {
   "cell_type": "code",
   "execution_count": 9,
   "metadata": {},
   "outputs": [
    {
     "data": {
      "text/plain": [
       "1    74817\n",
       "0    74817\n",
       "Name: target, dtype: int64"
      ]
     },
     "execution_count": 9,
     "metadata": {},
     "output_type": "execute_result"
    }
   ],
   "source": [
    "#Up-sample Minority Class\n",
    "from sklearn.utils import resample\n",
    "majority = new_data[new_data.target==0]\n",
    "minority = new_data[new_data.target==1]\n",
    "minority_upsampled = resample(minority,replace=True,n_samples=74817,random_state=123)\n",
    "new_data1 = pd.concat([majority, minority_upsampled])\n",
    "new_data1.target.value_counts()"
   ]
  },
  {
   "cell_type": "code",
   "execution_count": 10,
   "metadata": {},
   "outputs": [
    {
     "name": "stdout",
     "output_type": "stream",
     "text": [
      "(112225, 151) (112225,)\n",
      "(37409, 151) (37409,)\n"
     ]
    }
   ],
   "source": [
    "#Spliting to training\n",
    "target = new_data1.target\n",
    "X_train, X_test1, y_train, y_test1 = train_test_split(new_data1, target, test_size=0.25, stratify = target)\n",
    "print(X_train.shape, y_train.shape)\n",
    "print(X_test1.shape, y_test1.shape)"
   ]
  },
  {
   "cell_type": "code",
   "execution_count": 11,
   "metadata": {},
   "outputs": [
    {
     "name": "stdout",
     "output_type": "stream",
     "text": [
      "(63324, 151) (63324,)\n",
      "(21108, 151) (21108,)\n"
     ]
    }
   ],
   "source": [
    "#Spliting to testing datasets\n",
    "target = new_data.target\n",
    "X_train1, X_test, y_train1, y_test = train_test_split(new_data, target, test_size=0.25, stratify = target)\n",
    "print(X_train1.shape, y_train1.shape)\n",
    "print(X_test.shape, y_test.shape)"
   ]
  },
  {
   "cell_type": "code",
   "execution_count": 12,
   "metadata": {},
   "outputs": [],
   "source": [
    "#drop target from training\n",
    "X_train = X_train.drop('target', axis=1)\n",
    "X_test = X_test.drop('target', axis=1)"
   ]
  },
  {
   "cell_type": "code",
   "execution_count": 13,
   "metadata": {},
   "outputs": [
    {
     "data": {
      "text/plain": [
       "0.5208554243706839"
      ]
     },
     "execution_count": 13,
     "metadata": {},
     "output_type": "execute_result"
    }
   ],
   "source": [
    "### Fit the model with training\n",
    "model = GaussianNB()\n",
    "model.fit(X_train, y_train)\n",
    "## The score (accuracy for classification problems):\n",
    "model.score(X_train, y_train)"
   ]
  },
  {
   "cell_type": "code",
   "execution_count": 14,
   "metadata": {},
   "outputs": [
    {
     "data": {
      "text/plain": [
       "0.5245470996443053"
      ]
     },
     "execution_count": 14,
     "metadata": {},
     "output_type": "execute_result"
    }
   ],
   "source": [
    "#AUC test  \n",
    "from sklearn.metrics import roc_auc_score\n",
    "upsample_AUC_train =roc_auc_score(y_test, model.predict(X_test))\n",
    "upsample_AUC_train"
   ]
  },
  {
   "cell_type": "code",
   "execution_count": 15,
   "metadata": {},
   "outputs": [
    {
     "data": {
      "text/plain": [
       "array([[ 1813, 16891],\n",
       "       [  115,  2289]])"
      ]
     },
     "execution_count": 15,
     "metadata": {},
     "output_type": "execute_result"
    }
   ],
   "source": [
    "#confusion matrix\n",
    "from sklearn.metrics import confusion_matrix\n",
    "confusion_matrix(y_test, model.predict(X_test))\n"
   ]
  },
  {
   "cell_type": "code",
   "execution_count": null,
   "metadata": {},
   "outputs": [],
   "source": []
  },
  {
   "cell_type": "code",
   "execution_count": null,
   "metadata": {},
   "outputs": [],
   "source": []
  }
 ],
 "metadata": {
  "kernelspec": {
   "display_name": "Python 3",
   "language": "python",
   "name": "python3"
  },
  "language_info": {
   "codemirror_mode": {
    "name": "ipython",
    "version": 3
   },
   "file_extension": ".py",
   "mimetype": "text/x-python",
   "name": "python",
   "nbconvert_exporter": "python",
   "pygments_lexer": "ipython3",
   "version": "3.7.2"
  }
 },
 "nbformat": 4,
 "nbformat_minor": 2
}
