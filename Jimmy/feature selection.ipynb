{
 "cells": [
  {
   "cell_type": "code",
   "execution_count": 61,
   "metadata": {},
   "outputs": [],
   "source": [
    "import numpy  as np\n",
    "import pandas as pd\n",
    "from sklearn import preprocessing\n",
    "from sklearn.linear_model import RandomizedLasso\n",
    "import sklearn.model_selection as ms\n",
    "from sklearn.feature_selection import SelectFromModel \n",
    "import matplotlib.pyplot as plt\n",
    "plt.style.use('ggplot')\n",
    "from sklearn.metrics import precision_recall_curve, f1_score, accuracy_score, roc_auc_score, roc_curve"
   ]
  },
  {
   "cell_type": "code",
   "execution_count": 139,
   "metadata": {},
   "outputs": [
    {
     "data": {
      "text/plain": [
       "Index(['Unnamed: 0', 'race', 'gender', 'age', 'admission_type_id',\n",
       "       'discharge_disposition_id', 'admission_source_id', 'time_in_hospital',\n",
       "       'medical_specialty', 'num_lab_procedures', 'num_procedures',\n",
       "       'num_medications', 'number_outpatient', 'number_emergency',\n",
       "       'number_inpatient', 'number_diagnoses', 'max_glu_serum', 'A1Cresult',\n",
       "       'metformin', 'repaglinide', 'nateglinide', 'chlorpropamide',\n",
       "       'glimepiride', 'acetohexamide', 'glipizide', 'glyburide', 'tolbutamide',\n",
       "       'pioglitazone', 'rosiglitazone', 'acarbose', 'miglitol', 'troglitazone',\n",
       "       'tolazamide', 'examide', 'citoglipton', 'insulin',\n",
       "       'glyburide-metformin', 'glipizide-metformin',\n",
       "       'glimepiride-pioglitazone', 'metformin-rosiglitazone',\n",
       "       'metformin-pioglitazone', 'change', 'diabetesMed', 'self_pay',\n",
       "       'medicaid/medicare', 'coverByInsurance', 'f_diag', 's_diag', 't_diag',\n",
       "       'clustering3', 'clustering4', 'clustering2', 'target'],\n",
       "      dtype='object')"
      ]
     },
     "execution_count": 139,
     "metadata": {},
     "output_type": "execute_result"
    }
   ],
   "source": [
    "redmit = pd.read_csv('./Data/new_data.csv')\n",
    "readmit = pd.read_csv('./gbm_dataClustering.csv')\n",
    "redmit.columns\n",
    "readmit.columns"
   ]
  },
  {
   "cell_type": "code",
   "execution_count": 140,
   "metadata": {},
   "outputs": [
    {
     "data": {
      "text/plain": [
       "Index(['race', 'gender', 'age', 'admission_type_id',\n",
       "       'discharge_disposition_id', 'admission_source_id', 'time_in_hospital',\n",
       "       'medical_specialty', 'num_lab_procedures', 'num_procedures',\n",
       "       'num_medications', 'number_outpatient', 'number_emergency',\n",
       "       'number_inpatient', 'number_diagnoses', 'max_glu_serum', 'A1Cresult',\n",
       "       'metformin', 'repaglinide', 'nateglinide', 'chlorpropamide',\n",
       "       'glimepiride', 'acetohexamide', 'glipizide', 'glyburide', 'tolbutamide',\n",
       "       'pioglitazone', 'rosiglitazone', 'acarbose', 'miglitol', 'troglitazone',\n",
       "       'tolazamide', 'examide', 'citoglipton', 'insulin',\n",
       "       'glyburide-metformin', 'glipizide-metformin',\n",
       "       'glimepiride-pioglitazone', 'metformin-rosiglitazone',\n",
       "       'metformin-pioglitazone', 'change', 'diabetesMed', 'self_pay',\n",
       "       'medicaid/medicare', 'coverByInsurance', 'f_diag', 's_diag', 't_diag',\n",
       "       'clustering3', 'clustering4', 'clustering2', 'target'],\n",
       "      dtype='object')"
      ]
     },
     "execution_count": 140,
     "metadata": {},
     "output_type": "execute_result"
    }
   ],
   "source": [
    "#redmit['Unnamed: 0'].head\n",
    "redmit = redmit.drop(['encounter_id','Unnamed: 0'], axis = 1)\n",
    "redmit.columns\n",
    "readmit = readmit.drop('Unnamed: 0',axis=1)\n",
    "readmit.columns"
   ]
  },
  {
   "cell_type": "code",
   "execution_count": 141,
   "metadata": {},
   "outputs": [
    {
     "data": {
      "text/plain": [
       "target                      0\n",
       "clustering2                 0\n",
       "glipizide                   0\n",
       "acetohexamide               0\n",
       "glimepiride                 0\n",
       "chlorpropamide              0\n",
       "nateglinide                 0\n",
       "repaglinide                 0\n",
       "metformin                   0\n",
       "A1Cresult                   0\n",
       "max_glu_serum               0\n",
       "number_diagnoses            0\n",
       "number_inpatient            0\n",
       "number_emergency            0\n",
       "number_outpatient           0\n",
       "num_medications             0\n",
       "num_procedures              0\n",
       "num_lab_procedures          0\n",
       "medical_specialty           0\n",
       "time_in_hospital            0\n",
       "admission_source_id         0\n",
       "discharge_disposition_id    0\n",
       "admission_type_id           0\n",
       "age                         0\n",
       "gender                      0\n",
       "glyburide                   0\n",
       "tolbutamide                 0\n",
       "pioglitazone                0\n",
       "metformin-pioglitazone      0\n",
       "clustering4                 0\n",
       "clustering3                 0\n",
       "t_diag                      0\n",
       "s_diag                      0\n",
       "f_diag                      0\n",
       "coverByInsurance            0\n",
       "medicaid/medicare           0\n",
       "self_pay                    0\n",
       "diabetesMed                 0\n",
       "change                      0\n",
       "metformin-rosiglitazone     0\n",
       "rosiglitazone               0\n",
       "glimepiride-pioglitazone    0\n",
       "glipizide-metformin         0\n",
       "glyburide-metformin         0\n",
       "insulin                     0\n",
       "citoglipton                 0\n",
       "examide                     0\n",
       "tolazamide                  0\n",
       "troglitazone                0\n",
       "miglitol                    0\n",
       "acarbose                    0\n",
       "race                        0\n",
       "dtype: int64"
      ]
     },
     "execution_count": 141,
     "metadata": {},
     "output_type": "execute_result"
    }
   ],
   "source": [
    "total = readmit.isna().sum().sort_values(ascending=False)\n",
    "total"
   ]
  },
  {
   "cell_type": "code",
   "execution_count": 27,
   "metadata": {},
   "outputs": [
    {
     "data": {
      "text/plain": [
       "Index(['patient_nbr', 'race', 'gender', 'age', 'admission_type_id',\n",
       "       'discharge_disposition_id', 'admission_source_id', 'time_in_hospital',\n",
       "       'medical_specialty', 'num_lab_procedures', 'num_procedures',\n",
       "       'num_medications', 'number_outpatient', 'number_emergency',\n",
       "       'number_inpatient', 'number_diagnoses', 'max_glu_serum', 'A1Cresult',\n",
       "       'metformin', 'repaglinide', 'nateglinide', 'chlorpropamide',\n",
       "       'glimepiride', 'acetohexamide', 'glipizide', 'glyburide', 'tolbutamide',\n",
       "       'pioglitazone', 'rosiglitazone', 'acarbose', 'miglitol', 'troglitazone',\n",
       "       'tolazamide', 'examide', 'citoglipton', 'insulin',\n",
       "       'glyburide-metformin', 'glipizide-metformin',\n",
       "       'glimepiride-pioglitazone', 'metformin-rosiglitazone',\n",
       "       'metformin-pioglitazone', 'change', 'diabetesMed', 'readmitin30days',\n",
       "       'diabetic', 'f_diag', 's_diag', 't_diag', 'self_pay',\n",
       "       'medicaid/medicare', 'coverByInsurance'],\n",
       "      dtype='object')"
      ]
     },
     "execution_count": 27,
     "metadata": {},
     "output_type": "execute_result"
    }
   ],
   "source": [
    "r_names = redmit.columns\n",
    "for i in r_names:\n",
    "    label = preprocessing.LabelEncoder()\n",
    "    redmit[i] = label.fit_transform(redmit[i])\n",
    "redmit.columns"
   ]
  },
  {
   "cell_type": "code",
   "execution_count": 31,
   "metadata": {},
   "outputs": [
    {
     "data": {
      "text/plain": [
       "['patient_nbr',\n",
       " 'race',\n",
       " 'gender',\n",
       " 'age',\n",
       " 'admission_type_id',\n",
       " 'discharge_disposition_id',\n",
       " 'admission_source_id',\n",
       " 'time_in_hospital',\n",
       " 'medical_specialty',\n",
       " 'num_lab_procedures',\n",
       " 'num_procedures',\n",
       " 'num_medications',\n",
       " 'number_outpatient',\n",
       " 'number_emergency',\n",
       " 'number_inpatient',\n",
       " 'number_diagnoses',\n",
       " 'max_glu_serum',\n",
       " 'A1Cresult',\n",
       " 'metformin',\n",
       " 'repaglinide',\n",
       " 'nateglinide',\n",
       " 'chlorpropamide',\n",
       " 'glimepiride',\n",
       " 'acetohexamide',\n",
       " 'glipizide',\n",
       " 'glyburide',\n",
       " 'tolbutamide',\n",
       " 'pioglitazone',\n",
       " 'rosiglitazone',\n",
       " 'acarbose',\n",
       " 'miglitol',\n",
       " 'troglitazone',\n",
       " 'tolazamide',\n",
       " 'examide',\n",
       " 'citoglipton',\n",
       " 'insulin',\n",
       " 'glyburide-metformin',\n",
       " 'glipizide-metformin',\n",
       " 'glimepiride-pioglitazone',\n",
       " 'metformin-rosiglitazone',\n",
       " 'metformin-pioglitazone',\n",
       " 'change',\n",
       " 'diabetesMed',\n",
       " 'diabetic',\n",
       " 'f_diag',\n",
       " 's_diag',\n",
       " 't_diag',\n",
       " 'self_pay',\n",
       " 'medicaid/medicare',\n",
       " 'coverByInsurance']"
      ]
     },
     "execution_count": 31,
     "metadata": {},
     "output_type": "execute_result"
    }
   ],
   "source": [
    "x_names_list = []\n",
    "for i in r_names:\n",
    "    if i != 'readmitin30days':\n",
    "        x_names_list.append(i)\n",
    "#x = redmit[r_names[1:-1]]\n",
    "x_names_list\n"
   ]
  },
  {
   "cell_type": "code",
   "execution_count": 154,
   "metadata": {},
   "outputs": [],
   "source": [
    "\n",
    "names = readmit.columns[:-1]\n",
    "names\n",
    "x = readmit[names]\n",
    "y = readmit['target']\n",
    "#x\n",
    "#y"
   ]
  },
  {
   "cell_type": "code",
   "execution_count": 201,
   "metadata": {},
   "outputs": [
    {
     "data": {
      "text/plain": [
       "Index(['race', 'gender', 'age', 'admission_type_id',\n",
       "       'discharge_disposition_id', 'admission_source_id', 'time_in_hospital',\n",
       "       'medical_specialty', 'num_lab_procedures', 'num_procedures',\n",
       "       'num_medications', 'number_outpatient', 'number_emergency',\n",
       "       'number_inpatient', 'number_diagnoses', 'max_glu_serum', 'A1Cresult',\n",
       "       'metformin', 'repaglinide', 'nateglinide', 'chlorpropamide',\n",
       "       'glimepiride', 'acetohexamide', 'glipizide', 'glyburide', 'tolbutamide',\n",
       "       'pioglitazone', 'rosiglitazone', 'acarbose', 'miglitol', 'troglitazone',\n",
       "       'tolazamide', 'examide', 'citoglipton', 'insulin',\n",
       "       'glyburide-metformin', 'glipizide-metformin',\n",
       "       'glimepiride-pioglitazone', 'metformin-rosiglitazone',\n",
       "       'metformin-pioglitazone', 'change', 'diabetesMed', 'self_pay',\n",
       "       'medicaid/medicare', 'coverByInsurance', 'f_diag', 's_diag', 't_diag',\n",
       "       'clustering3', 'clustering4', 'clustering2'],\n",
       "      dtype='object')"
      ]
     },
     "execution_count": 201,
     "metadata": {},
     "output_type": "execute_result"
    }
   ],
   "source": [
    "x_train, x_test, y_train, y_test = ms.train_test_split(x, y, train_size=0.5, test_size=0.5)\n",
    "x_train.shape\n",
    "x_train.columns"
   ]
  },
  {
   "cell_type": "code",
   "execution_count": 172,
   "metadata": {},
   "outputs": [
    {
     "data": {
      "text/plain": [
       "PCA(copy=True, iterated_power='auto', n_components=None, random_state=None,\n",
       "  svd_solver='auto', tol=0.0, whiten=False)"
      ]
     },
     "execution_count": 172,
     "metadata": {},
     "output_type": "execute_result"
    }
   ],
   "source": [
    "from sklearn.decomposition import PCA\n",
    "pca = PCA()\n",
    "pca.fit(x_train)"
   ]
  },
  {
   "cell_type": "code",
   "execution_count": 173,
   "metadata": {},
   "outputs": [
    {
     "data": {
      "text/plain": [
       "51"
      ]
     },
     "execution_count": 173,
     "metadata": {},
     "output_type": "execute_result"
    }
   ],
   "source": [
    "pca.explained_variance_ratio_\n",
    "pca.n_components_\n",
    "pca.n_features_"
   ]
  },
  {
   "cell_type": "code",
   "execution_count": 174,
   "metadata": {},
   "outputs": [
    {
     "data": {
      "text/plain": [
       "array([5.22908555e-01, 2.38175408e-01, 8.24043544e-02, 3.53353303e-02,\n",
       "       3.02255740e-02, 2.18009682e-02, 1.96909204e-02, 1.55505992e-02,\n",
       "       8.44546509e-03, 5.03446215e-03, 3.22529667e-03, 3.00876078e-03,\n",
       "       2.51293941e-03, 2.12338447e-03, 1.86754383e-03, 1.37829676e-03,\n",
       "       1.09117656e-03, 1.07757080e-03, 9.45993924e-04, 4.99873475e-04,\n",
       "       4.41563394e-04, 3.40824538e-04, 3.24246139e-04, 3.09169309e-04,\n",
       "       1.98035637e-04, 1.78151931e-04, 1.39231061e-04, 1.22569197e-04,\n",
       "       1.22123503e-04, 1.19989520e-04, 9.65166676e-05, 7.41708241e-05,\n",
       "       7.09488814e-05, 6.84776397e-05, 4.23917735e-05, 2.23489848e-05,\n",
       "       1.00224311e-05, 9.57365999e-06, 4.32437307e-06, 1.29329707e-06,\n",
       "       5.43725319e-07, 4.66073028e-07, 2.84928725e-07, 1.81224621e-07,\n",
       "       7.77322143e-08, 2.40665151e-33, 2.40665151e-33, 2.40665151e-33,\n",
       "       2.40665151e-33, 2.40665151e-33, 2.40665151e-33])"
      ]
     },
     "execution_count": 174,
     "metadata": {},
     "output_type": "execute_result"
    }
   ],
   "source": [
    "pca.explained_variance_ratio_"
   ]
  },
  {
   "cell_type": "code",
   "execution_count": 186,
   "metadata": {},
   "outputs": [
    {
     "name": "stdout",
     "output_type": "stream",
     "text": [
      "7 0.9508183018663204\n"
     ]
    }
   ],
   "source": [
    "ratio = 0\n",
    "num = 0\n",
    "for i in pca.explained_variance_ratio_:\n",
    "    if ratio < 0.95:\n",
    "        ratio += i\n",
    "        num += 1\n",
    "print(num,ratio)"
   ]
  },
  {
   "cell_type": "code",
   "execution_count": 176,
   "metadata": {},
   "outputs": [
    {
     "data": {
      "image/png": "[encoded data removed]",
      "text/plain": [
       "<Figure size 432x288 with 1 Axes>"
      ]
     },
     "metadata": {},
     "output_type": "display_data"
    }
   ],
   "source": [
    "pca.set_params(n_components=None)\n",
    "pca.fit(x_train)\n",
    "plt.plot(range(51), pca.explained_variance_ratio_)\n",
    "plt.scatter(range(51), pca.explained_variance_ratio_)\n",
    "plt.xlabel('ith components')\n",
    "plt.ylabel('Percentage of Variance')\n",
    "plt.show()\n"
   ]
  },
  {
   "cell_type": "code",
   "execution_count": 177,
   "metadata": {},
   "outputs": [
    {
     "data": {
      "image/png": "[encoded data removed]",
      "text/plain": [
       "<Figure size 432x288 with 1 Axes>"
      ]
     },
     "metadata": {},
     "output_type": "display_data"
    }
   ],
   "source": [
    "plt.scatter(range(0, 51), np.cumsum(pca.explained_variance_ratio_))\n",
    "plt.plot(range(0, 51), np.cumsum(pca.explained_variance_ratio_))\n",
    "plt.xlabel('Number of components')\n",
    "plt.ylabel('Cumulative percentage of variance')\n",
    "plt.xlim(0, 51)\n",
    "plt.show()"
   ]
  },
  {
   "cell_type": "code",
   "execution_count": 199,
   "metadata": {},
   "outputs": [],
   "source": [
    "from sklearn.naive_bayes import GaussianNB, BernoulliNB"
   ]
  },
  {
   "cell_type": "code",
   "execution_count": 205,
   "metadata": {},
   "outputs": [
    {
     "data": {
      "text/plain": [
       "0.11713145844388106"
      ]
     },
     "execution_count": 205,
     "metadata": {},
     "output_type": "execute_result"
    }
   ],
   "source": [
    "NB = GaussianNB()\n",
    "#NB.set_params(binarize = 4.22)\n",
    "NB.fit(x_train, y_train)\n",
    "NB.score(x_train, y_train)"
   ]
  },
  {
   "cell_type": "code",
   "execution_count": 207,
   "metadata": {},
   "outputs": [
    {
     "name": "stdout",
     "output_type": "stream",
     "text": [
      "ROC-AUC 0.500088350712616\n"
     ]
    }
   ],
   "source": [
    "print('ROC-AUC', roc_auc_score(y_score=NB.predict(x_test), y_true=y_test))"
   ]
  },
  {
   "cell_type": "code",
   "execution_count": 191,
   "metadata": {},
   "outputs": [
    {
     "data": {
      "text/plain": [
       "array([[ 0.03447705,  0.48788134],\n",
       "       [ 0.20329154, -0.2381831 ],\n",
       "       [-1.93495213,  2.9741654 ],\n",
       "       ...,\n",
       "       [-2.06964043, -0.28684252],\n",
       "       [ 0.23935151, -0.27259259],\n",
       "       [ 0.71321879,  0.01212907]])"
      ]
     },
     "execution_count": 191,
     "metadata": {},
     "output_type": "execute_result"
    }
   ],
   "source": [
    "n_components=7\n",
    "pca = PCA(n_components=n_components, svd_solver='randomized', whiten=True)\n",
    "pca.fit(x_train)\n",
    "x_train_scale7 = pca.transform(x_train)\n",
    "pca.fit(x_test)\n",
    "x_test_scale7 = pca.transform(x_test)\n",
    "x_test_scale7"
   ]
  },
  {
   "cell_type": "code",
   "execution_count": 192,
   "metadata": {},
   "outputs": [
    {
     "name": "stdout",
     "output_type": "stream",
     "text": [
      "The highest accuracy is: 0.8891574789222334\n",
      "The corresponding threshold is: 4.2211055276381915\n"
     ]
    }
   ],
   "source": [
    "accuracy = []\n",
    "line = np.linspace(start=0, stop=20, num=200)\n",
    "for i in line:\n",
    "    NB.set_params(binarize = i)\n",
    "    NB.fit(x_train_scale7, y_train)\n",
    "    accuracy.append(NB.score(x_train_scale7, y_train))\n",
    "    \n",
    "accuracy = np.array(accuracy)\n",
    "print(\"The highest accuracy is: \" + str(accuracy.max()))\n",
    "print(\"The corresponding threshold is: \" + str(line[accuracy.argmax()]))"
   ]
  },
  {
   "cell_type": "code",
   "execution_count": 115,
   "metadata": {},
   "outputs": [
    {
     "name": "stdout",
     "output_type": "stream",
     "text": [
      "[0.         0.08080808 0.16161616 0.24242424 0.32323232 0.4040404\n",
      " 0.48484848 0.56565657 0.64646465 0.72727273 0.80808081 0.88888889\n",
      " 0.96969697 1.05050505 1.13131313 1.21212121 1.29292929 1.37373737\n",
      " 1.45454545 1.53535354 1.61616162 1.6969697  1.77777778 1.85858586\n",
      " 1.93939394 2.02020202 2.1010101  2.18181818 2.26262626 2.34343434\n",
      " 2.42424242 2.50505051 2.58585859 2.66666667 2.74747475 2.82828283\n",
      " 2.90909091 2.98989899 3.07070707 3.15151515 3.23232323 3.31313131\n",
      " 3.39393939 3.47474747 3.55555556 3.63636364 3.71717172 3.7979798\n",
      " 3.87878788 3.95959596 4.04040404 4.12121212 4.2020202  4.28282828\n",
      " 4.36363636 4.44444444 4.52525253 4.60606061 4.68686869 4.76767677\n",
      " 4.84848485 4.92929293 5.01010101 5.09090909 5.17171717 5.25252525\n",
      " 5.33333333 5.41414141 5.49494949 5.57575758 5.65656566 5.73737374\n",
      " 5.81818182 5.8989899  5.97979798 6.06060606 6.14141414 6.22222222\n",
      " 6.3030303  6.38383838 6.46464646 6.54545455 6.62626263 6.70707071\n",
      " 6.78787879 6.86868687 6.94949495 7.03030303 7.11111111 7.19191919\n",
      " 7.27272727 7.35353535 7.43434343 7.51515152 7.5959596  7.67676768\n",
      " 7.75757576 7.83838384 7.91919192 8.        ]\n"
     ]
    }
   ],
   "source": [
    "line = np.linspace(start=0, stop=10, num=100)\n",
    "print(line)"
   ]
  },
  {
   "cell_type": "code",
   "execution_count": 209,
   "metadata": {},
   "outputs": [],
   "source": [
    "from sklearn.discriminant_analysis import LinearDiscriminantAnalysis"
   ]
  },
  {
   "cell_type": "code",
   "execution_count": 218,
   "metadata": {},
   "outputs": [
    {
     "name": "stderr",
     "output_type": "stream",
     "text": [
      "/Users/heqianli/anaconda3/lib/python3.7/site-packages/sklearn/discriminant_analysis.py:388: UserWarning: Variables are collinear.\n",
      "  warnings.warn(\"Variables are collinear.\")\n"
     ]
    },
    {
     "data": {
      "text/plain": [
       "LinearDiscriminantAnalysis(n_components=None, priors=None, shrinkage=None,\n",
       "              solver='svd', store_covariance=False, tol=0.0001)"
      ]
     },
     "execution_count": 218,
     "metadata": {},
     "output_type": "execute_result"
    }
   ],
   "source": [
    "LDA = LinearDiscriminantAnalysis()\n",
    "LDA.fit(x_train, y_train)\n"
   ]
  },
  {
   "cell_type": "code",
   "execution_count": 242,
   "metadata": {},
   "outputs": [
    {
     "data": {
      "text/plain": [
       "(90409, 52)"
      ]
     },
     "execution_count": 242,
     "metadata": {},
     "output_type": "execute_result"
    }
   ],
   "source": [
    "readmit_majority = readmit[readmit.target==0]\n",
    "readmit_minority = readmit[readmit.target==1]\n",
    "readmit_majority.shape\n",
    "#readmit_minority_upsampled = resample(readmit_minority, \n",
    "                                 #replace=True,     # sample with replacement\n",
    "                                 #n_samples=576,    # to match majority class\n",
    "                                 #random_state=123)"
   ]
  },
  {
   "cell_type": "code",
   "execution_count": null,
   "metadata": {},
   "outputs": [],
   "source": []
  },
  {
   "cell_type": "code",
   "execution_count": 219,
   "metadata": {},
   "outputs": [
    {
     "data": {
      "text/plain": [
       "0.5162968130664114"
      ]
     },
     "execution_count": 219,
     "metadata": {},
     "output_type": "execute_result"
    }
   ],
   "source": [
    "roc_auc_score(y_score=LDA.predict(x_test), y_true=y_test)"
   ]
  },
  {
   "cell_type": "code",
   "execution_count": 225,
   "metadata": {},
   "outputs": [],
   "source": [
    "from sklearn.linear_model import LogisticRegression"
   ]
  },
  {
   "cell_type": "code",
   "execution_count": 237,
   "metadata": {},
   "outputs": [
    {
     "name": "stderr",
     "output_type": "stream",
     "text": [
      "/Users/heqianli/anaconda3/lib/python3.7/site-packages/sklearn/linear_model/logistic.py:433: FutureWarning: Default solver will be changed to 'lbfgs' in 0.22. Specify a solver to silence this warning.\n",
      "  FutureWarning)\n"
     ]
    },
    {
     "data": {
      "text/plain": [
       "50883"
      ]
     },
     "execution_count": 237,
     "metadata": {},
     "output_type": "execute_result"
    }
   ],
   "source": [
    "lg = LogisticRegression()\n",
    "lg.fit(x_train, y_train)\n",
    "predictprobs = lg.predict_proba(x_train)\n",
    "predictvalues = lg.predict(x_train)\n",
    "a = y_train.values\n",
    "\n",
    "predicttest = lg.predict(x_test)\n",
    "predicttestprobs = lg.predict_proba(x_test)\n",
    "predictprobs\n",
    "predicttest\n",
    "back = 0\n",
    "no = 0\n",
    "for i in predicttest:\n",
    "    if i == 1:\n",
    "        back += 1\n",
    "    elif i == 0:\n",
    "        no += 1\n",
    "back/len(predicttest)\n",
    "len(predicttestprobs)"
   ]
  },
  {
   "cell_type": "code",
   "execution_count": 229,
   "metadata": {},
   "outputs": [
    {
     "data": {
      "text/plain": [
       "0.5082952790721853"
      ]
     },
     "execution_count": 229,
     "metadata": {},
     "output_type": "execute_result"
    }
   ],
   "source": [
    "roc_auc_score(y_score=predicttest, y_true=y_test)"
   ]
  },
  {
   "cell_type": "code",
   "execution_count": 240,
   "metadata": {},
   "outputs": [
    {
     "data": {
      "text/plain": [
       "0    45158\n",
       "1     5725\n",
       "Name: target, dtype: int64"
      ]
     },
     "execution_count": 240,
     "metadata": {},
     "output_type": "execute_result"
    }
   ],
   "source": [
    "y_train.value_counts()"
   ]
  },
  {
   "cell_type": "code",
   "execution_count": null,
   "metadata": {},
   "outputs": [],
   "source": []
  }
 ],
 "metadata": {
  "kernelspec": {
   "display_name": "Python 3",
   "language": "python",
   "name": "python3"
  },
  "language_info": {
   "codemirror_mode": {
    "name": "ipython",
    "version": 3
   },
   "file_extension": ".py",
   "mimetype": "text/x-python",
   "name": "python",
   "nbconvert_exporter": "python",
   "pygments_lexer": "ipython3",
   "version": "3.7.1"
  }
 },
 "nbformat": 4,
 "nbformat_minor": 2
}
