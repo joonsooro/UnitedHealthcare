{
 "cells": [
  {
   "cell_type": "code",
   "execution_count": 1,
   "metadata": {},
   "outputs": [],
   "source": [
    "import pandas as pd\n",
    "import numpy as np\n",
    "from scipy import stats\n",
    "import matplotlib.pyplot as plt\n",
    "import seaborn as sns\n",
    "from sklearn import preprocessing\n",
    "from sklearn.model_selection import train_test_split\n",
    "from sklearn.model_selection import GridSearchCV\n",
    "from sklearn.model_selection import RandomizedSearchCV\n",
    "from sklearn.model_selection import KFold\n",
    "import random\n",
    "import re\n",
    "from sklearn.ensemble import GradientBoostingClassifier\n",
    "from sklearn.metrics import classification_report, confusion_matrix, roc_curve, auc, recall_score,roc_auc_score\n",
    "from sklearn import preprocessing"
   ]
  },
  {
   "cell_type": "code",
   "execution_count": 2,
   "metadata": {},
   "outputs": [
    {
     "name": "stdout",
     "output_type": "stream",
     "text": [
      "(84432, 44)\n"
     ]
    },
    {
     "data": {
      "text/plain": [
       "Index(['race', 'gender', 'age', 'admission_type_id', 'time_in_hospital',\n",
       "       'num_lab_procedures', 'num_procedures', 'num_medications',\n",
       "       'number_outpatient', 'number_emergency', 'number_inpatient',\n",
       "       'number_diagnoses', 'max_glu_serum', 'A1Cresult', 'metformin',\n",
       "       'repaglinide', 'nateglinide', 'chlorpropamide', 'acetohexamide',\n",
       "       'glipizide', 'glyburide', 'tolbutamide', 'pioglitazone',\n",
       "       'rosiglitazone', 'acarbose', 'miglitol', 'citoglipton', 'insulin',\n",
       "       'metformin-pioglitazone', 'change', 'diabetesMed', 'target', 'self_pay',\n",
       "       'medicaid/medicare', 'coverByInsurance', 'f_diag', 's_diag', 't_diag',\n",
       "       'clustering3', 'clustering4', 'clustering2', 'medical_specialty_new',\n",
       "       'discharge_id', 'admission_id'],\n",
       "      dtype='object')"
      ]
     },
     "execution_count": 2,
     "metadata": {},
     "output_type": "execute_result"
    }
   ],
   "source": [
    "data = pd.read_csv('./final_data/final_data.csv')\n",
    "print(data.shape)\n",
    "data.columns"
   ]
  },
  {
   "cell_type": "code",
   "execution_count": 3,
   "metadata": {},
   "outputs": [],
   "source": [
    "y = data['target']"
   ]
  },
  {
   "cell_type": "code",
   "execution_count": 4,
   "metadata": {},
   "outputs": [],
   "source": [
    "data['admission_type_id'] = data['admission_type_id'].apply(str)"
   ]
  },
  {
   "cell_type": "code",
   "execution_count": 5,
   "metadata": {},
   "outputs": [
    {
     "data": {
      "text/plain": [
       "race                      object\n",
       "gender                    object\n",
       "age                       object\n",
       "admission_type_id         object\n",
       "time_in_hospital           int64\n",
       "num_lab_procedures         int64\n",
       "num_procedures             int64\n",
       "num_medications            int64\n",
       "number_outpatient          int64\n",
       "number_emergency           int64\n",
       "number_inpatient           int64\n",
       "number_diagnoses           int64\n",
       "max_glu_serum             object\n",
       "A1Cresult                 object\n",
       "metformin                 object\n",
       "repaglinide               object\n",
       "nateglinide               object\n",
       "chlorpropamide            object\n",
       "acetohexamide             object\n",
       "glipizide                 object\n",
       "glyburide                 object\n",
       "tolbutamide               object\n",
       "pioglitazone              object\n",
       "rosiglitazone             object\n",
       "acarbose                  object\n",
       "miglitol                  object\n",
       "citoglipton               object\n",
       "insulin                   object\n",
       "metformin-pioglitazone    object\n",
       "change                    object\n",
       "diabetesMed               object\n",
       "target                     int64\n",
       "self_pay                   int64\n",
       "medicaid/medicare          int64\n",
       "coverByInsurance           int64\n",
       "f_diag                    object\n",
       "s_diag                    object\n",
       "t_diag                    object\n",
       "clustering3                int64\n",
       "clustering4                int64\n",
       "clustering2                int64\n",
       "medical_specialty_new     object\n",
       "discharge_id              object\n",
       "admission_id              object\n",
       "dtype: object"
      ]
     },
     "execution_count": 5,
     "metadata": {},
     "output_type": "execute_result"
    }
   ],
   "source": [
    "data.dtypes"
   ]
  },
  {
   "cell_type": "code",
   "execution_count": 6,
   "metadata": {},
   "outputs": [],
   "source": [
    "cols_num = ['time_in_hospital', 'num_lab_procedures', 'num_procedures', 'num_medications', 'number_emergency', 'number_inpatient',\n",
    "           'number_diagnoses']"
   ]
  },
  {
   "cell_type": "code",
   "execution_count": 7,
   "metadata": {},
   "outputs": [],
   "source": [
    "data = data.drop(['target'], axis = 1)"
   ]
  },
  {
   "cell_type": "code",
   "execution_count": 8,
   "metadata": {},
   "outputs": [],
   "source": [
    "dummied_features = pd.get_dummies(data, drop_first = True)"
   ]
  },
  {
   "cell_type": "code",
   "execution_count": 9,
   "metadata": {},
   "outputs": [
    {
     "data": {
      "text/plain": [
       "Index(['time_in_hospital', 'num_lab_procedures', 'num_procedures',\n",
       "       'num_medications', 'number_outpatient', 'number_emergency',\n",
       "       'number_inpatient', 'number_diagnoses', 'self_pay', 'medicaid/medicare',\n",
       "       ...\n",
       "       'discharge_id_5', 'discharge_id_6', 'discharge_id_Other',\n",
       "       'admission_id_17', 'admission_id_2', 'admission_id_4', 'admission_id_5',\n",
       "       'admission_id_6', 'admission_id_7', 'admission_id_Other'],\n",
       "      dtype='object', length=156)"
      ]
     },
     "execution_count": 9,
     "metadata": {},
     "output_type": "execute_result"
    }
   ],
   "source": [
    "dummied_features.columns"
   ]
  },
  {
   "cell_type": "code",
   "execution_count": 10,
   "metadata": {},
   "outputs": [
    {
     "data": {
      "text/plain": [
       "time_in_hospital                                      int64\n",
       "num_lab_procedures                                    int64\n",
       "num_procedures                                        int64\n",
       "num_medications                                       int64\n",
       "number_outpatient                                     int64\n",
       "number_emergency                                      int64\n",
       "number_inpatient                                      int64\n",
       "number_diagnoses                                      int64\n",
       "self_pay                                              int64\n",
       "medicaid/medicare                                     int64\n",
       "coverByInsurance                                      int64\n",
       "clustering3                                           int64\n",
       "clustering4                                           int64\n",
       "clustering2                                           int64\n",
       "race_Asian                                            uint8\n",
       "race_Caucasian                                        uint8\n",
       "race_Hispanic                                         uint8\n",
       "race_Other                                            uint8\n",
       "gender_Male                                           uint8\n",
       "gender_Unknown/Invalid                                uint8\n",
       "age_[10-20)                                           uint8\n",
       "age_[20-30)                                           uint8\n",
       "age_[30-40)                                           uint8\n",
       "age_[40-50)                                           uint8\n",
       "age_[50-60)                                           uint8\n",
       "age_[60-70)                                           uint8\n",
       "age_[70-80)                                           uint8\n",
       "age_[80-90)                                           uint8\n",
       "age_[90-100)                                          uint8\n",
       "admission_type_id_2                                   uint8\n",
       "                                                      ...  \n",
       "t_diag_infectious and parasitic diseases              uint8\n",
       "t_diag_injury and poisoning                           uint8\n",
       "t_diag_mental disorders                               uint8\n",
       "t_diag_neoplasms                                      uint8\n",
       "t_diag_symptoms, signs, and ill-defined conditions    uint8\n",
       "medical_specialty_new_Emergency/Trauma                uint8\n",
       "medical_specialty_new_Family/GeneralPractice          uint8\n",
       "medical_specialty_new_InternalMedicine                uint8\n",
       "medical_specialty_new_Nephrology                      uint8\n",
       "medical_specialty_new_No                              uint8\n",
       "medical_specialty_new_Orthopedics                     uint8\n",
       "medical_specialty_new_Orthopedics-Reconstructive      uint8\n",
       "medical_specialty_new_Other                           uint8\n",
       "medical_specialty_new_Surgery-General                 uint8\n",
       "discharge_id_18                                       uint8\n",
       "discharge_id_2                                        uint8\n",
       "discharge_id_22                                       uint8\n",
       "discharge_id_25                                       uint8\n",
       "discharge_id_3                                        uint8\n",
       "discharge_id_4                                        uint8\n",
       "discharge_id_5                                        uint8\n",
       "discharge_id_6                                        uint8\n",
       "discharge_id_Other                                    uint8\n",
       "admission_id_17                                       uint8\n",
       "admission_id_2                                        uint8\n",
       "admission_id_4                                        uint8\n",
       "admission_id_5                                        uint8\n",
       "admission_id_6                                        uint8\n",
       "admission_id_7                                        uint8\n",
       "admission_id_Other                                    uint8\n",
       "Length: 156, dtype: object"
      ]
     },
     "execution_count": 10,
     "metadata": {},
     "output_type": "execute_result"
    }
   ],
   "source": [
    "dummied_features.dtypes"
   ]
  },
  {
   "cell_type": "code",
   "execution_count": 11,
   "metadata": {},
   "outputs": [],
   "source": [
    "X_train, X_test, y_train, y_test = train_test_split(dummied_features, y, test_size=0.3, random_state=42, stratify=y, shuffle = True)"
   ]
  },
  {
   "cell_type": "code",
   "execution_count": 12,
   "metadata": {},
   "outputs": [],
   "source": [
    "scaler = preprocessing.StandardScaler()"
   ]
  },
  {
   "cell_type": "code",
   "execution_count": 13,
   "metadata": {},
   "outputs": [
    {
     "name": "stderr",
     "output_type": "stream",
     "text": [
      "C:\\Users\\Leo\\Anaconda3\\lib\\site-packages\\sklearn\\preprocessing\\data.py:625: DataConversionWarning: Data with input dtype int64 were all converted to float64 by StandardScaler.\n",
      "  return self.partial_fit(X, y)\n"
     ]
    },
    {
     "data": {
      "text/plain": [
       "StandardScaler(copy=True, with_mean=True, with_std=True)"
      ]
     },
     "execution_count": 13,
     "metadata": {},
     "output_type": "execute_result"
    }
   ],
   "source": [
    "scaler.fit(X_train[cols_num])"
   ]
  },
  {
   "cell_type": "code",
   "execution_count": 14,
   "metadata": {},
   "outputs": [],
   "source": [
    "weight = pd.Series(np.zeros(len(y_train.index)), index=y_train.index)\n",
    "for i in y_train.index:\n",
    "    if y_train[i] == 1:\n",
    "        weight[i] = 9\n",
    "    elif y_train[i] == 0:\n",
    "        weight[i] = 1"
   ]
  },
  {
   "cell_type": "code",
   "execution_count": 15,
   "metadata": {},
   "outputs": [
    {
     "name": "stderr",
     "output_type": "stream",
     "text": [
      "C:\\Users\\Leo\\Anaconda3\\lib\\site-packages\\ipykernel_launcher.py:1: DataConversionWarning: Data with input dtype int64 were all converted to float64 by StandardScaler.\n",
      "  \"\"\"Entry point for launching an IPython kernel.\n",
      "C:\\Users\\Leo\\Anaconda3\\lib\\site-packages\\ipykernel_launcher.py:1: SettingWithCopyWarning: \n",
      "A value is trying to be set on a copy of a slice from a DataFrame.\n",
      "Try using .loc[row_indexer,col_indexer] = value instead\n",
      "\n",
      "See the caveats in the documentation: http://pandas.pydata.org/pandas-docs/stable/indexing.html#indexing-view-versus-copy\n",
      "  \"\"\"Entry point for launching an IPython kernel.\n",
      "C:\\Users\\Leo\\Anaconda3\\lib\\site-packages\\pandas\\core\\indexing.py:543: SettingWithCopyWarning: \n",
      "A value is trying to be set on a copy of a slice from a DataFrame.\n",
      "Try using .loc[row_indexer,col_indexer] = value instead\n",
      "\n",
      "See the caveats in the documentation: http://pandas.pydata.org/pandas-docs/stable/indexing.html#indexing-view-versus-copy\n",
      "  self.obj[item] = s\n"
     ]
    }
   ],
   "source": [
    "X_test[cols_num] = scaler.transform(X_test[cols_num])"
   ]
  },
  {
   "cell_type": "code",
   "execution_count": 16,
   "metadata": {},
   "outputs": [],
   "source": [
    "import xgboost as xgb"
   ]
  },
  {
   "cell_type": "code",
   "execution_count": 17,
   "metadata": {},
   "outputs": [],
   "source": [
    "clf_xgb = xgb.XGBClassifier(objective = 'binary:logistic', class_weight = 'balanced')\n",
    "param_dist = {'n_estimators': [1000,2000,3000],\n",
    "              'learning_rate': [0.01, 0.025, 0.05, 0.075, 0.1, 0.15, 0.2],\n",
    "              'subsample': [0.5, 0.618, 0.8, 0.85, 0.9, 0.95, 1.0],\n",
    "              'max_depth': [2,3,5],\n",
    "              'max_feature' : [\"sqrt\", \"auto\"],\n",
    "              \"min_samples_split\": [2,3,5,7],\n",
    "              \"min_samples_leaf\": [2,3,5,7]\n",
    "             }\n",
    "numFolds = 3\n",
    "clf = RandomizedSearchCV(clf_xgb, \n",
    "                         param_distributions = param_dist,\n",
    "                         cv = numFolds,  \n",
    "                         n_iter = 10,  \n",
    "                         scoring = 'roc_auc')"
   ]
  },
  {
   "cell_type": "code",
   "execution_count": 18,
   "metadata": {},
   "outputs": [],
   "source": [
    "X_train = X_train.rename({\"max_glu_serum_>300\":\"max_glu_serum_greater300\", \"A1Cresult_>8\":\"A1Cresult_greater8\"}, axis='columns')"
   ]
  },
  {
   "cell_type": "code",
   "execution_count": 19,
   "metadata": {},
   "outputs": [],
   "source": [
    "X_train.columns = X_train.columns.str.replace(\",\", \"\")"
   ]
  },
  {
   "cell_type": "code",
   "execution_count": 20,
   "metadata": {},
   "outputs": [],
   "source": [
    "X_train.columns = X_train.columns.str.replace(\" \", \"_\")"
   ]
  },
  {
   "cell_type": "code",
   "execution_count": 21,
   "metadata": {},
   "outputs": [],
   "source": [
    "X_train.columns = X_train.columns.str.replace(\"[\", \"\")"
   ]
  },
  {
   "cell_type": "code",
   "execution_count": 22,
   "metadata": {},
   "outputs": [],
   "source": [
    "X_train.columns = X_train.columns.str.replace(\"]\", \"\")"
   ]
  },
  {
   "cell_type": "code",
   "execution_count": 23,
   "metadata": {},
   "outputs": [],
   "source": [
    "X_test.columns = X_train.columns.str.replace(\",\", \"\")"
   ]
  },
  {
   "cell_type": "code",
   "execution_count": 24,
   "metadata": {},
   "outputs": [],
   "source": [
    "X_test.columns = X_train.columns.str.replace(\" \", \"_\")"
   ]
  },
  {
   "cell_type": "code",
   "execution_count": 25,
   "metadata": {},
   "outputs": [],
   "source": [
    "X_test.columns = X_train.columns.str.replace(\"[\", \"\")"
   ]
  },
  {
   "cell_type": "code",
   "execution_count": 26,
   "metadata": {},
   "outputs": [],
   "source": [
    "X_test.columns = X_train.columns.str.replace(\"]\", \"\")"
   ]
  },
  {
   "cell_type": "code",
   "execution_count": null,
   "metadata": {},
   "outputs": [],
   "source": [
    "clf.fit(X_train, y_train, sample_weight = {0:1, 1:9})"
   ]
  },
  {
   "cell_type": "code",
   "execution_count": null,
   "metadata": {},
   "outputs": [],
   "source": [
    "clf.best_params_"
   ]
  },
  {
   "cell_type": "code",
   "execution_count": null,
   "metadata": {},
   "outputs": [],
   "source": [
    "#set best params to xgb\n",
    "#clf_xgb.set()"
   ]
  },
  {
   "cell_type": "code",
   "execution_count": null,
   "metadata": {},
   "outputs": [],
   "source": [
    "#clf_xgb.fit(X_train, y_train, sample_weight = weight)"
   ]
  },
  {
   "cell_type": "code",
   "execution_count": null,
   "metadata": {},
   "outputs": [],
   "source": [
    "#y_score = clf_xgb.predict(X_test)"
   ]
  },
  {
   "cell_type": "code",
   "execution_count": null,
   "metadata": {},
   "outputs": [],
   "source": [
    "#print(roc_auc_score(y_test,y_score))"
   ]
  },
  {
   "cell_type": "code",
   "execution_count": null,
   "metadata": {},
   "outputs": [],
   "source": [
    "print(\"auc train score: \", roc_auc_score(y_train, clf_xgb.predict_proba(X_train)[:,1]))\n",
    "print(\"auc test score: \",roc_auc_score(y_test, clf_xgb.predict_proba(X_test)[:,1]))\n",
    "print(\"recall train score: \",recall_score(y_train, clf_xgb.predict(X_train)))\n",
    "print(\"recall test score: \",recall_score(y_test, clf_xgb.predict(X_test)))\n",
    "print(\"precision train score: \", precision_score(y_train, clf_xgb.predict(X_train)))\n",
    "print(\"precision test score: \",precision_score(y_test, clf_xgb.predict(X_test)))\n",
    "print(\"accuracy train score: \",accuracy_score(y_train, clf_xgb.predict(X_train)))\n",
    "print(\"accuracy test score: \",accuracy_score(y_test, clf_xgb.predict(X_test)))\n",
    "print(confusion_matrix(y_test, clf_xgb.predict(X_test)))"
   ]
  }
 ],
 "metadata": {
  "kernelspec": {
   "display_name": "Python 3",
   "language": "python",
   "name": "python3"
  },
  "language_info": {
   "codemirror_mode": {
    "name": "ipython",
    "version": 3
   },
   "file_extension": ".py",
   "mimetype": "text/x-python",
   "name": "python",
   "nbconvert_exporter": "python",
   "pygments_lexer": "ipython3",
   "version": "3.7.1"
  }
 },
 "nbformat": 4,
 "nbformat_minor": 2
}
