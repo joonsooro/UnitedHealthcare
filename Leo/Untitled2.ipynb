{
 "cells": [
  {
   "cell_type": "code",
   "execution_count": 1,
   "metadata": {},
   "outputs": [],
   "source": [
    "import numpy as np\n",
    "from sklearn.cluster import KMeans\n",
    "data = np.random.rand(100, 3) #生成一个随机数据，样本大小为100, 特征数为3\n",
    "\n",
    "#假如我要构造一个聚类数为3的聚类器\n",
    "estimator = KMeans(n_clusters=3)#构造聚类器\n",
    "estimator.fit(data)#聚类\n",
    "label_pred = estimator.labels_ #获取聚类标签\n",
    "centroids = estimator.cluster_centers_ #获取聚类中心\n",
    "inertia = estimator.inertia_ # 获取聚类准则的总和"
   ]
  },
  {
   "cell_type": "code",
   "execution_count": 2,
   "metadata": {},
   "outputs": [
    {
     "data": {
      "text/plain": [
       "array([0, 1, 0, 0, 1, 1, 1, 0, 2, 2, 0, 2, 0, 0, 1, 1, 2, 0, 1, 2, 2, 2,\n",
       "       0, 2, 2, 2, 2, 0, 1, 1, 2, 1, 2, 2, 1, 1, 0, 1, 0, 0, 2, 2, 1, 2,\n",
       "       0, 0, 2, 2, 2, 2, 1, 2, 1, 0, 1, 2, 0, 1, 1, 1, 2, 2, 0, 1, 1, 2,\n",
       "       2, 2, 2, 1, 1, 1, 0, 1, 2, 0, 2, 0, 0, 2, 0, 1, 2, 1, 0, 0, 0, 0,\n",
       "       1, 1, 0, 1, 2, 0, 2, 0, 2, 2, 1, 2])"
      ]
     },
     "execution_count": 2,
     "metadata": {},
     "output_type": "execute_result"
    }
   ],
   "source": [
    "label_pred"
   ]
  },
  {
   "cell_type": "code",
   "execution_count": 3,
   "metadata": {},
   "outputs": [
    {
     "data": {
      "text/plain": [
       "13.18334453768052"
      ]
     },
     "execution_count": 3,
     "metadata": {},
     "output_type": "execute_result"
    }
   ],
   "source": [
    "inertia"
   ]
  }
 ],
 "metadata": {
  "kernelspec": {
   "display_name": "Python 3",
   "language": "python",
   "name": "python3"
  },
  "language_info": {
   "codemirror_mode": {
    "name": "ipython",
    "version": 3
   },
   "file_extension": ".py",
   "mimetype": "text/x-python",
   "name": "python",
   "nbconvert_exporter": "python",
   "pygments_lexer": "ipython3",
   "version": "3.7.1"
  }
 },
 "nbformat": 4,
 "nbformat_minor": 2
}
